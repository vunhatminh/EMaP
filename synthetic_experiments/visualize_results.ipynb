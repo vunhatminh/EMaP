{
 "cells": [
  {
   "cell_type": "code",
   "execution_count": 1,
   "id": "1acfa7bf-ea67-4362-bd8f-e345ffee036b",
   "metadata": {},
   "outputs": [],
   "source": [
    "import numpy as np\n",
    "import cv2\n",
    "import pickle\n",
    "import matplotlib.pyplot as plt\n",
    "import time\n",
    "import pandas as pd\n",
    "import os\n",
    "import glob\n",
    "import re\n",
    "\n",
    "import seaborn as sns\n",
    "\n",
    "%matplotlib inline\n",
    "\n",
    "sns.set_context(\"paper\")\n",
    "# sns.set_style(\"darkgrid\", {\"axes.facecolor\": \".95\"})\n",
    "# sns.set_style(\"whitegrid\")"
   ]
  },
  {
   "cell_type": "code",
   "execution_count": 2,
   "id": "2ee80732-a753-46b2-a721-c297a3cbee4c",
   "metadata": {},
   "outputs": [],
   "source": [
    "# name = \"spiral\"\n",
    "name = \"circle\"\n",
    "file_name = 'results/' + name\n",
    "with open(file_name, 'rb') as f:\n",
    "    load_result = pickle.load(f)\n",
    "    \n",
    "raw_pd = pd.DataFrame(np.stack(load_result, axis = 0))\n",
    "stat_pd = pd.DataFrame()\n",
    "stat_pd['mean'] = raw_pd.mean()\n",
    "stat_pd['std-error'] = raw_pd.sem()"
   ]
  },
  {
   "cell_type": "code",
   "execution_count": 3,
   "id": "b4856dea-340e-4289-8aa8-14585a8ec346",
   "metadata": {},
   "outputs": [],
   "source": [
    "exp_df = raw_pd\n",
    "\n",
    "mode = 0\n",
    "\n",
    "rename_dict = {0: '$H_0$ G',\n",
    "               1: '$H_1$ G',\n",
    "               2: '$H_0$ P',\n",
    "               3: '$H_1$ P',\n",
    "               4: '$H_0$ O',\n",
    "               5: '$H_1$ O'}\n",
    "if mode == 0:\n",
    "    exp_df = exp_df[[0,2,4]]\n",
    "else:\n",
    "    exp_df = exp_df[[1,3,5]]\n",
    "    \n",
    "exp_df = exp_df.rename(columns = rename_dict)\n"
   ]
  },
  {
   "cell_type": "code",
   "execution_count": 4,
   "id": "0339c8ea-514e-44f2-b82a-49fb534e5fc0",
   "metadata": {},
   "outputs": [
    {
     "data": {
      "image/png": "[encoded data removed]",
      "text/plain": [
       "<Figure size 288x288 with 1 Axes>"
      ]
     },
     "metadata": {},
     "output_type": "display_data"
    }
   ],
   "source": [
    "sns.set(font_scale=1.6)\n",
    "sns.set_style(\"dark\")\n",
    "height = 4\n",
    "width = 4\n",
    "g = sns.catplot(data=exp_df, \n",
    "                kind=\"bar\",   \n",
    "                palette=\"magma\",\n",
    "                alpha=.99,\n",
    "                height=height,\n",
    "                aspect=width/height)\n",
    "filesave = 'viz/viz_' + name + str(mode) + \".png\"\n",
    "\n",
    "# plt.savefig(filesave, transparent=True)"
   ]
  },
  {
   "cell_type": "code",
   "execution_count": null,
   "id": "d80c3319-71e8-4933-80e6-17b1dd3567e7",
   "metadata": {},
   "outputs": [],
   "source": []
  }
 ],
 "metadata": {
  "kernelspec": {
   "display_name": "Python 3 (ipykernel)",
   "language": "python",
   "name": "python3"
  },
  "language_info": {
   "codemirror_mode": {
    "name": "ipython",
    "version": 3
   },
   "file_extension": ".py",
   "mimetype": "text/x-python",
   "name": "python",
   "nbconvert_exporter": "python",
   "pygments_lexer": "ipython3",
   "version": "3.8.15"
  }
 },
 "nbformat": 4,
 "nbformat_minor": 5
}
