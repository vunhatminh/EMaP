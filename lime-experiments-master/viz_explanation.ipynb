{
 "cells": [
  {
   "cell_type": "code",
   "execution_count": 1,
   "id": "2d5c64d7-c279-468a-b307-af5d0bb36a85",
   "metadata": {},
   "outputs": [],
   "source": [
    "import sys\n",
    "import copy\n",
    "sys.path.append('..')\n",
    "import argparse\n",
    "import umap\n",
    "import explainers\n",
    "import evaluate_explanations as Evaluator\n",
    "import parzen_windows\n",
    "import numpy as np\n",
    "import pickle\n",
    "import sklearn\n",
    "from load_datasets import *\n",
    "from sklearn.metrics import accuracy_score\n",
    "\n",
    "import matplotlib.pyplot as plt\n",
    "plt.style.use('seaborn-whitegrid')\n",
    "import numpy as np"
   ]
  },
  {
   "cell_type": "code",
   "execution_count": 2,
   "id": "1b938623-9ff5-4956-9f98-f76cf14c9a1b",
   "metadata": {},
   "outputs": [],
   "source": [
    "parser = argparse.ArgumentParser(description='Evaluate some explanations')\n",
    "parser.add_argument('--dataset', '-d', type=str, required=True,help='dataset name')\n",
    "parser.add_argument('--algorithm', '-a', type=str, required=True, help='algorithm name')\n",
    "parser.add_argument('--feat_only', '-f', type=bool, default=True, help='explaination features in inputs only')  \n",
    "parser.add_argument('--low_dim', '-l', type=bool, default=False, help='EMaP use low dimensional distances')  \n",
    "args = parser.parse_args(\"--dataset multi_polarity_books --algorithm l1logreg --feat_only True --low_dim True \".split())\n",
    "# args = parser.parse_args(\"--dataset multi_polarity_kitchen --algorithm l1logreg --feat_only True --low_dim True \".split())"
   ]
  },
  {
   "cell_type": "code",
   "execution_count": 3,
   "id": "c6041a67-5dc0-460f-8a7d-b08dfeee6435",
   "metadata": {},
   "outputs": [
    {
     "name": "stdout",
     "output_type": "stream",
     "text": [
      "Vectorizing...\n",
      "Done\n",
      "Training...\n",
      "multi_polarity_books\n",
      "Done\n"
     ]
    }
   ],
   "source": [
    "dataset = args.dataset\n",
    "algorithm = args.algorithm\n",
    "feat_only = args.feat_only\n",
    "low_dim = args.low_dim  \n",
    "\n",
    "evaluator = Evaluator.ExplanationEvaluator(classifier_names=[algorithm])\n",
    "evaluator.load_datasets([dataset])\n",
    "evaluator.vectorize_and_train()\n",
    "  \n",
    "rho = 25\n",
    "kernel = lambda d: np.sqrt(np.exp(-(d**2) / rho ** 2))\n",
    "# LIME    \n",
    "lime_explainer = explainers.GeneralizedLocalExplainer(kernel, explainers.data_labels_distances_mapping_text, num_samples=15000, return_mean=False, verbose=False, return_mapped=True)\n",
    "lime_explain_fn = lime_explainer.explain_instance\n",
    "# EMAP\n",
    "emap_explainer = explainers.EMaPLocalExplainer(kernel, \n",
    "                                    base_data = evaluator.train_vectors[dataset].todense(),\n",
    "                                    clf_fn = evaluator.classifiers[dataset][algorithm],\n",
    "                                    low_distance = low_dim,           \n",
    "                                    radius = 1,\n",
    "                                    return_mean=False, \n",
    "                                    verbose=False, \n",
    "                                    return_mapped=False)\n",
    "emap_explain_fn = emap_explainer.explain_instance"
   ]
  },
  {
   "cell_type": "code",
   "execution_count": 4,
   "id": "58ee1e15-1df5-40e5-8e6c-045e6cc3f466",
   "metadata": {},
   "outputs": [],
   "source": [
    "import random\n",
    "import os\n",
    "import re\n",
    "import numpy as np\n",
    "from sklearn.feature_extraction.text import CountVectorizer\n",
    "from sklearn import linear_model\n",
    "from sklearn import tree\n",
    "from sklearn import svm\n",
    "\n",
    "import pandas as pd"
   ]
  },
  {
   "cell_type": "code",
   "execution_count": 5,
   "id": "a662e2f9-bcb6-4ec3-b529-a0a20ca44997",
   "metadata": {},
   "outputs": [],
   "source": [
    "def get_words(line, remove_bigrams=True):\n",
    "    z = [tuple(x.split(':')) for x in re.findall('\\w*?:\\d', line)]\n",
    "    if remove_bigrams:\n",
    "      z = ' '.join([' '.join([x[0]] * int(x[1])) for x in z if '_' not in x[0]])\n",
    "    else:\n",
    "      z = ' '.join([' '.join([x[0]] * int(x[1])) for x in z])\n",
    "    return z"
   ]
  },
  {
   "cell_type": "code",
   "execution_count": 6,
   "id": "3a304690-c3e4-4065-84b1-2347b1c55f12",
   "metadata": {},
   "outputs": [],
   "source": [
    "# PUT POLARITY DATASET PATH HERE\n",
    "POLARITY_PATH = 'processed_acl/'\n",
    "remove_bigrams=True\n",
    "\n",
    "random.seed(1)\n",
    "name = dataset.split('_')[2]\n",
    "path_data = POLARITY_PATH + name\n",
    "\n",
    "pos = []\n",
    "neg = []\n",
    "for line in open(os.path.join(path_data, 'negative.review')):\n",
    "    neg.append(get_words(line, remove_bigrams))\n",
    "for line in open(os.path.join(path_data, 'positive.review')):\n",
    "    pos.append(get_words(line, remove_bigrams))"
   ]
  },
  {
   "cell_type": "code",
   "execution_count": 7,
   "id": "85c26983-776a-4a4b-aee2-f5a4442145fa",
   "metadata": {},
   "outputs": [
    {
     "data": {
      "text/plain": [
       "array(['able', 'all', 'also', 'although', 'bad', 'because', 'best',\n",
       "       'better', 'books', 'boring', 'both', 'disappointed',\n",
       "       'disappointing', 'easy', 'especially', 'even', 'everything',\n",
       "       'excellent', 'experience', 'get', 'gives', 'got', 'great',\n",
       "       'highly', 'historical', 'history', 'how', 'human', 'if', 'instead',\n",
       "       'just', 'lack', 'life', 'like', 'lives', 'love', 'loved', 'makes',\n",
       "       'me', 'money', 'much', 'must', 'my', 'new', 'no', 'not', 'nothing',\n",
       "       'other', 'pages', 'poor', 'poorly', 'read', 'really', 'recommend',\n",
       "       'seems', 'shows', 'so', 'story', 'their', 'then', 'too',\n",
       "       'unfortunately', 'used', 'was', 'waste', 'way', 'we', 'well',\n",
       "       'when', 'wonderful', 'world', 'writing', 'years', 'you'],\n",
       "      dtype='<U14')"
      ]
     },
     "execution_count": 7,
     "metadata": {},
     "output_type": "execute_result"
    }
   ],
   "source": [
    "c_features = evaluator.classifiers[dataset][algorithm].coef_.nonzero()[1]\n",
    "evaluator.inverse_vocabulary[dataset][c_features]"
   ]
  },
  {
   "cell_type": "code",
   "execution_count": 14,
   "id": "8db3495e-8fff-4e07-b5d4-06fe9cb315b9",
   "metadata": {},
   "outputs": [
    {
     "data": {
      "text/html": [
       "<div>\n",
       "<style scoped>\n",
       "    .dataframe tbody tr th:only-of-type {\n",
       "        vertical-align: middle;\n",
       "    }\n",
       "\n",
       "    .dataframe tbody tr th {\n",
       "        vertical-align: top;\n",
       "    }\n",
       "\n",
       "    .dataframe thead th {\n",
       "        text-align: right;\n",
       "    }\n",
       "</style>\n",
       "<table border=\"1\" class=\"dataframe\">\n",
       "  <thead>\n",
       "    <tr style=\"text-align: right;\">\n",
       "      <th></th>\n",
       "      <th>LIME</th>\n",
       "      <th>EMaP</th>\n",
       "    </tr>\n",
       "  </thead>\n",
       "  <tbody>\n",
       "    <tr>\n",
       "      <th>all</th>\n",
       "      <td>0.033454</td>\n",
       "      <td>0.031573</td>\n",
       "    </tr>\n",
       "    <tr>\n",
       "      <th>death</th>\n",
       "      <td>0.000000</td>\n",
       "      <td>0.010411</td>\n",
       "    </tr>\n",
       "    <tr>\n",
       "      <th>highly</th>\n",
       "      <td>0.072038</td>\n",
       "      <td>0.061498</td>\n",
       "    </tr>\n",
       "    <tr>\n",
       "      <th>story</th>\n",
       "      <td>0.012927</td>\n",
       "      <td>0.017520</td>\n",
       "    </tr>\n",
       "    <tr>\n",
       "      <th>way</th>\n",
       "      <td>0.013185</td>\n",
       "      <td>0.008736</td>\n",
       "    </tr>\n",
       "    <tr>\n",
       "      <th>you</th>\n",
       "      <td>0.030945</td>\n",
       "      <td>0.030454</td>\n",
       "    </tr>\n",
       "  </tbody>\n",
       "</table>\n",
       "</div>"
      ],
      "text/plain": [
       "            LIME      EMaP\n",
       "all     0.033454  0.031573\n",
       "death   0.000000  0.010411\n",
       "highly  0.072038  0.061498\n",
       "story   0.012927  0.017520\n",
       "way     0.013185  0.008736\n",
       "you     0.030945  0.030454"
      ]
     },
     "execution_count": 14,
     "metadata": {},
     "output_type": "execute_result"
    }
   ],
   "source": [
    "index = 15\n",
    "raw_label = 1\n",
    "if raw_label == 1:\n",
    "    raw_review = pos[index:index+1]\n",
    "else:\n",
    "    raw_review = neg[index:index+1]\n",
    "\n",
    "review = evaluator.vectorizer[dataset].transform(raw_review).todense()\n",
    "lime_exp = lime_explain_fn(review, raw_label, evaluator.classifiers[dataset][algorithm], num_features= 10, dataset=dataset)\n",
    "emap_exp = emap_explain_fn(review, raw_label, dataset=dataset)\n",
    "\n",
    "dict_key = [x[0] for x in lime_exp]\n",
    "dict_val = [x[1] for x in lime_exp]\n",
    "lime_explanation_dict = dict(zip(dict_key,dict_val))\n",
    "\n",
    "dict_key = [x[0] for x in emap_exp]\n",
    "dict_val = [x[1] for x in emap_exp]\n",
    "emap_explanation_dict = dict(zip(dict_key,dict_val))\n",
    "\n",
    "lime_explanation_weight = {}\n",
    "emap_explanation_weight = {}\n",
    "for key in list(np.nonzero(review)[1]):\n",
    "    if key in list(lime_explanation_dict.keys()):\n",
    "        lime_explanation_weight[evaluator.inverse_vocabulary[dataset][key]] = lime_explanation_dict[key]\n",
    "    else:\n",
    "        lime_explanation_weight[evaluator.inverse_vocabulary[dataset][key]] = 0\n",
    "    if key in list(emap_explanation_dict.keys()):\n",
    "        emap_explanation_weight[evaluator.inverse_vocabulary[dataset][key]] = emap_explanation_dict[key]\n",
    "    else:\n",
    "        emap_explanation_weight[evaluator.inverse_vocabulary[dataset][key]] = 0\n",
    "        \n",
    "plot_word = []\n",
    "plot_emap = []\n",
    "plot_lime = []\n",
    "plot_in_c_features = []\n",
    "score_thres = 0.01\n",
    "for word in list(evaluator.inverse_vocabulary[dataset][np.nonzero(review)[1]]):\n",
    "    if emap_explanation_weight[word] > score_thres or lime_explanation_weight[word] > score_thres:\n",
    "        plot_word.append(word)\n",
    "        plot_emap.append(emap_explanation_weight[word])\n",
    "        plot_lime.append(lime_explanation_weight[word])\n",
    "        if word in list(c_features):\n",
    "            plot_in_c_features.append('t')\n",
    "        else:\n",
    "            plot_in_c_features.append('f')    \n",
    "\n",
    "plot_df = pd.DataFrame(index = plot_word, columns = ['LIME', 'EMaP'])\n",
    "plot_df['LIME'] = plot_lime\n",
    "plot_df['EMaP'] = plot_emap\n",
    "\n",
    "plot_df"
   ]
  },
  {
   "cell_type": "code",
   "execution_count": 15,
   "id": "b611bd12-2329-4b0d-8504-e61f429605c5",
   "metadata": {},
   "outputs": [
    {
     "data": {
      "image/png": "[encoded data removed]",
      "text/plain": [
       "<Figure size 480x480 with 1 Axes>"
      ]
     },
     "metadata": {},
     "output_type": "display_data"
    }
   ],
   "source": [
    "import matplotlib.pyplot as plt\n",
    "plt.rcParams[\"figure.dpi\"] = 160\n",
    "\n",
    "# dataname = 'kitchen'\n",
    "dataname = 'book'\n",
    "if raw_label == 1:\n",
    "    label_sign = '_pos_'\n",
    "else:\n",
    "    label_sign = '_neg_'\n",
    "\n",
    "fig = plot_df.sort_values('EMaP', ascending=True)[len(plot_df)-5:len(plot_df)].plot(kind=\"barh\", figsize=(3, 3), rot = 30)\n",
    "file_name = 'new_viz/viz_' + dataname +  label_sign + str(index) + \".png\"\n",
    "# fig.get_figure().tight_layout()\n",
    "fig.get_figure().savefig(file_name, bbox_inches = \"tight\")"
   ]
  },
  {
   "cell_type": "code",
   "execution_count": null,
   "id": "05387cf6-e1f7-4209-b1b4-5bf5121c9827",
   "metadata": {},
   "outputs": [],
   "source": []
  },
  {
   "cell_type": "code",
   "execution_count": null,
   "id": "5c44e1ec-6b62-4697-bad3-4c24076b6a52",
   "metadata": {},
   "outputs": [],
   "source": []
  }
 ],
 "metadata": {
  "kernelspec": {
   "display_name": "Python 3 (ipykernel)",
   "language": "python",
   "name": "python3"
  },
  "language_info": {
   "codemirror_mode": {
    "name": "ipython",
    "version": 3
   },
   "file_extension": ".py",
   "mimetype": "text/x-python",
   "name": "python",
   "nbconvert_exporter": "python",
   "pygments_lexer": "ipython3",
   "version": "3.8.15"
  }
 },
 "nbformat": 4,
 "nbformat_minor": 5
}
