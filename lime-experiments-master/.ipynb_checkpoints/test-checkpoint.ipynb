{
 "cells": [
  {
   "cell_type": "code",
   "execution_count": 1,
   "id": "2d5c64d7-c279-468a-b307-af5d0bb36a85",
   "metadata": {},
   "outputs": [],
   "source": [
    "import umap\n",
    "import copy\n",
    "import argparse\n",
    "import explainers\n",
    "import parzen_windows\n",
    "import numpy as np\n",
    "import pickle\n",
    "import sklearn\n",
    "from load_datasets import *\n",
    "from sklearn.metrics import accuracy_score"
   ]
  },
  {
   "cell_type": "code",
   "execution_count": 6,
   "id": "092f4b99-1432-40c2-9757-32d52e4e669e",
   "metadata": {},
   "outputs": [],
   "source": [
    "def get_tree_explanation(tree, v):\n",
    "    t = tree.tree_\n",
    "    nonzero = v.nonzero()[1]\n",
    "    current = 0\n",
    "    left_child = t.children_left[current]\n",
    "    exp = set()\n",
    "    while left_child != sklearn.tree._tree.TREE_LEAF:\n",
    "        left_child = t.children_left[current]\n",
    "        right_child = t.children_right[current]\n",
    "        f = t.feature[current]\n",
    "        if f in nonzero:\n",
    "            exp.add(f)\n",
    "        if v[0,f] < t.threshold[current]:\n",
    "            current = left_child\n",
    "        else:\n",
    "            current = right_child\n",
    "    return exp\n",
    "\n",
    "class ExplanationEvaluator:\n",
    "  def __init__(self, classifier_names=None):\n",
    "    self.classifier_names = classifier_names\n",
    "    if not self.classifier_names:\n",
    "      self.classifier_names = ['l1logreg', 'tree']\n",
    "    self.classifiers = {}\n",
    "    \n",
    "  def init_classifiers(self, dataset):\n",
    "    self.classifiers[dataset] = {}\n",
    "    for classifier in self.classifier_names:\n",
    "      if classifier == 'l1logreg':\n",
    "        try_cs = np.arange(.1,0,-.01)\n",
    "        for c in try_cs:\n",
    "          self.classifiers[dataset]['l1logreg'] = linear_model.LogisticRegression(penalty='l1', fit_intercept=True, C=c, solver='liblinear')\n",
    "          self.classifiers[dataset]['l1logreg'].fit(self.train_vectors[dataset], self.train_labels[dataset])\n",
    "          lengths = [len(x.nonzero()[0]) for x in self.classifiers[dataset]['l1logreg'].predict_proba(self.train_vectors[dataset])]\n",
    "          if np.max(lengths) <= 10:\n",
    "            #print 'Logreg for ', dataset, ' has mean length',  np.mean(lengths), 'with C=', c\n",
    "            #print 'And max length = ', np.max(lengths)\n",
    "            break\n",
    "      if classifier == 'tree':\n",
    "        self.classifiers[dataset]['tree'] = tree.DecisionTreeClassifier(random_state=1)\n",
    "        self.classifiers[dataset]['tree'].fit(self.train_vectors[dataset], self.train_labels[dataset])\n",
    "        lengths = [len(get_tree_explanation(self.classifiers[dataset]['tree'], self.train_vectors[dataset][i])) for i in range(self.train_vectors[dataset].shape[0])]\n",
    "        #print 'Tree for ', dataset, ' has mean length',  np.mean(lengths)\n",
    "        \n",
    "  def load_datasets(self, dataset_names):\n",
    "    self.train_data = {}\n",
    "    self.train_labels = {}\n",
    "    self.test_data = {}\n",
    "    self.test_labels = {}\n",
    "    for dataset in dataset_names:\n",
    "      self.train_data[dataset], self.train_labels[dataset], self.test_data[dataset], self.test_labels[dataset], _ = LoadDataset(dataset)\n",
    "    \n",
    "  def vectorize_and_train(self):\n",
    "    self.vectorizer = {}\n",
    "    self.train_vectors = {}\n",
    "    self.test_vectors = {}\n",
    "    self.inverse_vocabulary = {}\n",
    "    print('Vectorizing...')\n",
    "    for d in self.train_data:\n",
    "      self.vectorizer[d] = CountVectorizer(lowercase=False, binary=True, max_features = 1000)\n",
    "      self.train_vectors[d] = self.vectorizer[d].fit_transform(self.train_data[d])\n",
    "      self.test_vectors[d] = self.vectorizer[d].transform(self.test_data[d])\n",
    "      terms = np.array(list(self.vectorizer[d].vocabulary_.keys()))\n",
    "      indices = np.array(list(self.vectorizer[d].vocabulary_.values()))\n",
    "      self.inverse_vocabulary[d] = terms[np.argsort(indices)]\n",
    "    print('Done')\n",
    "    print('Training...')\n",
    "    for d in self.train_data:\n",
    "      print(d)\n",
    "      self.init_classifiers(d)\n",
    "    print('Done')\n",
    "\n",
    "  def measure_explanation_hability(self, explain_fn, max_examples=None):\n",
    "    \"\"\"Asks for explanations for all predictions in the train and test set, with\n",
    "    budget = size of explanation. Returns two maps (train_results,\n",
    "    test_results), from dataset to classifier to list of recalls\"\"\"\n",
    "    budget = 10\n",
    "    train_results = {}\n",
    "    test_results = {}\n",
    "    for d in self.train_data:\n",
    "        train_results[d] = {}\n",
    "        test_results[d] = {}\n",
    "        print('Dataset:', d)\n",
    "        for c in self.classifiers[d]:\n",
    "            train_results[d][c] = []\n",
    "            test_results[d][c] = []\n",
    "            if c == 'l1logreg':\n",
    "                c_features = self.classifiers[d][c].coef_.nonzero()[1]\n",
    "            print('classifier:', c)\n",
    "            \n",
    "            for i in range(len(self.test_data[d])):\n",
    "                if c == 'l1logreg':\n",
    "                    true_features = set([x for x in self.test_vectors[d][i].nonzero()[1] if x in c_features])\n",
    "                elif c == 'tree':\n",
    "                    true_features = get_tree_explanation(self.classifiers[d][c], self.test_vectors[d][i])\n",
    "                if len(true_features) == 0:\n",
    "                    continue\n",
    "                    \n",
    "                to_get = budget\n",
    "                exp_features = set(map(lambda x:x[0],\n",
    "                explain_fn(self.test_vectors[d].todense()[i], self.test_labels[d][i] ,self.classifiers[d][c], to_get, d)))\n",
    "                test_results[d][c].append(float(len(true_features.intersection(exp_features))) / len(true_features))\n",
    "                if max_examples and i >= max_examples:\n",
    "                    break\n",
    "    return train_results, test_results\n",
    "\n",
    "  def measure_explanation_fp(self, explain_fn, max_examples=None, method = 'notemap', budget = 10):\n",
    "    \"\"\"Asks for explanations for all predictions in the train and test set, with\n",
    "    budget = size of explanation. Returns two maps (train_results,\n",
    "    test_results), from dataset to classifier to list of recalls\"\"\"\n",
    "\n",
    "    train_results = {}\n",
    "    test_results = {}\n",
    "    \n",
    "    for d in self.train_data:\n",
    "        train_results[d] = {}\n",
    "        test_results[d] = {}\n",
    "        test_vectors = self.test_vectors[d].todense()\n",
    "#         print('Dataset:', d)\n",
    "        for c in self.classifiers[d]:\n",
    "            train_results[d][c] = []\n",
    "            test_results[d][c] = []\n",
    "            if c == 'l1logreg':\n",
    "                c_features = self.classifiers[d][c].coef_.nonzero()[1]\n",
    "#             print('classifier:', c)\n",
    "            \n",
    "            for i in range(len(self.test_data[d])):\n",
    "                if c == 'l1logreg':\n",
    "                    true_features = set(c_features)\n",
    "                elif c == 'tree':\n",
    "                    true_features = set(get_tree_explanation(self.classifiers[d][c], self.test_vectors[d][i]))\n",
    "                if len(true_features) == 0:\n",
    "                    continue\n",
    "                    \n",
    "                to_get = budget\n",
    "                if method != 'emap':\n",
    "                    exp_features = set(map(lambda x:x[0],\n",
    "                    explain_fn(test_vectors[i], self.test_labels[d][i] ,self.classifiers[d][c], to_get, d)))\n",
    "                else:\n",
    "                    print(\"Explain sample: \", i)\n",
    "                    emap_features = explain_fn(test_vectors[i], self.test_labels[d][i], dataset=d)\n",
    "                    if len(emap_features) > to_get:\n",
    "                        exp_features = set([x[0] for x in emap_features[0:to_get]])\n",
    "                    else:\n",
    "                        exp_features = set([x[0] for x in emap_features])\n",
    "    \n",
    "               \n",
    "                test_results[d][c].append((len(exp_features) - float(len(true_features.intersection(exp_features)))) / len(exp_features))\n",
    "                if max_examples and i >= max_examples:\n",
    "                    break\n",
    "    return train_results, test_results"
   ]
  },
  {
   "cell_type": "markdown",
   "id": "32c78bef-e00b-44b3-989a-012569983594",
   "metadata": {},
   "source": [
    "DATASET -> 'multi_polarity_books', 'multi_polarity_kitchen', 'multi_polarity_dvd', 'multi_polarity_kitchen'\n",
    "\n",
    "ALGORITHM -> 'l1logreg', 'tree'\n",
    "\n",
    "EXPLAINER -> 'lime', 'parzen', 'greedy' or 'random'"
   ]
  },
  {
   "cell_type": "code",
   "execution_count": 13,
   "id": "eb8a4905-bece-41bc-b502-2f9e81eee3ea",
   "metadata": {},
   "outputs": [],
   "source": [
    "# EMaP LIME\n",
    "class EMaPLocalExplainer:\n",
    "  def __init__(self,\n",
    "               kernel_fn,\n",
    "               base_data,\n",
    "               clf_fn = None,\n",
    "               radius = 1,\n",
    "               num_samples=5000,\n",
    "               \n",
    "               lasso=True,\n",
    "               mean=None,\n",
    "               return_mean=False,\n",
    "               return_mapped=False,\n",
    "               lambda_=None,\n",
    "               verbose=True,\n",
    "               positive=False):\n",
    "    # Transform_classifier, transform_explainer,\n",
    "    # transform_explainer_to_classifier all take raw data in, whatever that is.\n",
    "    # perturb(x, num_samples) returns data (perturbed data in f'(x) form),\n",
    "    # inverse_data (perturbed data in x form) and mapping, where mapping is such\n",
    "    # that mapping[i] = j, where j is an index for x form.\n",
    "    # distance_fn takes raw data in. what we're calling raw data is just x\n",
    "    self.lambda_ = lambda_\n",
    "    self.kernel_fn = kernel_fn\n",
    "    self.base_data = base_data\n",
    "    self.radius = radius\n",
    "    \n",
    "    data = self.base_data\n",
    "    self.mapper = umap.UMAP(n_components = 2, random_state = 21)\n",
    "    self.mapper.fit(data)\n",
    "    \n",
    "    data_low = self.mapper.transform(data)\n",
    "    Xt = np.transpose(data_low)\n",
    "    XtX = np.dot(Xt,data_low)\n",
    "    Xty = np.dot(Xt,data)\n",
    "    self.matG = np.linalg.solve(XtX,Xty)\n",
    "    Gu, Gd, Gv = np.linalg.svd(self.matG, full_matrices=False)\n",
    "    \n",
    "    self.noise_radius = radius\n",
    "    gauss_ = np.random.normal(0, 1, size=data.shape)\n",
    "    gauss_noise = gauss_\n",
    "    plane_noise = np.zeros_like(gauss_noise)\n",
    "\n",
    "    for d in range(Gv.shape[0]):\n",
    "        proj = np.dot(gauss_noise, np.transpose(Gv[d]))\n",
    "        for s in range(plane_noise.shape[0]):\n",
    "            plane_noise[s] = plane_noise[s] + proj[s]*Gv[d]        \n",
    "    ortho_noise = gauss_noise - plane_noise\n",
    "\n",
    "    # noise\n",
    "    ortho_norm = self.normalize(ortho_noise, self.radius)\n",
    "    plane_norm = self.normalize(plane_noise, self.radius)\n",
    "    gauss_norm = self.normalize(gauss_noise, self.radius)\n",
    "\n",
    "    # point clouds\n",
    "    self.perturbations = data + ortho_norm\n",
    "    self.plane_perturbations = data + plane_norm\n",
    "    self.gauss_perturbations = data + gauss_norm\n",
    "    \n",
    "    if clf_fn != None:\n",
    "        if not hasattr(clf_fn, '__call__'):\n",
    "            classifier_fn = clf_fn.predict_proba\n",
    "        self.clf_fn = classifier_fn\n",
    "        self.labels = self.clf_fn(self.perturbations)\n",
    "    else:\n",
    "        self.clf_fn = None\n",
    "        self.labels = None\n",
    "    \n",
    "    self.low_data = self.mapper.transform(self.base_data)\n",
    "    self.low_perturbations = self.mapper.transform(self.perturbations)\n",
    "    \n",
    "    self.num_samples = num_samples\n",
    "    self.lasso = lasso\n",
    "    self.mean = mean\n",
    "    self.return_mapped=return_mapped\n",
    "    self.return_mean = return_mean\n",
    "    self.verbose = verbose\n",
    "    self.positive=positive\n",
    "    \n",
    "  def reset(self):\n",
    "    pass\n",
    "\n",
    "  def normalize(self, v, r):\n",
    "    return v/np.sqrt(np.sum(v**2))*r\n",
    "\n",
    "  def data_labels_distances_mapping(self, raw_data, classifier_fn):\n",
    "    data, labels, distances, mapping = self.data_labels_distances_mapping_fn(raw_data, classifier_fn, self.num_samples)\n",
    "    return data, labels, distances, mapping\n",
    "\n",
    "  def generate_lars_path(self, weighted_data, weighted_labels):\n",
    "    X = weighted_data\n",
    "    alphas, active, coefs = linear_model.lars_path(X, weighted_labels, method='lasso', verbose=False, positive=self.positive)\n",
    "    return alphas, coefs\n",
    "\n",
    "  def explain_instance_with_data(self, data, labels, distances, label, num_features):\n",
    "    weights = self.kernel_fn(distances)\n",
    "    weighted_data = np.asarray(data) * weights[:, np.newaxis]\n",
    "    if self.mean is None:\n",
    "      mean = np.mean(labels[:, label])\n",
    "    else:\n",
    "      mean = self.mean\n",
    "    shifted_labels = labels[:, label] - mean\n",
    "    if self.verbose:\n",
    "      print('mean', mean)\n",
    "    weighted_labels = shifted_labels * weights\n",
    "    used_features = range(weighted_data.shape[1])\n",
    "    nonzero = used_features\n",
    "    alpha = 1\n",
    "    if self.lambda_:\n",
    "      classif = linear_model.Lasso(alpha=self.lambda_, fit_intercept=False, positive=self.positive)\n",
    "      classif.fit(weighted_data, weighted_labels)\n",
    "      used_features = classif.coef_.nonzero()[0]\n",
    "      if used_features.shape[0] == 0:\n",
    "        if self.return_mean:\n",
    "          return [], mean\n",
    "        else:\n",
    "          return []\n",
    "    elif self.lasso:\n",
    "      alphas, coefs = self.generate_lars_path(weighted_data, weighted_labels)\n",
    "      for i in range(len(coefs.T) - 1, 0, -1):\n",
    "        nonzero = coefs.T[i].nonzero()[0]\n",
    "        if len(nonzero) <= num_features:\n",
    "            chosen_coefs = coefs.T[i]\n",
    "            alpha = alphas[i]\n",
    "            break\n",
    "      used_features = nonzero\n",
    "    debiased_model = linear_model.Ridge(alpha=0, fit_intercept=False)\n",
    "    debiased_model.fit(weighted_data[:, used_features], weighted_labels)\n",
    "    if self.verbose:\n",
    "      print('Prediction_local', debiased_model.predict(data[0, used_features].reshape(1, -1)) + mean, 'Right:', labels[0, label])\n",
    "    if self.return_mean:\n",
    "      return sorted(zip(used_features,\n",
    "                  debiased_model.coef_),\n",
    "                  key=lambda x:np.abs(x[1]), reverse=True), mean\n",
    "    else:\n",
    "      return sorted(zip(used_features,\n",
    "                  debiased_model.coef_),\n",
    "                  key=lambda x:np.abs(x[1]), reverse=True)\n",
    "  def normalize(self, v, r):\n",
    "    return v/np.sqrt(np.sum(v**2))*r\n",
    "\n",
    "  def explain_instance(self,\n",
    "                       input_instance,\n",
    "                       label,\n",
    "                       num_features, \n",
    "                       dataset=None):\n",
    "        \n",
    "    data = self.perturbations\n",
    "    labels = self.labels\n",
    "    \n",
    "#     distance_fn = lambda x : sklearn.metrics.pairwise.cosine_distances(input_instance,x)[0] * 100\n",
    "#     distances = distance_fn(data)\n",
    "    low_data = self.low_perturbations\n",
    "    low_base = self.mapper.transform(input_instance)\n",
    "    distances = np.asarray([np.linalg.norm(low_data[i] - low_base) for i in range(low_data.shape[0])])\n",
    "    \n",
    "    return self.explain_instance_with_data(data, labels, distances, label, num_features)\n",
    "\n"
   ]
  },
  {
   "cell_type": "code",
   "execution_count": 4,
   "id": "1b938623-9ff5-4956-9f98-f76cf14c9a1b",
   "metadata": {},
   "outputs": [],
   "source": [
    "parser = argparse.ArgumentParser(description='Evaluate some explanations')\n",
    "parser.add_argument('--dataset', '-d', type=str, required=True,help='dataset name')\n",
    "parser.add_argument('--algorithm', '-a', type=str, required=True, help='algorithm_name')\n",
    "parser.add_argument('--explainer', '-e', type=str, required=True, help='explainer name')\n",
    "args = parser.parse_args(\"--dataset multi_polarity_books --algorithm l1logreg --explainer greedy \".split())"
   ]
  },
  {
   "cell_type": "code",
   "execution_count": 7,
   "id": "416e9664-c50c-4bf6-bac0-c9125dddf1fe",
   "metadata": {},
   "outputs": [
    {
     "name": "stdout",
     "output_type": "stream",
     "text": [
      "Vectorizing...\n",
      "Done\n",
      "Training...\n",
      "multi_polarity_books\n",
      "Done\n"
     ]
    }
   ],
   "source": [
    "dataset = args.dataset\n",
    "algorithm = args.algorithm\n",
    "evaluator = ExplanationEvaluator(classifier_names=[algorithm])\n",
    "evaluator.load_datasets([dataset])\n",
    "evaluator.vectorize_and_train()\n",
    "explain_fn = None"
   ]
  },
  {
   "cell_type": "code",
   "execution_count": 8,
   "id": "c6041a67-5dc0-460f-8a7d-b08dfeee6435",
   "metadata": {},
   "outputs": [
    {
     "name": "stdout",
     "output_type": "stream",
     "text": [
      "Average test:  0.0075\n",
      "Average test:  0.025\n",
      "Average test:  0.1025\n",
      "Average test:  0.4018561507936508\n",
      "Average test:  0.5849143738206238\n"
     ]
    }
   ],
   "source": [
    "if args.explainer == 'lime':\n",
    "    rho = 25\n",
    "    kernel = lambda d: np.sqrt(np.exp(-(d**2) / rho ** 2))\n",
    "    explainer = explainers.GeneralizedLocalExplainer(kernel, explainers.data_labels_distances_mapping_text, num_samples=15000, return_mean=False, verbose=False, return_mapped=True)\n",
    "    explain_fn = explainer.explain_instance\n",
    "elif args.explainer == 'parzen':\n",
    "    sigmas = {'multi_polarity_electronics': {'tree': 0.5,\n",
    "    'l1logreg': 1},\n",
    "    'multi_polarity_kitchen': {'tree': 0.75, 'l1logreg': 2.0},\n",
    "    'multi_polarity_dvd': {'tree': 8.0, 'l1logreg': 1},\n",
    "    'multi_polarity_books': {'tree': 2.0, 'l1logreg': 2.0}}\n",
    "    explainer = parzen_windows.ParzenWindowClassifier()\n",
    "    cv_preds = sklearn.cross_validation.cross_val_predict(evaluator.classifiers[dataset][algorithm], evaluator.train_vectors[dataset], evaluator.train_labels[dataset])\n",
    "    explainer.fit(evaluator.train_vectors[dataset], cv_preds)\n",
    "    explainer.sigma = sigmas[dataset][algorithm]\n",
    "    explain_fn = explainer.explain_instance\n",
    "elif args.explainer == 'greedy':\n",
    "    explain_fn = explainers.explain_greedy\n",
    "elif args.explainer == 'random':\n",
    "    explainer = explainers.RandomExplainer()\n",
    "    explain_fn = explainer.explain_instance\n",
    "\n",
    "train_results, test_results = evaluator.measure_explanation_fp(explain_fn, method = 'notemap', budget = 1)\n",
    "print('Average test: ', np.mean(test_results[dataset][algorithm]))\n",
    "train_results, test_results = evaluator.measure_explanation_fp(explain_fn, method = 'notemap', budget = 2)\n",
    "print('Average test: ', np.mean(test_results[dataset][algorithm]))\n",
    "train_results, test_results = evaluator.measure_explanation_fp(explain_fn, method = 'notemap', budget = 4)\n",
    "print('Average test: ', np.mean(test_results[dataset][algorithm]))\n",
    "train_results, test_results = evaluator.measure_explanation_fp(explain_fn, method = 'notemap', budget = 10)\n",
    "print('Average test: ', np.mean(test_results[dataset][algorithm]))\n",
    "train_results, test_results = evaluator.measure_explanation_fp(explain_fn, method = 'notemap', budget = 16)\n",
    "print('Average test: ', np.mean(test_results[dataset][algorithm]))\n"
   ]
  },
  {
   "cell_type": "code",
   "execution_count": null,
   "id": "45436da7-ec05-4f76-99f7-e766e6de3f05",
   "metadata": {},
   "outputs": [],
   "source": []
  },
  {
   "cell_type": "code",
   "execution_count": 9,
   "id": "89635ca9-4006-4d00-a49d-99942e21fc78",
   "metadata": {},
   "outputs": [],
   "source": [
    "import time"
   ]
  },
  {
   "cell_type": "code",
   "execution_count": 10,
   "id": "4f6bdcb0-9dff-4906-b9c8-6c62581f6f06",
   "metadata": {},
   "outputs": [
    {
     "name": "stdout",
     "output_type": "stream",
     "text": [
      "Average test:  0.0025\n",
      "Average test:  0.02375\n",
      "Average test:  0.085625\n",
      "Average test:  0.3077857142857143\n",
      "Average test:  0.46678665084915083\n",
      "Total duration:  74.45038771629333\n"
     ]
    }
   ],
   "source": [
    "# lime_evaluator = ExplanationEvaluator(classifier_names=[algorithm])\n",
    "# lime_evaluator.load_datasets([dataset])\n",
    "# lime_evaluator.vectorize_and_train()\n",
    "\n",
    "rho = 25\n",
    "kernel = lambda d: np.sqrt(np.exp(-(d**2) / rho ** 2))\n",
    "lime_explainer = explainers.GeneralizedLocalExplainer(kernel, \n",
    "                                                    explainers.data_labels_distances_mapping_text, \n",
    "                                                    num_samples=1000, \n",
    "                                                    return_mean=False, \n",
    "                                                    verbose=False, \n",
    "                                                    return_mapped=True)\n",
    "lime_explain_fn = lime_explainer.explain_instance\n",
    "\n",
    "start_time = time.time()\n",
    "\n",
    "train_results, test_results = evaluator.measure_explanation_fp(lime_explain_fn, method = 'notemap', budget = 1)\n",
    "print('Average test: ', np.mean(test_results[dataset][algorithm]))\n",
    "train_results, test_results = evaluator.measure_explanation_fp(lime_explain_fn, method = 'notemap', budget = 2)\n",
    "print('Average test: ', np.mean(test_results[dataset][algorithm]))\n",
    "train_results, test_results = evaluator.measure_explanation_fp(lime_explain_fn, method = 'notemap', budget = 4)\n",
    "print('Average test: ', np.mean(test_results[dataset][algorithm]))\n",
    "train_results, test_results = evaluator.measure_explanation_fp(lime_explain_fn, method = 'notemap', budget = 10)\n",
    "print('Average test: ', np.mean(test_results[dataset][algorithm]))\n",
    "train_results, test_results = evaluator.measure_explanation_fp(lime_explain_fn, method = 'notemap', budget = 16)\n",
    "print('Average test: ', np.mean(test_results[dataset][algorithm]))\n",
    "\n",
    "print(\"Total duration: \", time.time()-start_time)"
   ]
  },
  {
   "cell_type": "code",
   "execution_count": null,
   "id": "a8e2ceab-7434-4226-a6b9-ee73a862d358",
   "metadata": {},
   "outputs": [],
   "source": []
  },
  {
   "cell_type": "code",
   "execution_count": null,
   "id": "a5dd5fa5-9fdf-4754-af60-cda96889c862",
   "metadata": {},
   "outputs": [],
   "source": []
  },
  {
   "cell_type": "code",
   "execution_count": 14,
   "id": "e171e8f2-c124-40d0-8377-e7ea662a7cec",
   "metadata": {},
   "outputs": [
    {
     "name": "stdout",
     "output_type": "stream",
     "text": [
      "Begin explain\n"
     ]
    }
   ],
   "source": [
    "rho = 25\n",
    "kernel = lambda d: np.sqrt(np.exp(-(d**2) / rho ** 2))\n",
    "emap_explainer = EMaPLocalExplainer(kernel, \n",
    "                                    base_data = evaluator.train_vectors[dataset].todense(),\n",
    "                                    clf_fn = evaluator.classifiers[dataset][algorithm],\n",
    "                                    radius = 1,\n",
    "                                    num_samples=1000, \n",
    "                                    return_mean=False, \n",
    "                                    verbose=False, \n",
    "                                    return_mapped=False)\n",
    "emap_explain_fn = emap_explainer.explain_instance\n",
    "\n",
    "print(\"Begin explain\")\n",
    "\n",
    "# start_time = time.time()\n",
    "\n",
    "# train_results, test_results = evaluator.measure_explanation_fp(emap_explain_fn, method = 'emap', budget = 1)\n",
    "# print('Average test: ', np.mean(test_results[dataset][algorithm]))\n",
    "# train_results, test_results = evaluator.measure_explanation_fp(emap_explain_fn, method = 'emap', budget = 2)\n",
    "# print('Average test: ', np.mean(test_results[dataset][algorithm]))\n",
    "# train_results, test_results = evaluator.measure_explanation_fp(emap_explain_fn, method = 'emap', budget = 4)\n",
    "# print('Average test: ', np.mean(test_results[dataset][algorithm]))\n",
    "# train_results, test_results = evaluator.measure_explanation_fp(emap_explain_fn, method = 'emap', budget = 10)\n",
    "# print('Average test: ', np.mean(test_results[dataset][algorithm]))\n",
    "# train_results, test_results = evaluator.measure_explanation_fp(emap_explain_fn, method = 'emap', budget = 16)\n",
    "# print('Average test: ', np.mean(test_results[dataset][algorithm]))\n",
    "\n",
    "# print(\"Total duration: \", time.time()-start_time)"
   ]
  },
  {
   "cell_type": "code",
   "execution_count": 15,
   "id": "685c95c8-91f1-4df0-ab3b-fedf04a248d0",
   "metadata": {},
   "outputs": [
    {
     "name": "stdout",
     "output_type": "stream",
     "text": [
      "Explain sample:  0\n",
      "Explain sample:  1\n",
      "Explain sample:  2\n",
      "Explain sample:  3\n",
      "Explain sample:  4\n",
      "Explain sample:  5\n",
      "Explain sample:  6\n",
      "Explain sample:  7\n",
      "Explain sample:  8\n",
      "Explain sample:  9\n",
      "Explain sample:  10\n",
      "Average test:  0.0\n",
      "Total duration:  12.159769535064697\n"
     ]
    }
   ],
   "source": [
    "start_time = time.time()\n",
    "\n",
    "train_results, test_results = evaluator.measure_explanation_fp(emap_explain_fn, method = 'emap', budget = 10, max_examples=10)\n",
    "print('Average test: ', np.mean(test_results[dataset][algorithm]))\n",
    "\n",
    "print(\"Total duration: \", time.time()-start_time)"
   ]
  },
  {
   "cell_type": "code",
   "execution_count": null,
   "id": "63dc66ff-dd3f-4d9e-ba2e-e3e7fedb8dc4",
   "metadata": {},
   "outputs": [],
   "source": []
  },
  {
   "cell_type": "code",
   "execution_count": 6,
   "id": "416b7373-450b-4b44-a726-265bfba28767",
   "metadata": {},
   "outputs": [],
   "source": [
    "train_vector = lime_evaluator.train_vectors[dataset]\n",
    "train_labels = lime_evaluator.train_labels[dataset]\n",
    "test_vector = lime_evaluator.test_vectors[dataset]\n",
    "test_labels = lime_evaluator.test_labels[dataset]"
   ]
  },
  {
   "cell_type": "code",
   "execution_count": 32,
   "id": "bea17f33-60a4-413e-b815-094aa91b14ee",
   "metadata": {},
   "outputs": [],
   "source": [
    "clf = lime_evaluator.classifiers[dataset][algorithm]\n",
    "c_features = lime_evaluator.classifiers[dataset][algorithm].coef_.nonzero()[1]"
   ]
  },
  {
   "cell_type": "code",
   "execution_count": 33,
   "id": "e154d08f-c642-43ea-8351-7f2db8ce66df",
   "metadata": {},
   "outputs": [],
   "source": [
    "exp_features = lime_explain_fn(test_vector[0], test_labels[0] ,clf, 10, dataset)"
   ]
  },
  {
   "cell_type": "code",
   "execution_count": 34,
   "id": "98f5877f-f551-4d61-91d2-2ed697f44829",
   "metadata": {},
   "outputs": [
    {
     "data": {
      "text/plain": [
       "[(1723, 0.07617123108226602),\n",
       " (18904, -0.06465772197876854),\n",
       " (18947, 0.054526434409914525),\n",
       " (8502, -0.04032322729994082),\n",
       " (19443, 0.027086203691039694),\n",
       " (1738, -0.01680751018362198),\n",
       " (12272, -0.0037597412793271457),\n",
       " (1522, -0.003493840951236226),\n",
       " (15861, -0.003050829404955993),\n",
       " (1999, -0.0026389363874272454)]"
      ]
     },
     "execution_count": 34,
     "metadata": {},
     "output_type": "execute_result"
    }
   ],
   "source": [
    "exp_features"
   ]
  },
  {
   "cell_type": "code",
   "execution_count": 36,
   "id": "b14a82cc-5e30-4c50-9914-4cd4f32aab78",
   "metadata": {},
   "outputs": [
    {
     "data": {
      "text/plain": [
       "{1522, 1723, 1738, 1999, 8502, 12272, 15861, 18904, 18947, 19443}"
      ]
     },
     "execution_count": 36,
     "metadata": {},
     "output_type": "execute_result"
    }
   ],
   "source": [
    "set(map(lambda x:x[0],exp_features))"
   ]
  },
  {
   "cell_type": "code",
   "execution_count": 38,
   "id": "494573fd-88a0-40b2-9aca-ffdaab729195",
   "metadata": {},
   "outputs": [
    {
     "data": {
      "text/plain": [
       "(array([0, 0, 0, 0, 0, 0, 0, 0, 0, 0, 0, 0, 0, 0, 0, 0, 0, 0, 0, 0, 0, 0,\n",
       "        0, 0, 0, 0, 0, 0, 0, 0, 0, 0, 0, 0, 0, 0, 0, 0, 0, 0, 0, 0, 0, 0,\n",
       "        0, 0, 0, 0, 0, 0, 0, 0, 0, 0, 0, 0, 0, 0, 0, 0, 0, 0, 0, 0, 0, 0,\n",
       "        0, 0, 0, 0, 0, 0], dtype=int32),\n",
       " array([  319,   942,   944,   957,  1360,  1522,  1723,  1738,  1999,\n",
       "         2351,  2352,  2374,  3378,  3388,  3456,  3600,  3661,  4142,\n",
       "         4638,  4835,  5183,  5828,  6601,  6898,  7065,  7128,  7648,\n",
       "         7651,  7934,  7956,  8163,  8475,  8480,  8482,  8502,  8754,\n",
       "         8976,  9139,  9830, 10622, 10946, 10953, 11033, 11299, 11459,\n",
       "        12093, 12230, 12272, 12305, 12736, 13319, 13442, 13597, 13654,\n",
       "        14062, 14646, 14743, 15441, 15465, 15472, 15861, 16183, 17409,\n",
       "        17415, 18508, 18842, 18904, 18947, 19061, 19105, 19443, 19449],\n",
       "       dtype=int32))"
      ]
     },
     "execution_count": 38,
     "metadata": {},
     "output_type": "execute_result"
    }
   ],
   "source": [
    "test_vector[0].nonzero()"
   ]
  },
  {
   "cell_type": "code",
   "execution_count": 7,
   "id": "894fb2ce-0e9e-4914-af2c-c33c13b425ce",
   "metadata": {},
   "outputs": [],
   "source": [
    "pdata, plabels, pdistances, pmapping = lime_explainer.data_labels_distances_mapping_fn(test_vector[0], lime_evaluator.classifiers[dataset][algorithm].predict_proba, 2)"
   ]
  },
  {
   "cell_type": "code",
   "execution_count": 8,
   "id": "ace9d9df-f768-48ac-bcde-67db952148ac",
   "metadata": {},
   "outputs": [
    {
     "name": "stdout",
     "output_type": "stream",
     "text": [
      "[[1. 1. 1. 1. 1. 1. 1. 1. 1. 1. 1. 1. 1. 1. 1. 1. 1. 1. 1. 1. 1. 1. 1. 1.\n",
      "  1. 1. 1. 1. 1. 1. 1. 1. 1. 1. 1. 1. 1. 1. 1. 1. 1. 1. 1. 1. 1. 1. 1. 1.\n",
      "  1. 1. 1. 1. 1. 1. 1. 1. 1. 1. 1. 1. 1. 1. 1. 1. 1. 1. 1. 1. 1. 1. 1. 1.]\n",
      " [1. 1. 1. 1. 0. 1. 1. 1. 1. 1. 1. 1. 1. 1. 0. 1. 1. 1. 0. 1. 0. 1. 0. 0.\n",
      "  1. 1. 0. 1. 1. 0. 1. 0. 0. 0. 0. 0. 1. 1. 1. 0. 1. 1. 0. 0. 1. 0. 1. 1.\n",
      "  1. 0. 0. 1. 1. 0. 0. 0. 0. 0. 0. 0. 1. 1. 1. 1. 0. 1. 0. 1. 1. 0. 0. 1.]]\n",
      "[[0.41374648 0.58625352]\n",
      " [0.34420685 0.65579315]]\n",
      "[1.66533454e-13 2.36237384e+01]\n",
      "[  319   942   944   957  1360  1522  1723  1738  1999  2351  2352  2374\n",
      "  3378  3388  3456  3600  3661  4142  4638  4835  5183  5828  6601  6898\n",
      "  7065  7128  7648  7651  7934  7956  8163  8475  8480  8482  8502  8754\n",
      "  8976  9139  9830 10622 10946 10953 11033 11299 11459 12093 12230 12272\n",
      " 12305 12736 13319 13442 13597 13654 14062 14646 14743 15441 15465 15472\n",
      " 15861 16183 17409 17415 18508 18842 18904 18947 19061 19105 19443 19449]\n"
     ]
    }
   ],
   "source": [
    "print(pdata)\n",
    "print(plabels)\n",
    "print(pdistances)\n",
    "print(pmapping)"
   ]
  },
  {
   "cell_type": "code",
   "execution_count": null,
   "id": "15020f60-3b55-4942-b8be-21be488abbec",
   "metadata": {},
   "outputs": [],
   "source": []
  },
  {
   "cell_type": "code",
   "execution_count": null,
   "id": "4e9f11c0-d654-4cb0-ad79-9e2cd9b4f3aa",
   "metadata": {},
   "outputs": [],
   "source": []
  },
  {
   "cell_type": "code",
   "execution_count": null,
   "id": "8474bb7d-b410-4f77-bc20-3936e0d6a02b",
   "metadata": {},
   "outputs": [],
   "source": []
  },
  {
   "cell_type": "code",
   "execution_count": null,
   "id": "0eae1d6d-6ac5-4ccf-b76f-fc72885e40e6",
   "metadata": {},
   "outputs": [],
   "source": []
  },
  {
   "cell_type": "code",
   "execution_count": null,
   "id": "66fa7cc7-0a44-4432-baa0-2f5d118e6267",
   "metadata": {},
   "outputs": [],
   "source": []
  },
  {
   "cell_type": "code",
   "execution_count": 9,
   "id": "720f89c2-ba6a-41f5-97ae-297afd9f9d88",
   "metadata": {},
   "outputs": [],
   "source": [
    "mapper = umap.UMAP(n_components = 2, random_state = 21)\n",
    "mapper.fit(train_vector)\n",
    "\n",
    "input_low = mapper.transform(test_vector[0])\n",
    "test_low = mapper.transform(test_vector)\n",
    "train_low = mapper.transform(train_vector)"
   ]
  },
  {
   "cell_type": "code",
   "execution_count": 10,
   "id": "e5319485-2335-4e56-b78b-88bc21d3b3bf",
   "metadata": {},
   "outputs": [
    {
     "data": {
      "text/plain": [
       "Text(0.5, 1.0, 'UMAP embedding of test data')"
      ]
     },
     "execution_count": 10,
     "metadata": {},
     "output_type": "execute_result"
    },
    {
     "data": {
      "image/png": "[encoded data removed]",
      "text/plain": [
       "<Figure size 144x144 with 1 Axes>"
      ]
     },
     "metadata": {
      "needs_background": "light"
     },
     "output_type": "display_data"
    },
    {
     "data": {
      "image/png": "[encoded data removed]",
      "text/plain": [
       "<Figure size 144x144 with 1 Axes>"
      ]
     },
     "metadata": {
      "needs_background": "light"
     },
     "output_type": "display_data"
    }
   ],
   "source": [
    "import matplotlib.pyplot as plt\n",
    "\n",
    "plt.figure(figsize = (2,2))\n",
    "plt.scatter(train_low[:,0], train_low[:,1], c = train_labels)\n",
    "plt.title('UMAP embedding of train data');\n",
    "plt.figure(figsize = (2,2))\n",
    "plt.scatter(test_low[:,0], test_low[:,1], c = test_labels)\n",
    "plt.title('UMAP embedding of test data')"
   ]
  },
  {
   "cell_type": "code",
   "execution_count": 11,
   "id": "4233365b-4258-47f8-8904-956a28397a70",
   "metadata": {},
   "outputs": [],
   "source": [
    "# def normalize(v, r):\n",
    "#     return v/np.sqrt(np.sum(v**2))*r\n",
    "\n",
    "# Xt = np.transpose(train_low)\n",
    "# XtX = np.dot(Xt,train_low)\n",
    "# Xty = np.dot(Xt,train_vector.todense())\n",
    "# matG = np.linalg.solve(XtX,Xty)\n",
    "# Gu, Gd, Gv = np.linalg.svd(matG, full_matrices=False)\n",
    "\n",
    "# clf = lime_evaluator.classifiers[dataset][algorithm].predict_proba\n",
    "\n",
    "# RADIUS = 100\n",
    "# gauss_ = np.random.normal(0, 1, size=train_vector.todense().shape)\n",
    "# gauss_noise = gauss_\n",
    "# plane_noise = np.zeros_like(gauss_noise)\n",
    "\n",
    "# for d in range(Gv.shape[0]):\n",
    "#     proj = np.dot(gauss_noise, np.transpose(Gv[d]))\n",
    "#     for s in range(plane_noise.shape[0]):\n",
    "#         plane_noise[s] = plane_noise[s] + proj[s]*Gv[d]        \n",
    "# ortho_noise = gauss_noise - plane_noise\n",
    "\n",
    "# # noise\n",
    "# ortho_norm = normalize(ortho_noise, RADIUS)\n",
    "# plane_norm = normalize(plane_noise, RADIUS)\n",
    "# gauss_norm = normalize(gauss_noise, RADIUS)\n",
    "\n",
    "# # point clouds\n",
    "# ortho_pc = train_vector.todense() + ortho_norm\n",
    "# plane_pc = train_vector.todense() + plane_norm\n",
    "# gauss_pc = train_vector.todense() + gauss_norm\n",
    "\n",
    "# ori_pc = train_vector.todense()"
   ]
  },
  {
   "cell_type": "code",
   "execution_count": 12,
   "id": "21da8f49-e562-4335-ae5b-e171c70f680c",
   "metadata": {},
   "outputs": [],
   "source": [
    "# data = ortho_pc\n",
    "# labels = clf(data) \n",
    "# low_data = mapper.transform(data)\n",
    "# low_base = mapper.transform(test_vector[0])\n",
    "# distances = np.asarray([np.linalg.norm(low_data[i] - low_base) for i in range(low_data.shape[0])])\n",
    "# mapping = test_vector[0].nonzero()[1]"
   ]
  },
  {
   "cell_type": "code",
   "execution_count": 179,
   "id": "aae665b1-9c45-4bb5-a3cb-0bfc13cbb1a5",
   "metadata": {},
   "outputs": [],
   "source": [
    "# EMaP LIME\n",
    "class EMaPLocalExplainer:\n",
    "  def __init__(self,\n",
    "               kernel_fn,\n",
    "               base_data,\n",
    "               clf_fn = None,\n",
    "               radius = 1,\n",
    "               num_samples=5000,\n",
    "               lasso=True,\n",
    "               mean=None,\n",
    "               return_mean=False,\n",
    "               return_mapped=False,\n",
    "               lambda_=None,\n",
    "               verbose=True,\n",
    "               positive=False):\n",
    "    # Transform_classifier, transform_explainer,\n",
    "    # transform_explainer_to_classifier all take raw data in, whatever that is.\n",
    "    # perturb(x, num_samples) returns data (perturbed data in f'(x) form),\n",
    "    # inverse_data (perturbed data in x form) and mapping, where mapping is such\n",
    "    # that mapping[i] = j, where j is an index for x form.\n",
    "    # distance_fn takes raw data in. what we're calling raw data is just x\n",
    "    self.lambda_ = lambda_\n",
    "    self.kernel_fn = kernel_fn\n",
    "    self.base_data = base_data\n",
    "    self.radius = radius\n",
    "    \n",
    "    data = self.base_data\n",
    "    self.mapper = umap.UMAP(n_components = 2, random_state = 21)\n",
    "    self.mapper.fit(data)\n",
    "    \n",
    "    data_low = self.mapper.transform(data)\n",
    "    Xt = np.transpose(data_low)\n",
    "    XtX = np.dot(Xt,data_low)\n",
    "    Xty = np.dot(Xt,data)\n",
    "    self.matG = np.linalg.solve(XtX,Xty)\n",
    "    Gu, Gd, Gv = np.linalg.svd(self.matG, full_matrices=False)\n",
    "    \n",
    "    self.noise_radius = radius\n",
    "    gauss_ = np.random.normal(0, 1, size=data.shape)\n",
    "    gauss_noise = gauss_\n",
    "    plane_noise = np.zeros_like(gauss_noise)\n",
    "\n",
    "    for d in range(Gv.shape[0]):\n",
    "        proj = np.dot(gauss_noise, np.transpose(Gv[d]))\n",
    "        for s in range(plane_noise.shape[0]):\n",
    "            plane_noise[s] = plane_noise[s] + proj[s]*Gv[d]        \n",
    "    ortho_noise = gauss_noise - plane_noise\n",
    "\n",
    "    # noise\n",
    "    ortho_norm = self.normalize(ortho_noise, self.radius)\n",
    "    plane_norm = self.normalize(plane_noise, self.radius)\n",
    "    gauss_norm = self.normalize(gauss_noise, self.radius)\n",
    "\n",
    "    # point clouds\n",
    "    self.perturbations = data + ortho_norm\n",
    "    self.plane_perturbations = data + plane_norm\n",
    "    self.gauss_perturbations = data + gauss_norm\n",
    "    \n",
    "    if clf_fn != None:\n",
    "        if not hasattr(clf_fn, '__call__'):\n",
    "            classifier_fn = clf_fn.predict_proba\n",
    "        self.clf_fn = classifier_fn\n",
    "        self.labels = self.clf_fn(self.perturbations)\n",
    "    else:\n",
    "        self.clf_fn = None\n",
    "        self.labels = None\n",
    "    \n",
    "    self.low_data = self.mapper.transform(self.base_data)\n",
    "    self.low_perturbations = self.mapper.transform(self.perturbations)\n",
    "    \n",
    "    self.num_samples = num_samples\n",
    "    self.lasso = lasso\n",
    "    self.mean = mean\n",
    "    self.return_mapped=return_mapped\n",
    "    self.return_mean = return_mean\n",
    "    self.verbose = verbose\n",
    "    self.positive=positive\n",
    "    \n",
    "  def reset(self):\n",
    "    pass\n",
    "\n",
    "  def normalize(self, v, r):\n",
    "    return v/np.sqrt(np.sum(v**2))*r\n",
    "\n",
    "  def data_labels_distances_mapping(self, raw_data, classifier_fn):\n",
    "    data, labels, distances, mapping = self.data_labels_distances_mapping_fn(raw_data, classifier_fn, self.num_samples)\n",
    "    return data, labels, distances, mapping\n",
    "\n",
    "  def generate_lars_path(self, weighted_data, weighted_labels):\n",
    "    X = weighted_data\n",
    "    alphas, active, coefs = linear_model.lars_path(X, weighted_labels, method='lasso', verbose=False, positive=self.positive)\n",
    "    return alphas, coefs\n",
    "\n",
    "  def explain_instance_with_data(self, data, labels, distances, label, num_features):\n",
    "    weights = self.kernel_fn(distances)\n",
    "    weighted_data = np.asarray(data) * weights[:, np.newaxis]\n",
    "    if self.mean is None:\n",
    "      mean = np.mean(labels[:, label])\n",
    "    else:\n",
    "      mean = self.mean\n",
    "    shifted_labels = labels[:, label] - mean\n",
    "    if self.verbose:\n",
    "      print('mean', mean)\n",
    "    weighted_labels = shifted_labels * weights\n",
    "    used_features = range(weighted_data.shape[1])\n",
    "    nonzero = used_features\n",
    "    alpha = 1\n",
    "    if self.lambda_:\n",
    "      classif = linear_model.Lasso(alpha=self.lambda_, fit_intercept=False, positive=self.positive)\n",
    "      classif.fit(weighted_data, weighted_labels)\n",
    "      used_features = classif.coef_.nonzero()[0]\n",
    "      if used_features.shape[0] == 0:\n",
    "        if self.return_mean:\n",
    "          return [], mean\n",
    "        else:\n",
    "          return []\n",
    "    elif self.lasso:\n",
    "      alphas, coefs = self.generate_lars_path(weighted_data, weighted_labels)\n",
    "      for i in range(len(coefs.T) - 1, 0, -1):\n",
    "        nonzero = coefs.T[i].nonzero()[0]\n",
    "        if len(nonzero) <= num_features:\n",
    "            chosen_coefs = coefs.T[i]\n",
    "            alpha = alphas[i]\n",
    "            break\n",
    "      used_features = nonzero\n",
    "    debiased_model = linear_model.Ridge(alpha=0, fit_intercept=False)\n",
    "    debiased_model.fit(weighted_data[:, used_features], weighted_labels)\n",
    "    if self.verbose:\n",
    "      print('Prediction_local', debiased_model.predict(data[0, used_features].reshape(1, -1)) + mean, 'Right:', labels[0, label])\n",
    "    if self.return_mean:\n",
    "      return sorted(zip(used_features,\n",
    "                  debiased_model.coef_),\n",
    "                  key=lambda x:np.abs(x[1]), reverse=True), mean\n",
    "    else:\n",
    "      return sorted(zip(used_features,\n",
    "                  debiased_model.coef_),\n",
    "                  key=lambda x:np.abs(x[1]), reverse=True)\n",
    "  def normalize(self, v, r):\n",
    "    return v/np.sqrt(np.sum(v**2))*r\n",
    "\n",
    "  def explain_instance(self,\n",
    "                       input_instance,\n",
    "                       label,\n",
    "                       num_features, \n",
    "                       classifier_fn = None,\n",
    "                       dataset=None):\n",
    "    \n",
    "#     data, labels, distances, mapping = self.data_labels_distances_mapping(raw_data, classifier_fn)\n",
    "    \n",
    "    data = self.perturbations\n",
    "    if classifier_fn != None:\n",
    "        if not hasattr(classifier_fn, '__call__'):\n",
    "            classifier_fn = classifier_fn.predict_proba\n",
    "        labels = classifier_fn(data)\n",
    "    elif self.labels.all() != None:\n",
    "        labels = self.labels\n",
    "    else:\n",
    "        print(\"No classifier found\")\n",
    " \n",
    "    assert labels.all() != None , 'Need labels or classifier'\n",
    "    \n",
    "    low_data = self.low_perturbations\n",
    "    low_base = self.mapper.transform(input_instance)\n",
    "    distances = np.asarray([np.linalg.norm(low_data[i] - low_base) for i in range(low_data.shape[0])])\n",
    "    \n",
    "    return self.explain_instance_with_data(data, labels, distances, label, num_features)\n",
    "\n",
    "#     distance_fn = lambda x : sklearn.metrics.pairwise.cosine_distances(input_instance,x)[0] * 100\n",
    "#     distances = distance_fn(data)\n",
    "#     mapping = input_instance.nonzero()[1]\n",
    "    \n",
    "    \n",
    "#     if self.return_mapped:\n",
    "        \n",
    "#         if self.return_mean:\n",
    "#             exp, mean =   self.explain_instance_with_data(data, labels, distances, label, num_features)\n",
    "#         else:\n",
    "#             exp =   self.explain_instance_with_data(data, labels, distances, label, num_features)\n",
    "            \n",
    "#         exp = [(mapping[x[0]], x[1]) for x in exp]\n",
    "#         if self.return_mean:\n",
    "#             return exp, mean\n",
    "#         else:\n",
    "#             return exp\n",
    "        \n",
    "#     return self.explain_instance_with_data(data, labels, distances, label, num_features), mapping"
   ]
  },
  {
   "cell_type": "code",
   "execution_count": 180,
   "id": "0befa20c-15fe-436c-a862-a0e26c49bc95",
   "metadata": {},
   "outputs": [],
   "source": [
    "rho = 25\n",
    "kernel = lambda d: np.sqrt(np.exp(-(d**2) / rho ** 2))\n",
    "emap_explainer = EMaPLocalExplainer(kernel, \n",
    "                                    base_data = train_vector.todense(),\n",
    "                                    clf_fn = lime_evaluator.classifiers[dataset][algorithm],\n",
    "                                    radius = 1,\n",
    "                                    num_samples=1000, \n",
    "                                    return_mean=False, \n",
    "                                    verbose=False, \n",
    "                                    return_mapped=False)\n",
    "emap_explain_fn = emap_explainer.explain_instance"
   ]
  },
  {
   "cell_type": "code",
   "execution_count": 188,
   "id": "a3e56092-ad51-4d96-8c06-ba511dda3924",
   "metadata": {},
   "outputs": [
    {
     "name": "stdout",
     "output_type": "stream",
     "text": [
      "Dataset: multi_polarity_books\n",
      "classifier: l1logreg\n"
     ]
    },
    {
     "ename": "AttributeError",
     "evalue": "'int' object has no attribute 'predict_proba'",
     "output_type": "error",
     "traceback": [
      "\u001b[0;31m---------------------------------------------------------------------------\u001b[0m",
      "\u001b[0;31mAttributeError\u001b[0m                            Traceback (most recent call last)",
      "\u001b[0;32m/tmp/ipykernel_257831/3498192363.py\u001b[0m in \u001b[0;36m<module>\u001b[0;34m\u001b[0m\n\u001b[0;32m----> 1\u001b[0;31m \u001b[0mtrain_results\u001b[0m\u001b[0;34m,\u001b[0m \u001b[0mtest_results\u001b[0m \u001b[0;34m=\u001b[0m \u001b[0mlime_evaluator\u001b[0m\u001b[0;34m.\u001b[0m\u001b[0mmeasure_explanation_hability\u001b[0m\u001b[0;34m(\u001b[0m\u001b[0memap_explain_fn\u001b[0m\u001b[0;34m)\u001b[0m\u001b[0;34m\u001b[0m\u001b[0;34m\u001b[0m\u001b[0m\n\u001b[0m",
      "\u001b[0;32m/tmp/ipykernel_257831/3597394462.py\u001b[0m in \u001b[0;36mmeasure_explanation_hability\u001b[0;34m(self, explain_fn, max_examples)\u001b[0m\n\u001b[1;32m     99\u001b[0m                 \u001b[0mto_get\u001b[0m \u001b[0;34m=\u001b[0m \u001b[0mbudget\u001b[0m\u001b[0;34m\u001b[0m\u001b[0;34m\u001b[0m\u001b[0m\n\u001b[1;32m    100\u001b[0m                 exp_features = set(map(lambda x:x[0],\n\u001b[0;32m--> 101\u001b[0;31m                 explain_fn(self.test_vectors[d].todense()[i], self.test_labels[d][i] ,self.classifiers[d][c], to_get, d)))\n\u001b[0m\u001b[1;32m    102\u001b[0m                 \u001b[0mtest_results\u001b[0m\u001b[0;34m[\u001b[0m\u001b[0md\u001b[0m\u001b[0;34m]\u001b[0m\u001b[0;34m[\u001b[0m\u001b[0mc\u001b[0m\u001b[0;34m]\u001b[0m\u001b[0;34m.\u001b[0m\u001b[0mappend\u001b[0m\u001b[0;34m(\u001b[0m\u001b[0mfloat\u001b[0m\u001b[0;34m(\u001b[0m\u001b[0mlen\u001b[0m\u001b[0;34m(\u001b[0m\u001b[0mtrue_features\u001b[0m\u001b[0;34m.\u001b[0m\u001b[0mintersection\u001b[0m\u001b[0;34m(\u001b[0m\u001b[0mexp_features\u001b[0m\u001b[0;34m)\u001b[0m\u001b[0;34m)\u001b[0m\u001b[0;34m)\u001b[0m \u001b[0;34m/\u001b[0m \u001b[0mlen\u001b[0m\u001b[0;34m(\u001b[0m\u001b[0mtrue_features\u001b[0m\u001b[0;34m)\u001b[0m\u001b[0;34m)\u001b[0m\u001b[0;34m\u001b[0m\u001b[0;34m\u001b[0m\u001b[0m\n\u001b[1;32m    103\u001b[0m                 \u001b[0;32mif\u001b[0m \u001b[0mmax_examples\u001b[0m \u001b[0;32mand\u001b[0m \u001b[0mi\u001b[0m \u001b[0;34m>=\u001b[0m \u001b[0mmax_examples\u001b[0m\u001b[0;34m:\u001b[0m\u001b[0;34m\u001b[0m\u001b[0;34m\u001b[0m\u001b[0m\n",
      "\u001b[0;32m/tmp/ipykernel_257831/372031648.py\u001b[0m in \u001b[0;36mexplain_instance\u001b[0;34m(self, input_instance, label, num_features, classifier_fn, dataset)\u001b[0m\n\u001b[1;32m    151\u001b[0m     \u001b[0;32mif\u001b[0m \u001b[0mclassifier_fn\u001b[0m \u001b[0;34m!=\u001b[0m \u001b[0;32mNone\u001b[0m\u001b[0;34m:\u001b[0m\u001b[0;34m\u001b[0m\u001b[0;34m\u001b[0m\u001b[0m\n\u001b[1;32m    152\u001b[0m         \u001b[0;32mif\u001b[0m \u001b[0;32mnot\u001b[0m \u001b[0mhasattr\u001b[0m\u001b[0;34m(\u001b[0m\u001b[0mclassifier_fn\u001b[0m\u001b[0;34m,\u001b[0m \u001b[0;34m'__call__'\u001b[0m\u001b[0;34m)\u001b[0m\u001b[0;34m:\u001b[0m\u001b[0;34m\u001b[0m\u001b[0;34m\u001b[0m\u001b[0m\n\u001b[0;32m--> 153\u001b[0;31m             \u001b[0mclassifier_fn\u001b[0m \u001b[0;34m=\u001b[0m \u001b[0mclassifier_fn\u001b[0m\u001b[0;34m.\u001b[0m\u001b[0mpredict_proba\u001b[0m\u001b[0;34m\u001b[0m\u001b[0;34m\u001b[0m\u001b[0m\n\u001b[0m\u001b[1;32m    154\u001b[0m         \u001b[0mlabels\u001b[0m \u001b[0;34m=\u001b[0m \u001b[0mclassifier_fn\u001b[0m\u001b[0;34m(\u001b[0m\u001b[0mdata\u001b[0m\u001b[0;34m)\u001b[0m\u001b[0;34m\u001b[0m\u001b[0;34m\u001b[0m\u001b[0m\n\u001b[1;32m    155\u001b[0m     \u001b[0;32melif\u001b[0m \u001b[0mself\u001b[0m\u001b[0;34m.\u001b[0m\u001b[0mlabels\u001b[0m\u001b[0;34m.\u001b[0m\u001b[0mall\u001b[0m\u001b[0;34m(\u001b[0m\u001b[0;34m)\u001b[0m \u001b[0;34m!=\u001b[0m \u001b[0;32mNone\u001b[0m\u001b[0;34m:\u001b[0m\u001b[0;34m\u001b[0m\u001b[0;34m\u001b[0m\u001b[0m\n",
      "\u001b[0;31mAttributeError\u001b[0m: 'int' object has no attribute 'predict_proba'"
     ]
    }
   ],
   "source": [
    "train_results, test_results = lime_evaluator.measure_explanation_hability(emap_explain_fn)"
   ]
  },
  {
   "cell_type": "code",
   "execution_count": 185,
   "id": "f07a7513-ffd7-4f34-a08b-472f4ee9c252",
   "metadata": {},
   "outputs": [],
   "source": [
    "index = 0\n",
    "true_features = set(c_features)\n",
    "\n",
    "topk = 10\n",
    "\n",
    "emap_features = emap_explain_fn(test_vector[index].todense(), test_labels[index], topk, dataset=dataset)\n",
    "if len(emap_features) > topk:\n",
    "    emap_features_topk = set([x[0] for x in emap_features[0:topk]])\n",
    "else:\n",
    "    emap_features_topk = set([x[0] for x in emap_features])\n",
    "lime_features = lime_explain_fn(test_vector[index], test_labels[index] ,clf, topk, dataset)\n",
    "\n",
    "lime_feature_set = set(map(lambda x:x[0],lime_features))\n",
    "emap_feature_set = set(map(lambda x:x[0],emap_features))"
   ]
  },
  {
   "cell_type": "code",
   "execution_count": 186,
   "id": "cd7d2937-41ee-4d3e-8be4-63e39d30fe77",
   "metadata": {},
   "outputs": [
    {
     "name": "stdout",
     "output_type": "stream",
     "text": [
      "Recall LIME:  0.08108108108108109\n",
      "Recall EMaP:  0.13513513513513514\n",
      "Recall EMaP:  0.13513513513513514\n",
      "FP LIME:  0.4\n",
      "FP EMaP:  0.0\n",
      "FP EMaP:  0.0\n"
     ]
    }
   ],
   "source": [
    "print(\"Recall LIME: \", float(len(true_features.intersection(lime_feature_set))) / len(true_features))\n",
    "print(\"Recall EMaP: \", float(len(true_features.intersection(emap_feature_set))) / len(true_features))\n",
    "print(\"Recall EMaP: \", float(len(true_features.intersection(emap_features_topk))) / len(true_features))\n",
    "print(\"FP LIME: \", (len(lime_feature_set) - float(len(true_features.intersection(lime_feature_set)))) / len(lime_feature_set))\n",
    "print(\"FP EMaP: \", (len(emap_feature_set) - float(len(true_features.intersection(emap_feature_set)))) / len(emap_feature_set))\n",
    "print(\"FP EMaP: \", (len(emap_features_topk) - float(len(true_features.intersection(emap_features_topk)))) / len(emap_features_topk))"
   ]
  },
  {
   "cell_type": "code",
   "execution_count": 187,
   "id": "f3842c12-f6d3-458a-8ff6-844a8c8ca2b9",
   "metadata": {},
   "outputs": [
    {
     "data": {
      "text/plain": [
       "[(1723, 0.07697523593714628),\n",
       " (18904, -0.06458081019716475),\n",
       " (18947, 0.05437003647283382),\n",
       " (8502, -0.039458933985327606),\n",
       " (19443, 0.0276454534359968),\n",
       " (1738, -0.01693245656703229),\n",
       " (7648, -0.003202630118523521),\n",
       " (13442, -0.002958636462666636),\n",
       " (19061, -0.002813192384892756),\n",
       " (4638, -0.002722047239596949)]"
      ]
     },
     "execution_count": 187,
     "metadata": {},
     "output_type": "execute_result"
    }
   ],
   "source": [
    "lime_features"
   ]
  },
  {
   "cell_type": "code",
   "execution_count": 152,
   "id": "b5b2b78c-a9dc-40c2-80a3-997d7d333db0",
   "metadata": {},
   "outputs": [
    {
     "data": {
      "text/plain": [
       "{1723, 1738, 8502, 18904, 18947, 19443}"
      ]
     },
     "execution_count": 152,
     "metadata": {},
     "output_type": "execute_result"
    }
   ],
   "source": [
    "true_features.intersection(lime_feature_set)"
   ]
  },
  {
   "cell_type": "code",
   "execution_count": 153,
   "id": "acf07bd9-cb30-4fc0-8af6-6801031a6774",
   "metadata": {},
   "outputs": [
    {
     "data": {
      "text/plain": [
       "{658, 1414, 6067, 7564, 10100, 11746, 11809, 18904, 18911, 19443}"
      ]
     },
     "execution_count": 153,
     "metadata": {},
     "output_type": "execute_result"
    }
   ],
   "source": [
    "true_features.intersection(emap_feature_set)"
   ]
  },
  {
   "cell_type": "code",
   "execution_count": 117,
   "id": "166e25cf-6c05-4d57-931f-8b1559a89018",
   "metadata": {},
   "outputs": [],
   "source": [
    "emap_features_values = np.abs(np.asarray([x[1] for x in emap_features]))"
   ]
  },
  {
   "cell_type": "code",
   "execution_count": 119,
   "id": "bf70c644-5698-429e-afd0-4b409feb732b",
   "metadata": {},
   "outputs": [],
   "source": [
    "emap_features_topk = np.argpartition(emap_features_values, -10)[-10:]"
   ]
  },
  {
   "cell_type": "code",
   "execution_count": 127,
   "id": "81adf850-2644-44af-9e13-af2f5e563756",
   "metadata": {},
   "outputs": [],
   "source": [
    "emap_features_topk = set([x[0] for x in emap_features[0:10]])"
   ]
  },
  {
   "cell_type": "code",
   "execution_count": 130,
   "id": "109a5d23-3736-4524-b97b-c1c1b2f16f2e",
   "metadata": {},
   "outputs": [
    {
     "data": {
      "text/plain": [
       "{1414, 2039, 4865, 5424, 6067, 7564, 11746, 11809, 18911, 19242}"
      ]
     },
     "execution_count": 130,
     "metadata": {},
     "output_type": "execute_result"
    }
   ],
   "source": [
    "emap_features_topk"
   ]
  },
  {
   "cell_type": "code",
   "execution_count": 131,
   "id": "401cb2d2-d880-4533-8078-90cb222b5072",
   "metadata": {},
   "outputs": [
    {
     "data": {
      "text/plain": [
       "{1597, 3068, 5318, 6171, 8529, 9170, 14426, 17444, 18204, 19061}"
      ]
     },
     "execution_count": 131,
     "metadata": {},
     "output_type": "execute_result"
    }
   ],
   "source": [
    "lime_feature_set"
   ]
  },
  {
   "cell_type": "code",
   "execution_count": 133,
   "id": "df8c5f91-e8a9-4c58-9c8a-976206c6c103",
   "metadata": {},
   "outputs": [
    {
     "data": {
      "text/plain": [
       "{1414, 2039, 4865, 5424, 6067, 7564, 11746, 11809, 18911, 19242}"
      ]
     },
     "execution_count": 133,
     "metadata": {},
     "output_type": "execute_result"
    }
   ],
   "source": [
    "true_features.intersection(emap_features_topk)"
   ]
  },
  {
   "cell_type": "code",
   "execution_count": 59,
   "id": "5d271647-ec19-46cc-a6a1-005a317b9640",
   "metadata": {},
   "outputs": [
    {
     "name": "stdout",
     "output_type": "stream",
     "text": [
      "0.0\n"
     ]
    }
   ],
   "source": [
    "print((float(len(set(c_features).intersection(set(emap_features[0])))) / len(c_features)))"
   ]
  },
  {
   "cell_type": "code",
   "execution_count": 57,
   "id": "7cc97f65-6895-4811-9c55-953c9c5bd3b7",
   "metadata": {},
   "outputs": [
    {
     "data": {
      "text/plain": [
       "{151,\n",
       " 610,\n",
       " 658,\n",
       " 670,\n",
       " 1414,\n",
       " 1591,\n",
       " 1723,\n",
       " 1738,\n",
       " 2010,\n",
       " 2039,\n",
       " 2058,\n",
       " 4864,\n",
       " 4865,\n",
       " 5424,\n",
       " 5932,\n",
       " 6001,\n",
       " 6020,\n",
       " 6067,\n",
       " 6171,\n",
       " 7292,\n",
       " 7340,\n",
       " 7460,\n",
       " 7564,\n",
       " 8123,\n",
       " 8173,\n",
       " 8178,\n",
       " 8342,\n",
       " 8368,\n",
       " 8502,\n",
       " 9002,\n",
       " 9541,\n",
       " 9812,\n",
       " 10100,\n",
       " 10126,\n",
       " 10222,\n",
       " 10327,\n",
       " 10330,\n",
       " 10488,\n",
       " 10787,\n",
       " 11243,\n",
       " 11389,\n",
       " 11448,\n",
       " 11459,\n",
       " 11681,\n",
       " 11746,\n",
       " 11809,\n",
       " 11819,\n",
       " 12216,\n",
       " 12389,\n",
       " 13177,\n",
       " 13180,\n",
       " 14128,\n",
       " 14162,\n",
       " 14231,\n",
       " 15433,\n",
       " 15778,\n",
       " 16120,\n",
       " 16652,\n",
       " 17409,\n",
       " 17420,\n",
       " 17691,\n",
       " 18276,\n",
       " 18507,\n",
       " 18904,\n",
       " 18911,\n",
       " 18943,\n",
       " 18947,\n",
       " 19009,\n",
       " 19049,\n",
       " 19242,\n",
       " 19288,\n",
       " 19350,\n",
       " 19414,\n",
       " 19443}"
      ]
     },
     "execution_count": 57,
     "metadata": {},
     "output_type": "execute_result"
    }
   ],
   "source": [
    "set(c_features)"
   ]
  },
  {
   "cell_type": "code",
   "execution_count": null,
   "id": "16aa220a-f05e-4ca2-aa17-4182a5d8ee15",
   "metadata": {},
   "outputs": [],
   "source": []
  },
  {
   "cell_type": "code",
   "execution_count": null,
   "id": "4dd19f1c-0008-42f4-830b-8ee27c622353",
   "metadata": {},
   "outputs": [],
   "source": []
  },
  {
   "cell_type": "code",
   "execution_count": null,
   "id": "b68521ef-0619-4834-add1-74a56b8b22bb",
   "metadata": {},
   "outputs": [],
   "source": []
  },
  {
   "cell_type": "code",
   "execution_count": 18,
   "id": "6c3b924b-aaaf-44c9-a718-067f25a35bb7",
   "metadata": {},
   "outputs": [],
   "source": [
    "c_features = clf.coef_.nonzero()[1]"
   ]
  },
  {
   "cell_type": "code",
   "execution_count": 19,
   "id": "83b86e20-d8d8-4b18-a71c-f01b40c57746",
   "metadata": {},
   "outputs": [
    {
     "data": {
      "text/plain": [
       "array([  151,   610,   658,   670,  1414,  1591,  1723,  1738,  2010,\n",
       "        2039,  2058,  4864,  4865,  5424,  5932,  6001,  6020,  6067,\n",
       "        6171,  7292,  7340,  7460,  7564,  8123,  8173,  8178,  8342,\n",
       "        8368,  8502,  9002,  9541,  9812, 10100, 10126, 10222, 10327,\n",
       "       10330, 10488, 10787, 11243, 11389, 11448, 11459, 11681, 11746,\n",
       "       11809, 11819, 12216, 12389, 13177, 13180, 14128, 14162, 14231,\n",
       "       15433, 15778, 16120, 16652, 17409, 17420, 17691, 18276, 18507,\n",
       "       18904, 18911, 18943, 18947, 19009, 19049, 19242, 19288, 19350,\n",
       "       19414, 19443])"
      ]
     },
     "execution_count": 19,
     "metadata": {},
     "output_type": "execute_result"
    }
   ],
   "source": [
    "c_features"
   ]
  },
  {
   "cell_type": "code",
   "execution_count": 25,
   "id": "74318d90-435a-4ca2-8dd9-17d36400242d",
   "metadata": {},
   "outputs": [],
   "source": [
    "rho = 25\n",
    "kernel = lambda d: np.sqrt(np.exp(-(d**2) / rho ** 2))\n",
    "lime = explainers.GeneralizedLocalExplainer(kernel, explainers.data_labels_distances_mapping_text, num_samples=15000, return_mean=False, verbose=False, return_mapped=True)\n",
    "lime_fn = lime.explain_instance"
   ]
  },
  {
   "cell_type": "code",
   "execution_count": 23,
   "id": "f4bbebfb-9eb8-494d-b3d4-9ae7bbedcfa7",
   "metadata": {},
   "outputs": [
    {
     "data": {
      "text/plain": [
       "array([1, 1, 1, ..., 1, 1, 1])"
      ]
     },
     "execution_count": 23,
     "metadata": {},
     "output_type": "execute_result"
    }
   ],
   "source": [
    "lime_fn(self.test_vectors[d][i], self.test_labels[d][i] ,self.classifiers[d][c], to_get, ))"
   ]
  },
  {
   "cell_type": "code",
   "execution_count": null,
   "id": "51a20faf-04b9-4734-a817-9c8caa7d1ead",
   "metadata": {},
   "outputs": [],
   "source": [
    "lime_fn(self.test_vectors[d][i], self.test_labels[d][i] ,clf, 10, dataset))"
   ]
  },
  {
   "cell_type": "code",
   "execution_count": null,
   "id": "148b6ce9-0850-4ce9-8020-e611c3515e9f",
   "metadata": {},
   "outputs": [],
   "source": []
  },
  {
   "cell_type": "code",
   "execution_count": null,
   "id": "6fb4b6cf-a664-4efa-a07a-06cdcf041447",
   "metadata": {},
   "outputs": [],
   "source": []
  },
  {
   "cell_type": "code",
   "execution_count": 32,
   "id": "17091d91-10b0-47c5-9bc1-7cafe9831854",
   "metadata": {},
   "outputs": [
    {
     "name": "stdout",
     "output_type": "stream",
     "text": [
      "Average test:  0.0203940073426095\n"
     ]
    }
   ],
   "source": [
    "print('Average test: ', np.mean(test_results[dataset][algorithm]))\n",
    "out = {'train': train_results[dataset][algorithm], 'test' : test_results[dataset][algorithm]}"
   ]
  },
  {
   "cell_type": "code",
   "execution_count": null,
   "id": "eaf506c7-fcee-4218-ab69-8ad7ec81c7dd",
   "metadata": {},
   "outputs": [],
   "source": []
  },
  {
   "cell_type": "code",
   "execution_count": null,
   "id": "9fbd3cc1-669b-43ee-a719-495757c678bf",
   "metadata": {},
   "outputs": [],
   "source": []
  },
  {
   "cell_type": "code",
   "execution_count": null,
   "id": "f03a93e7-b05a-41b7-a61d-8c8bf6fdd91d",
   "metadata": {},
   "outputs": [],
   "source": []
  },
  {
   "cell_type": "code",
   "execution_count": null,
   "id": "fe18d800-0929-4b16-bd83-f0f44277ee86",
   "metadata": {},
   "outputs": [],
   "source": [
    "data, labels, distances, mapping = self.data_labels_distances_mapping(raw_data, classifier_fn)"
   ]
  },
  {
   "cell_type": "code",
   "execution_count": null,
   "id": "7de23ab2-7563-4173-88ec-1e227c9dea5e",
   "metadata": {},
   "outputs": [],
   "source": []
  },
  {
   "cell_type": "code",
   "execution_count": null,
   "id": "4dc87965-50b0-4608-838e-0d515f3d6a0f",
   "metadata": {},
   "outputs": [],
   "source": [
    "  def measure_explanation_hability(self, explain_fn, max_examples=None):\n",
    "    \"\"\"Asks for explanations for all predictions in the train and test set, with\n",
    "    budget = size of explanation. Returns two maps (train_results,\n",
    "    test_results), from dataset to classifier to list of recalls\"\"\"\n",
    "    budget = 10\n",
    "    train_results = {}\n",
    "    test_results = {}\n",
    "    for d in self.train_data:\n",
    "        train_results[d] = {}\n",
    "        test_results[d] = {}\n",
    "        print('Dataset:', d)\n",
    "        for c in self.classifiers[d]:\n",
    "            train_results[d][c] = []\n",
    "            test_results[d][c] = []\n",
    "            if c == 'l1logreg':\n",
    "                c_features = self.classifiers[d][c].coef_.nonzero()[1]\n",
    "            print('classifier:', c)\n",
    "            \n",
    "            for i in range(len(self.test_data[d])):\n",
    "                if c == 'l1logreg':\n",
    "                    true_features = set([x for x in self.test_vectors[d][i].nonzero()[1] if x in c_features])\n",
    "                elif c == 'tree':\n",
    "                    true_features = get_tree_explanation(self.classifiers[d][c], self.test_vectors[d][i])\n",
    "                if len(true_features) == 0:\n",
    "                    continue\n",
    "                    \n",
    "                to_get = budget\n",
    "                exp_features = set(map(lambda x:x[0],\n",
    "                explain_fn(self.test_vectors[d].todense()[i], self.test_labels[d][i] ,self.classifiers[d][c], to_get, d)))\n",
    "                test_results[d][c].append(float(len(true_features.intersection(exp_features))) / len(true_features))\n",
    "                if max_examples and i >= max_examples:\n",
    "                    break\n",
    "    return train_results, test_results"
   ]
  },
  {
   "cell_type": "code",
   "execution_count": null,
   "id": "f84fbd18-3c32-4c4e-8961-153eb26e774c",
   "metadata": {},
   "outputs": [],
   "source": [
    "\n",
    "\n",
    "get_tree_explanation(self.classifiers[d][c], self.test_vectors[d][i])"
   ]
  },
  {
   "cell_type": "code",
   "execution_count": 33,
   "id": "eb7cb849-a095-4836-8c37-4de4c8e3b903",
   "metadata": {},
   "outputs": [
    {
     "ename": "AttributeError",
     "evalue": "'LogisticRegression' object has no attribute 'tree_'",
     "output_type": "error",
     "traceback": [
      "\u001b[0;31m---------------------------------------------------------------------------\u001b[0m",
      "\u001b[0;31mAttributeError\u001b[0m                            Traceback (most recent call last)",
      "\u001b[0;32m/tmp/ipykernel_99325/3991437589.py\u001b[0m in \u001b[0;36m<module>\u001b[0;34m\u001b[0m\n\u001b[0;32m----> 1\u001b[0;31m \u001b[0mget_tree_explanation\u001b[0m\u001b[0;34m(\u001b[0m\u001b[0mlime_evaluator\u001b[0m\u001b[0;34m.\u001b[0m\u001b[0mclassifiers\u001b[0m\u001b[0;34m[\u001b[0m\u001b[0mdataset\u001b[0m\u001b[0;34m]\u001b[0m\u001b[0;34m[\u001b[0m\u001b[0malgorithm\u001b[0m\u001b[0;34m]\u001b[0m\u001b[0;34m,\u001b[0m \u001b[0mlime_evaluator\u001b[0m\u001b[0;34m.\u001b[0m\u001b[0mtest_vectors\u001b[0m\u001b[0;34m[\u001b[0m\u001b[0mdataset\u001b[0m\u001b[0;34m]\u001b[0m\u001b[0;34m[\u001b[0m\u001b[0;36m1\u001b[0m\u001b[0;34m]\u001b[0m\u001b[0;34m)\u001b[0m\u001b[0;34m\u001b[0m\u001b[0;34m\u001b[0m\u001b[0m\n\u001b[0m",
      "\u001b[0;32m/tmp/ipykernel_99325/3597394462.py\u001b[0m in \u001b[0;36mget_tree_explanation\u001b[0;34m(tree, v)\u001b[0m\n\u001b[1;32m      1\u001b[0m \u001b[0;32mdef\u001b[0m \u001b[0mget_tree_explanation\u001b[0m\u001b[0;34m(\u001b[0m\u001b[0mtree\u001b[0m\u001b[0;34m,\u001b[0m \u001b[0mv\u001b[0m\u001b[0;34m)\u001b[0m\u001b[0;34m:\u001b[0m\u001b[0;34m\u001b[0m\u001b[0;34m\u001b[0m\u001b[0m\n\u001b[0;32m----> 2\u001b[0;31m     \u001b[0mt\u001b[0m \u001b[0;34m=\u001b[0m \u001b[0mtree\u001b[0m\u001b[0;34m.\u001b[0m\u001b[0mtree_\u001b[0m\u001b[0;34m\u001b[0m\u001b[0;34m\u001b[0m\u001b[0m\n\u001b[0m\u001b[1;32m      3\u001b[0m     \u001b[0mnonzero\u001b[0m \u001b[0;34m=\u001b[0m \u001b[0mv\u001b[0m\u001b[0;34m.\u001b[0m\u001b[0mnonzero\u001b[0m\u001b[0;34m(\u001b[0m\u001b[0;34m)\u001b[0m\u001b[0;34m[\u001b[0m\u001b[0;36m1\u001b[0m\u001b[0;34m]\u001b[0m\u001b[0;34m\u001b[0m\u001b[0;34m\u001b[0m\u001b[0m\n\u001b[1;32m      4\u001b[0m     \u001b[0mcurrent\u001b[0m \u001b[0;34m=\u001b[0m \u001b[0;36m0\u001b[0m\u001b[0;34m\u001b[0m\u001b[0;34m\u001b[0m\u001b[0m\n\u001b[1;32m      5\u001b[0m     \u001b[0mleft_child\u001b[0m \u001b[0;34m=\u001b[0m \u001b[0mt\u001b[0m\u001b[0;34m.\u001b[0m\u001b[0mchildren_left\u001b[0m\u001b[0;34m[\u001b[0m\u001b[0mcurrent\u001b[0m\u001b[0;34m]\u001b[0m\u001b[0;34m\u001b[0m\u001b[0;34m\u001b[0m\u001b[0m\n",
      "\u001b[0;31mAttributeError\u001b[0m: 'LogisticRegression' object has no attribute 'tree_'"
     ]
    }
   ],
   "source": [
    "get_tree_explanation(lime_evaluator.classifiers[dataset][algorithm], lime_evaluator.test_vectors[dataset][1])"
   ]
  },
  {
   "cell_type": "code",
   "execution_count": 36,
   "id": "6b6e58cd-cfeb-4dd8-8883-382dad6278ac",
   "metadata": {},
   "outputs": [
    {
     "data": {
      "text/plain": [
       "{1723, 1738, 8502, 11459, 17409, 18904, 18947, 19443}"
      ]
     },
     "execution_count": 36,
     "metadata": {},
     "output_type": "execute_result"
    }
   ],
   "source": [
    "set([x for x in lime_evaluator.test_vectors[dataset][0].nonzero()[1] if x in c_features])"
   ]
  },
  {
   "cell_type": "code",
   "execution_count": 34,
   "id": "59eabf52-2b98-42cf-9a9b-48461d33535d",
   "metadata": {},
   "outputs": [],
   "source": [
    "c_features = lime_evaluator.classifiers[dataset][algorithm].coef_.nonzero()[1]"
   ]
  },
  {
   "cell_type": "code",
   "execution_count": 35,
   "id": "98d8c0d0-77b7-4994-878b-d5a3b55250c1",
   "metadata": {},
   "outputs": [
    {
     "data": {
      "text/plain": [
       "array([  151,   610,   658,   670,  1414,  1591,  1723,  1738,  2010,\n",
       "        2039,  2058,  4864,  4865,  5424,  5932,  6001,  6020,  6067,\n",
       "        6171,  7292,  7340,  7460,  7564,  8123,  8173,  8178,  8342,\n",
       "        8368,  8502,  9002,  9541,  9812, 10100, 10126, 10222, 10327,\n",
       "       10330, 10488, 10787, 11243, 11389, 11448, 11459, 11681, 11746,\n",
       "       11809, 11819, 12216, 12389, 13177, 13180, 14128, 14162, 14231,\n",
       "       15433, 15778, 16120, 16652, 17409, 17420, 17691, 18276, 18507,\n",
       "       18904, 18911, 18943, 18947, 19009, 19049, 19242, 19288, 19350,\n",
       "       19414, 19443])"
      ]
     },
     "execution_count": 35,
     "metadata": {},
     "output_type": "execute_result"
    }
   ],
   "source": [
    "c_features"
   ]
  },
  {
   "cell_type": "code",
   "execution_count": null,
   "id": "58ee1e15-1df5-40e5-8e6c-045e6cc3f466",
   "metadata": {},
   "outputs": [],
   "source": []
  }
 ],
 "metadata": {
  "kernelspec": {
   "display_name": "Python 3 (ipykernel)",
   "language": "python",
   "name": "python3"
  },
  "language_info": {
   "codemirror_mode": {
    "name": "ipython",
    "version": 3
   },
   "file_extension": ".py",
   "mimetype": "text/x-python",
   "name": "python",
   "nbconvert_exporter": "python",
   "pygments_lexer": "ipython3",
   "version": "3.8.12"
  }
 },
 "nbformat": 4,
 "nbformat_minor": 5
}
