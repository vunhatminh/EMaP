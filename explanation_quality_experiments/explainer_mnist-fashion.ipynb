{
 "cells": [
  {
   "cell_type": "code",
   "execution_count": 1,
   "id": "206c73fb-db8b-44f0-b938-f9bfa1e5970f",
   "metadata": {},
   "outputs": [
    {
     "name": "stderr",
     "output_type": "stream",
     "text": [
      "Matplotlib is building the font cache; this may take a moment.\n"
     ]
    },
    {
     "name": "stdout",
     "output_type": "stream",
     "text": [
      "EXPERIMENT:  fashion_mnist\n",
      "RADIUS:  1e-05\n",
      "TARGET:  None\n",
      "DIM:  3\n",
      "PIVOTS:  10\n",
      "SHUFFLE:  False\n"
     ]
    }
   ],
   "source": [
    "import numpy as np\n",
    "import cv2\n",
    "import pickle\n",
    "import matplotlib.pyplot as plt\n",
    "import time\n",
    "import pandas as pd\n",
    "import argparse\n",
    "\n",
    "import torch\n",
    "import torch.nn as nn\n",
    "from torch.autograd import Variable\n",
    "\n",
    "import torchvision\n",
    "import torchvision.transforms as transforms\n",
    "\n",
    "from numpy import linalg as LA\n",
    "from sklearn.ensemble import RandomForestClassifier\n",
    "from sklearn.model_selection import train_test_split\n",
    "from sklearn import linear_model\n",
    "\n",
    "from fashion_model import FashionCNN \n",
    "from manifold_torch import Manifold_Image_Sampler\n",
    "\n",
    "device = torch.device(\"cuda:0\" if torch.cuda.is_available() else \"cpu\")\n",
    "\n",
    "# prog_args = arg_parse()\n",
    "\n",
    "EXPERIMENT = 'fashion_mnist'\n",
    "RADIUS = 0.00001\n",
    "NUM_PERTURBATIONS = 100\n",
    "MULTIPLIER = 100\n",
    "DIM = 3\n",
    "PIVOTS = 10\n",
    "SHUFFLE = False\n",
    "TARGET = None\n",
    "\n",
    "print(\"EXPERIMENT: \", EXPERIMENT)\n",
    "print(\"RADIUS: \", RADIUS)\n",
    "print(\"TARGET: \", TARGET)\n",
    "print(\"DIM: \", DIM)\n",
    "print(\"PIVOTS: \", PIVOTS)\n",
    "print(\"SHUFFLE: \", SHUFFLE)"
   ]
  },
  {
   "cell_type": "code",
   "execution_count": 2,
   "id": "86971cc0-ced7-4340-b61a-02e458c96194",
   "metadata": {},
   "outputs": [
    {
     "name": "stdout",
     "output_type": "stream",
     "text": [
      "Loading fashion mnist\n",
      "Done loading\n"
     ]
    }
   ],
   "source": [
    "if EXPERIMENT == 'fashion_mnist':\n",
    "    print(\"Loading fashion mnist\")\n",
    "    train_set = torchvision.datasets.FashionMNIST(\"./data\", download=True, transform=\n",
    "                                                    transforms.Compose([transforms.ToTensor()]))\n",
    "    test_set = torchvision.datasets.FashionMNIST(\"./data\", download=True, train=False, transform=\n",
    "                                                   transforms.Compose([transforms.ToTensor()]))\n",
    "elif EXPERIMENT == 'mnist':\n",
    "    print(\"Loading mnist\")\n",
    "    train_set = torchvision.datasets.MNIST(\"./data\", download=True, transform=\n",
    "                                                    transforms.Compose([transforms.ToTensor()]))\n",
    "    test_set = torchvision.datasets.MNIST(\"./data\", download=True, train=False, transform=\n",
    "                                                   transforms.Compose([transforms.ToTensor()]))\n",
    "else:\n",
    "    print(\"Nothing to do.\")\n",
    "    \n",
    "print(\"Done loading\")\n",
    "    \n",
    "train_loader = torch.utils.data.DataLoader(train_set, \n",
    "                                           batch_size=100)\n",
    "test_loader = torch.utils.data.DataLoader(test_set,\n",
    "                                          batch_size=100)\n",
    "\n",
    "\n",
    "all_loader = torch.utils.data.DataLoader(train_set, batch_size=train_set.__len__())\n",
    "all_images, all_labels = next(iter(all_loader))\n"
   ]
  },
  {
   "cell_type": "code",
   "execution_count": 3,
   "id": "8736026b-14ab-41b2-a731-6ed8ff40e2aa",
   "metadata": {},
   "outputs": [
    {
     "name": "stdout",
     "output_type": "stream",
     "text": [
      "Initialize duration:  66.0824224948883\n"
     ]
    }
   ],
   "source": [
    "train_loader = torch.utils.data.DataLoader(train_set, \n",
    "                                           batch_size=100)\n",
    "test_loader = torch.utils.data.DataLoader(test_set,\n",
    "                                          batch_size=100)\n",
    "\n",
    "\n",
    "all_loader = torch.utils.data.DataLoader(train_set, batch_size=train_set.__len__())\n",
    "all_images, all_labels = next(iter(all_loader))\n",
    "\n",
    "start_time = time.time()\n",
    "manifold_sampler = Manifold_Image_Sampler(all_images, dim = DIM, labels = all_labels)\n",
    "duration = time.time() - start_time\n",
    "print(\"Initialize duration: \", duration)\n",
    "\n",
    "if TARGET == None:\n",
    "    targets = None\n",
    "    target_str = 'all'\n",
    "else:\n",
    "    targets = [TARGET]\n",
    "    target_str = str(TARGET)\n",
    "\n",
    "# Get the hyperplanes\n",
    "_ = manifold_sampler.get_pivots(manifold_sampler.labels, MULTIPLIER, shuffle = SHUFFLE, target_labels=targets)\n",
    "manifold_G = manifold_sampler.get_G_from_pivots()\n",
    "Gu, Gd, Gv = np.linalg.svd(manifold_G, full_matrices=False)"
   ]
  },
  {
   "cell_type": "code",
   "execution_count": 4,
   "id": "43262c04-f510-4d71-a13b-9acd84f881d6",
   "metadata": {},
   "outputs": [],
   "source": [
    "# manifold_sampler.get_G_from_samples(manifold_sampler.pivots[0:MULTIPLIER])"
   ]
  },
  {
   "cell_type": "code",
   "execution_count": 4,
   "id": "32af1725-1e87-4d63-af53-190eb689a09d",
   "metadata": {},
   "outputs": [
    {
     "name": "stdout",
     "output_type": "stream",
     "text": [
      "pretrained/fashionCNN.pt\n"
     ]
    },
    {
     "data": {
      "text/plain": [
       "<All keys matched successfully>"
      ]
     },
     "execution_count": 4,
     "metadata": {},
     "output_type": "execute_result"
    }
   ],
   "source": [
    "checkpt_file = 'pretrained/fashionCNN.pt'\n",
    "print(checkpt_file)\n",
    "\n",
    "model = FashionCNN()\n",
    "model.to(device)\n",
    "model.load_state_dict(torch.load(checkpt_file))"
   ]
  },
  {
   "cell_type": "code",
   "execution_count": 5,
   "id": "20153f61-fa40-4b31-9216-3f272dd19ac9",
   "metadata": {},
   "outputs": [
    {
     "name": "stdout",
     "output_type": "stream",
     "text": [
      "<class 'torch.Tensor'> <class 'torch.Tensor'>\n",
      "torch.Size([10, 1, 28, 28]) torch.Size([10])\n",
      "labels:  9, 0, 0, 3, 0, 2, 7, 2, 5, 5, "
     ]
    },
    {
     "data": {
      "image/png": "[encoded data removed]",
      "text/plain": [
       "<Figure size 1500x2000 with 1 Axes>"
      ]
     },
     "metadata": {},
     "output_type": "display_data"
    }
   ],
   "source": [
    "demo_loader = torch.utils.data.DataLoader(train_set, batch_size=10)\n",
    "\n",
    "batch = next(iter(demo_loader))\n",
    "images, labels = batch\n",
    "print(type(images), type(labels))\n",
    "print(images.shape, labels.shape)\n",
    "\n",
    "grid = torchvision.utils.make_grid(images, nrow=10)\n",
    "plt.figure(figsize=(15, 20))\n",
    "plt.imshow(np.transpose(grid, (1, 2, 0)))\n",
    "print(\"labels: \", end=\" \")\n",
    "for i, label in enumerate(labels):\n",
    "    print(label.item(), end=\", \")"
   ]
  },
  {
   "cell_type": "code",
   "execution_count": 6,
   "id": "1e5e4c05-1a22-495e-847f-c527b8cfa3cf",
   "metadata": {},
   "outputs": [],
   "source": [
    "# manifold_sampler.pivots.shape"
   ]
  },
  {
   "cell_type": "code",
   "execution_count": 7,
   "id": "b929e0fb-0934-4920-8c02-706ea2db9311",
   "metadata": {},
   "outputs": [
    {
     "data": {
      "text/plain": [
       "<matplotlib.image.AxesImage at 0x14dfc795e400>"
      ]
     },
     "execution_count": 7,
     "metadata": {},
     "output_type": "execute_result"
    },
    {
     "data": {
      "image/png": "[encoded data removed]",
      "text/plain": [
       "<Figure size 1500x2000 with 1 Axes>"
      ]
     },
     "metadata": {},
     "output_type": "display_data"
    }
   ],
   "source": [
    "grid = torchvision.utils.make_grid(manifold_sampler.pivots[100:110], nrow=10)\n",
    "plt.figure(figsize=(15, 20))\n",
    "plt.imshow(np.transpose(grid, (1, 2, 0)))"
   ]
  },
  {
   "cell_type": "code",
   "execution_count": 8,
   "id": "d38334b6-e97b-4731-8a93-49eeafb474da",
   "metadata": {},
   "outputs": [],
   "source": [
    "from sklearn import linear_model\n",
    "\n",
    "# n_samples = 100\n",
    "sigma = 10\n",
    "sim_sigma = 4\n",
    "\n",
    "def similarity_kernel(v1,v2,kernel_width = 1):\n",
    "    l2_dist = np.linalg.norm(v1 - v2)\n",
    "    return np.exp(- (l2_dist**2) / (kernel_width**2))\n",
    "\n",
    "def normalize(v, r):\n",
    "    return v/np.sqrt(np.sum(v**2))*r"
   ]
  },
  {
   "cell_type": "code",
   "execution_count": 9,
   "id": "304be50a-7a8f-4fb0-95bb-777de6a8d37e",
   "metadata": {},
   "outputs": [],
   "source": [
    "# DUPLICATIONS = 10\n",
    "# RADIUS = 0.00001\n",
    "# base_RADIUS = 0.00001\n",
    "# base_images = []\n",
    "# perturbations = []\n",
    "# gauss_perturb = []\n",
    "\n",
    "# for _ in range(DUPLICATIONS):\n",
    "#     # base\n",
    "#     base_gauss_ = np.random.normal(0, 1, size=manifold_sampler.pivots.shape)\n",
    "#     r = np.random.uniform()*base_RADIUS\n",
    "#     base_gauss_norm = normalize(base_gauss_, r)\n",
    "#     base_pc = manifold_sampler.to_1d(manifold_sampler.pivots + base_gauss_norm)\n",
    "    \n",
    "#     # gauss\n",
    "#     gauss_ = np.random.normal(0, 1, size=manifold_sampler.pivots.shape)\n",
    "#     gauss_noise = manifold_sampler.to_1d(gauss_)\n",
    "#     plane_noise = np.zeros_like(gauss_noise)\n",
    "#     for d in range(Gv.shape[0]):\n",
    "#         proj = np.dot(gauss_noise, Gv[d])\n",
    "#         for s in range(plane_noise.shape[0]):\n",
    "#             plane_noise[s] = plane_noise[s] + proj[s]*Gv[d]        \n",
    "#     ortho_noise = gauss_noise - plane_noise\n",
    "    \n",
    "#     # noise\n",
    "#     r = np.random.uniform()*RADIUS\n",
    "#     ortho_norm = normalize(ortho_noise, r)\n",
    "#     ortho_pc = base_pc + ortho_norm\n",
    "    \n",
    "#     perturbations.append(manifold_sampler.to_3d(ortho_pc))\n",
    "    \n",
    "# perturbations = torch.cat(perturbations)    \n",
    "# perturb_embeded = manifold_sampler.transform(perturbations)"
   ]
  },
  {
   "cell_type": "code",
   "execution_count": 10,
   "id": "fec8a944-15d8-4d04-a75a-8c314bcb2091",
   "metadata": {},
   "outputs": [],
   "source": [
    "DUPLICATIONS = 10\n",
    "RADIUS = 0.00001\n",
    "base_RADIUS = 0.00001\n",
    "base_images = []\n",
    "perturbations = []\n",
    "gauss_perturb = []\n",
    "\n",
    "for _ in range(DUPLICATIONS):\n",
    "    # base\n",
    "    base_gauss_ = np.random.normal(0, 1, size=manifold_sampler.pivots.shape)\n",
    "    r = np.random.uniform()*base_RADIUS\n",
    "    base_gauss_norm = normalize(base_gauss_, r)\n",
    "    base_pc = manifold_sampler.to_1d(manifold_sampler.pivots + base_gauss_norm)\n",
    "    \n",
    "    # gauss\n",
    "    gauss_ = np.random.normal(0, 1, size=manifold_sampler.pivots.shape)\n",
    "    gauss_noise = manifold_sampler.to_1d(gauss_)\n",
    "    plane_noise = np.zeros_like(gauss_noise)\n",
    "    for d in range(Gv.shape[0]):\n",
    "        proj = np.dot(gauss_noise, Gv[d])\n",
    "        for s in range(plane_noise.shape[0]):\n",
    "            plane_noise[s] = plane_noise[s] + proj[s]*Gv[d]        \n",
    "    ortho_noise = gauss_noise - plane_noise\n",
    "    \n",
    "    # noise\n",
    "    r = np.random.uniform()*RADIUS\n",
    "    ortho_norm = normalize(ortho_noise, r)\n",
    "    gauss_norm = normalize(gauss_noise, r)\n",
    "    ortho_pc = base_pc + ortho_norm\n",
    "    gauss_pc = base_pc + gauss_norm\n",
    "    base_images.append(manifold_sampler.to_3d(base_pc))\n",
    "    perturbations.append(manifold_sampler.to_3d(ortho_pc))\n",
    "    gauss_perturb.append(manifold_sampler.to_3d(gauss_pc))\n",
    "    \n",
    "base_images   = torch.cat(base_images)\n",
    "perturbations = torch.cat(perturbations)\n",
    "gauss_perturb = torch.cat(gauss_perturb)\n",
    "base_embeded    = manifold_sampler.transform(base_images)\n",
    "perturb_embeded = manifold_sampler.transform(perturbations)\n",
    "gauss_embeded   = manifold_sampler.transform(gauss_perturb)"
   ]
  },
  {
   "cell_type": "code",
   "execution_count": 11,
   "id": "e8e37d5b-37f0-4ca3-8413-b1af3b14d085",
   "metadata": {},
   "outputs": [],
   "source": [
    "no_samples, channels, rows, cols = all_images.shape"
   ]
  },
  {
   "cell_type": "code",
   "execution_count": 12,
   "id": "0e2a65ae-e42e-4b02-a6c3-bd565467c045",
   "metadata": {},
   "outputs": [],
   "source": [
    "index_to_explain = 1\n",
    "image_to_explain = manifold_sampler.pivots[index_to_explain]\n",
    "\n",
    "perturb_outputs = model(perturbations.float().to(device))\n",
    "probs = nn.functional.softmax(perturb_outputs, dim = 1)\n",
    "\n",
    "original_output = model(image_to_explain.unsqueeze(0).to(device))\n",
    "first_prediction, second_prediction = torch.topk(original_output, 2)[1][0]\n",
    "perturb_1st = probs[:,first_prediction.item()].cpu().detach().numpy()\n",
    "perturb_2nd = probs[:,second_prediction.item()].cpu().detach().numpy()"
   ]
  },
  {
   "cell_type": "code",
   "execution_count": 13,
   "id": "8f4dfa16-6224-4588-a968-1e0516dc921c",
   "metadata": {},
   "outputs": [],
   "source": [
    "base_embeded = manifold_sampler.transform(image_to_explain.unsqueeze(0))\n",
    "similarities = [similarity_kernel(perturb_embeded[i], base_embeded, kernel_width = 1) for i in range(perturbations.shape[0])]"
   ]
  },
  {
   "cell_type": "code",
   "execution_count": 14,
   "id": "578e4e33-5961-4d1e-995b-852bc49e37ff",
   "metadata": {},
   "outputs": [],
   "source": [
    "repeat_shape = (perturbations.shape[0],) + tuple(np.ones(image_to_explain.ndim). astype(int))\n",
    "repeat_image_to_explain = image_to_explain.repeat(repeat_shape)\n",
    "true_perturb = perturbations - repeat_image_to_explain"
   ]
  },
  {
   "cell_type": "code",
   "execution_count": 15,
   "id": "2b17e3dc-f78e-4bd5-ae8d-6561c42961b2",
   "metadata": {},
   "outputs": [],
   "source": [
    "from skimage.segmentation import slic, quickshift\n",
    "from skimage.segmentation import mark_boundaries\n",
    "import random\n",
    "\n",
    "def shap_score(model, torch_img, torch_bg, runs = 1, n_segments = 100, compactness = 0.0001):\n",
    "    np_bg = torch_img_to_np(torch_bg.unsqueeze(0))\n",
    "    np_im, np_3D_im, segments_slic = segment_img(torch_img.unsqueeze(0), n_segments=n_segments, compactness=compactness, sigma=0.1, start_label=0)\n",
    "    \n",
    "    original_output = model(torch_img.unsqueeze(0).to(device))\n",
    "    ori_probs = nn.functional.softmax(original_output, dim = 1)\n",
    "    first_prediction, second_prediction = torch.topk(original_output, 2)[1][0]\n",
    "    ori_probs_value = ori_probs[:,first_prediction.item()].cpu().detach().numpy()\n",
    "    \n",
    "    perturbation_output = model(torch_bg.unsqueeze(0).float().to(device))\n",
    "    perturb_probs = nn.functional.softmax(perturbation_output, dim = 1)\n",
    "    perturb_init_value = perturb_probs[:,first_prediction.item()].cpu().detach().numpy()\n",
    "\n",
    "    score = np.zeros_like(segments_slic).astype(np.float32)\n",
    "    segment_idx = list(np.unique(segments_slic))\n",
    "    old_value = perturb_init_value\n",
    "    \n",
    "    np_shap_perturb = np_bg.copy()\n",
    "    for r in range(runs):\n",
    "        random.shuffle(segment_idx)\n",
    "        np_shap_perturb = np_bg.copy()\n",
    "        for feature_value in segment_idx:\n",
    "            np_shap_perturb[segments_slic == feature_value] = np_im[segments_slic == feature_value]\n",
    "            torch_shap_perturb = np_to_torch_img(np_shap_perturb)\n",
    "            torch_shap_pred = model(torch_shap_perturb.to(device))\n",
    "            shap_probs = nn.functional.softmax(torch_shap_pred, dim = 1)\n",
    "            torch_shap_pred_value = shap_probs[:,first_prediction.item()].cpu().detach().numpy()\n",
    "            inc_score = torch_shap_pred_value - old_value\n",
    "            old_value = torch_shap_pred_value\n",
    "            score[segments_slic == feature_value] =+ inc_score[0]\n",
    "    return score/runs\n",
    "\n",
    "\n",
    "def torch_img_to_np(torch_img):\n",
    "    np_img = torch_img.numpy()\n",
    "    np_img = np.swapaxes(np_img,0,1)\n",
    "    np_img = np.swapaxes(np_img,1,2)\n",
    "    np_img = np.swapaxes(np_img,2,3)\n",
    "    return np_img[0]\n",
    "\n",
    "def np_to_torch_img(np_img):\n",
    "    np_img = np.swapaxes(np_img,2,1)\n",
    "    np_img = np.swapaxes(np_img,1,0)\n",
    "    torch_img = torch.Tensor(np_img)\n",
    "    return torch_img.unsqueeze(0)\n",
    "\n",
    "def segment_img(torch_img, n_segments=10, compactness=2, sigma=1, start_label=0):\n",
    "    np_img = torch_img_to_np(torch_img)\n",
    "    segments_slic = slic(np_img, n_segments=n_segments, compactness=compactness,\n",
    "                         sigma=sigma, start_label=start_label)\n",
    "    return np_img, np.repeat(np_img, 3, axis=2), segments_slic\n",
    "\n",
    "def binarize_np(np_array, number_of_ones):\n",
    "    rows, cols = np_array.shape\n",
    "    binarize_np = np.zeros_like(np_array.reshape(rows*cols))\n",
    "    top_indices = np.argpartition(np_array.reshape(rows*cols), -number_of_ones)[-number_of_ones:]\n",
    "    binarize_np[top_indices]  = 1\n",
    "\n",
    "    return binarize_np.reshape(1,1,rows,cols)"
   ]
  },
  {
   "cell_type": "code",
   "execution_count": 193,
   "id": "bb86f49f-9ebd-4b92-a644-8833ded8c1a9",
   "metadata": {},
   "outputs": [
    {
     "data": {
      "text/plain": [
       "(-0.5, 27.5, 27.5, -0.5)"
      ]
     },
     "execution_count": 193,
     "metadata": {},
     "output_type": "execute_result"
    },
    {
     "data": {
      "image/png": "[encoded data removed]",
      "text/plain": [
       "<Figure size 640x480 with 1 Axes>"
      ]
     },
     "metadata": {},
     "output_type": "display_data"
    },
    {
     "data": {
      "image/png": "[encoded data removed]",
      "text/plain": [
       "<Figure size 640x480 with 1 Axes>"
      ]
     },
     "metadata": {},
     "output_type": "display_data"
    },
    {
     "data": {
      "image/png": "[encoded data removed]",
      "text/plain": [
       "<Figure size 640x480 with 1 Axes>"
      ]
     },
     "metadata": {},
     "output_type": "display_data"
    }
   ],
   "source": [
    "index_to_explain = 701\n",
    "image_to_explain = manifold_sampler.pivots[index_to_explain]\n",
    "\n",
    "perturb_outputs = model(perturbations.float().to(device))\n",
    "probs = nn.functional.softmax(perturb_outputs, dim = 1)\n",
    "\n",
    "original_output = model(image_to_explain.unsqueeze(0).to(device))\n",
    "first_prediction, second_prediction = torch.topk(original_output, 2)[1][0]\n",
    "perturb_1st = probs[:,first_prediction.item()].cpu().detach().numpy()\n",
    "perturb_2nd = probs[:,second_prediction.item()].cpu().detach().numpy()\n",
    "\n",
    "base_embeded = manifold_sampler.transform(image_to_explain.unsqueeze(0))\n",
    "similarities = [similarity_kernel(perturb_embeded[i], base_embeded, kernel_width = 1) for i in range(perturbations.shape[0])]\n",
    "\n",
    "repeat_shape = (perturbations.shape[0],) + tuple(np.ones(image_to_explain.ndim). astype(int))\n",
    "repeat_image_to_explain = image_to_explain.repeat(repeat_shape)\n",
    "true_perturb = perturbations - repeat_image_to_explain\n",
    "\n",
    "clf = linear_model.Ridge(alpha = 200)\n",
    "clf.fit(np.abs(true_perturb).reshape(true_perturb.shape[0], channels*rows*cols), perturb_1st, sample_weight=similarities)\n",
    "# explanation_1st = np.abs(clf.coef_.reshape(rows, cols))\n",
    "explanation_1st = -clf.coef_.reshape(rows, cols)\n",
    "\n",
    "# clf.fit(np.abs(true_perturb).reshape(true_perturb.shape[0], channels*rows*cols), perturb_2nd, sample_weight=similarities)\n",
    "# explanation_2nd = -clf.coef_.reshape(rows, cols)\n",
    "\n",
    "plt.imshow(image_to_explain[0])\n",
    "plt.axis('off')\n",
    "\n",
    "plt.figure()\n",
    "plt.imshow(explanation_1st, cmap=plt.get_cmap('seismic'))\n",
    "plt.axis('off')\n",
    "\n",
    "# plt.figure()\n",
    "# plt.imshow(explanation_2nd, cmap=plt.get_cmap('seismic'))\n",
    "\n",
    "plt.figure()\n",
    "plt.imshow(binarize_np(explanation_1st, 100)[0,0], cmap=plt.get_cmap('seismic'))\n",
    "plt.axis('off')"
   ]
  },
  {
   "cell_type": "code",
   "execution_count": 186,
   "id": "83620545-a350-44c5-9295-db6f91f0c5be",
   "metadata": {},
   "outputs": [
    {
     "name": "stdout",
     "output_type": "stream",
     "text": [
      "tensor([[-2.8734, -1.3220, -3.9417, -4.2628, -4.3987,  5.4697, -4.8983, 10.7405,\n",
      "         -0.5063,  5.4887]], device='cuda:0', grad_fn=<AddmmBackward>)\n",
      "tensor([[-2.3444, -1.4050, -4.2539, -5.5466, -5.2930,  7.6694, -7.1232, 13.7582,\n",
      "         -0.5290,  6.4767]], device='cuda:0', grad_fn=<AddmmBackward>)\n"
     ]
    },
    {
     "data": {
      "text/plain": [
       "(-0.5, 27.5, 27.5, -0.5)"
      ]
     },
     "execution_count": 186,
     "metadata": {},
     "output_type": "execute_result"
    },
    {
     "data": {
      "image/png": "[encoded data removed]",
      "text/plain": [
       "<Figure size 640x480 with 1 Axes>"
      ]
     },
     "metadata": {},
     "output_type": "display_data"
    }
   ],
   "source": [
    "no_ones = 500\n",
    "p_act = 0.5\n",
    "\n",
    "mask = torch.Tensor(binarize_np(explanation_1st, no_ones)[0,0])\n",
    "inp = image_to_explain[0]\n",
    "perturb = torch.clip(inp + (1 - mask) * (torch.rand_like(inp)-0.5)*p_act,0,1)\n",
    "\n",
    "model.eval()\n",
    "print(model(perturb.reshape(1,1,28,28).to(device)))\n",
    "print(model(inp.reshape(1,1,28,28).to(device)))\n",
    "\n",
    "plt.figure()\n",
    "plt.imshow(perturb.detach().numpy())\n",
    "plt.axis('off')"
   ]
  },
  {
   "cell_type": "code",
   "execution_count": 179,
   "id": "0db9c012-ba66-43f8-9fed-ddf6d43f079a",
   "metadata": {},
   "outputs": [
    {
     "name": "stdout",
     "output_type": "stream",
     "text": [
      "tensor([[-2.2601, -1.4858, -1.5631, -1.9812, -2.2116,  2.8905, -2.3970,  4.4566,\n",
      "          2.2606, -0.1769]], device='cuda:0', grad_fn=<AddmmBackward>)\n",
      "tensor([[-2.3444, -1.4050, -4.2539, -5.5466, -5.2930,  7.6694, -7.1232, 13.7582,\n",
      "         -0.5290,  6.4767]], device='cuda:0', grad_fn=<AddmmBackward>)\n"
     ]
    }
   ],
   "source": [
    "model.eval()\n",
    "print(model(perturb.reshape(1,1,28,28).to(device)))\n",
    "print(model(inp.float().reshape(1,1,28,28).to(device)))\n"
   ]
  },
  {
   "cell_type": "code",
   "execution_count": 174,
   "id": "2ac6148a-83b2-48d0-8c4a-e3376e549d37",
   "metadata": {},
   "outputs": [],
   "source": [
    "inp = inp.float()"
   ]
  },
  {
   "cell_type": "code",
   "execution_count": null,
   "id": "0f9ce1a0-6c35-4329-9e10-a8fb439e642d",
   "metadata": {},
   "outputs": [],
   "source": []
  },
  {
   "cell_type": "code",
   "execution_count": 17,
   "id": "cd615526-cbc3-48d2-947d-b8eadcccb376",
   "metadata": {},
   "outputs": [
    {
     "name": "stderr",
     "output_type": "stream",
     "text": [
      "Clipping input data to the valid range for imshow with RGB data ([0..1] for floats or [0..255] for integers).\n"
     ]
    },
    {
     "data": {
      "text/plain": [
       "<matplotlib.image.AxesImage at 0x2b02b3f85dc0>"
      ]
     },
     "execution_count": 17,
     "metadata": {},
     "output_type": "execute_result"
    },
    {
     "data": {
      "image/png": "[encoded data removed]",
      "text/plain": [
       "<Figure size 360x360 with 1 Axes>"
      ]
     },
     "metadata": {
      "needs_background": "light"
     },
     "output_type": "display_data"
    }
   ],
   "source": [
    "view_label = 1\n",
    "\n",
    "shap_bg = torch.mean(base_images, dim = 0)\n",
    "\n",
    "grid = torchvision.utils.make_grid(shap_bg, nrow=10)\n",
    "plt.figure(figsize=(5, 5))\n",
    "plt.imshow(np.transpose(grid, (1, 2, 0)))"
   ]
  },
  {
   "cell_type": "code",
   "execution_count": 18,
   "id": "ae97675b-1556-4c20-816b-910ad1b50698",
   "metadata": {},
   "outputs": [],
   "source": []
  },
  {
   "cell_type": "code",
   "execution_count": 105,
   "id": "b672fbec-54dd-4d6b-9591-0075d0457a7a",
   "metadata": {},
   "outputs": [
    {
     "name": "stderr",
     "output_type": "stream",
     "text": [
      "Clipping input data to the valid range for imshow with RGB data ([0..1] for floats or [0..255] for integers).\n"
     ]
    },
    {
     "data": {
      "text/plain": [
       "<matplotlib.image.AxesImage at 0x2b08b28180d0>"
      ]
     },
     "execution_count": 105,
     "metadata": {},
     "output_type": "execute_result"
    },
    {
     "data": {
      "image/png": "[encoded data removed]",
      "text/plain": [
       "<Figure size 432x288 with 1 Axes>"
      ]
     },
     "metadata": {
      "needs_background": "light"
     },
     "output_type": "display_data"
    }
   ],
   "source": [
    "np_bg = torch_img_to_np(shap_bg.unsqueeze(0))\n",
    "np_im, np_3D_im, segments_slic = segment_img(image_to_explain.unsqueeze(0), n_segments=50, compactness=100, sigma=1, start_label=0)\n",
    "\n",
    "plt.imshow(mark_boundaries(np_3D_im, segments_slic, mode = 'subpixel'))"
   ]
  },
  {
   "cell_type": "code",
   "execution_count": 111,
   "id": "ded0c12a-c623-4600-a164-45f480a2d06e",
   "metadata": {},
   "outputs": [
    {
     "data": {
      "text/plain": [
       "(-0.5, 27.5, 27.5, -0.5)"
      ]
     },
     "execution_count": 111,
     "metadata": {},
     "output_type": "execute_result"
    },
    {
     "data": {
      "image/png": "[encoded data removed]",
      "text/plain": [
       "<Figure size 432x288 with 1 Axes>"
      ]
     },
     "metadata": {
      "needs_background": "light"
     },
     "output_type": "display_data"
    }
   ],
   "source": [
    "score = -shap_score(model, image_to_explain, shap_bg, runs = 100, n_segments = 32, compactness = 0.001)\n",
    "plt.imshow(np.abs(score),cmap=plt.get_cmap('bwr'))\n",
    "plt.axis('off')"
   ]
  },
  {
   "cell_type": "code",
   "execution_count": null,
   "id": "d322a388-d00d-473a-953b-63016b06781d",
   "metadata": {},
   "outputs": [],
   "source": []
  },
  {
   "cell_type": "code",
   "execution_count": null,
   "id": "2ef8bbb1-6a6d-40d2-a623-4a95a36ab6c5",
   "metadata": {},
   "outputs": [],
   "source": []
  },
  {
   "cell_type": "code",
   "execution_count": 24,
   "id": "e28b72b6-7256-479c-a25f-585f1bdbb5d5",
   "metadata": {},
   "outputs": [
    {
     "data": {
      "text/plain": [
       "<matplotlib.image.AxesImage at 0x2afd684a0730>"
      ]
     },
     "execution_count": 24,
     "metadata": {},
     "output_type": "execute_result"
    },
    {
     "data": {
      "image/png": "[encoded data removed]",
      "text/plain": [
       "<Figure size 432x288 with 1 Axes>"
      ]
     },
     "metadata": {
      "needs_background": "light"
     },
     "output_type": "display_data"
    }
   ],
   "source": [
    "plt.imshow(image_to_explain[0])"
   ]
  },
  {
   "cell_type": "code",
   "execution_count": null,
   "id": "33cbd42f-d1f0-4129-809b-0684da2ecf29",
   "metadata": {},
   "outputs": [],
   "source": [
    "explanation_diff = explanation_1st - explanation_2nd\n",
    "\n",
    "plt.figure()\n",
    "plt.imshow(explanation_diff, cmap=plt.get_cmap('seismic'))"
   ]
  },
  {
   "cell_type": "code",
   "execution_count": null,
   "id": "11070b2e-71ba-44dd-adde-9175a4e52447",
   "metadata": {},
   "outputs": [],
   "source": []
  },
  {
   "cell_type": "code",
   "execution_count": 179,
   "id": "778f6cc4-4791-4194-a150-22549eb028ae",
   "metadata": {},
   "outputs": [],
   "source": [
    "def gen_mask(score, ones_ratio = 0.2):\n",
    "    no_rows, no_cols = score.shape\n",
    "    score_flat = np.reshape(score, no_rows*no_cols)\n",
    "    top_k = int(ones_ratio*no_rows*no_cols)\n",
    "    idx = np.argpartition(score_flat, -top_k)[-top_k:]\n",
    "    indices = idx[np.argsort((-score_flat)[idx])]\n",
    "    score_flat_dup = np.zeros_like(score_flat)\n",
    "    score_flat_dup[indices] = 1.0\n",
    "    score_dup = score_flat_dup.reshape(no_rows, no_cols)\n",
    "    return score_dup"
   ]
  },
  {
   "cell_type": "code",
   "execution_count": 180,
   "id": "41c02288-c76c-4998-a829-6c5275b10389",
   "metadata": {},
   "outputs": [],
   "source": [
    "def compute_log_odds(img, score, ones_ratio):\n",
    "    diff_mask = gen_mask(score, ones_ratio)\n",
    "    mod_img = img.clone().numpy()\n",
    "    mod_img[0][diff_mask==1] = 0.0\n",
    "    mod_img = torch.tensor(mod_img)\n",
    "    \n",
    "    "
   ]
  },
  {
   "cell_type": "code",
   "execution_count": null,
   "id": "457b97f5-f338-4ec2-9f28-288c43026e3b",
   "metadata": {},
   "outputs": [],
   "source": []
  },
  {
   "cell_type": "code",
   "execution_count": null,
   "id": "035f814a-4ff4-4d4c-a63e-0dd8756b312e",
   "metadata": {},
   "outputs": [],
   "source": []
  },
  {
   "cell_type": "code",
   "execution_count": null,
   "id": "42c3bbad-f7c0-4331-bc5e-74e7f6970cb3",
   "metadata": {},
   "outputs": [],
   "source": []
  },
  {
   "cell_type": "code",
   "execution_count": 181,
   "id": "f90c66b7-dc02-44e2-882b-9eeadf6a3a9e",
   "metadata": {},
   "outputs": [],
   "source": [
    "modified_image = image_to_explain.clone().numpy()\n",
    "modified_image[0][s_diff_mask==1] = 0.0\n",
    "modified_image = torch.tensor(modified_image)"
   ]
  },
  {
   "cell_type": "code",
   "execution_count": 182,
   "id": "450f795c-430f-45be-a181-fce1e5778e43",
   "metadata": {},
   "outputs": [
    {
     "data": {
      "text/plain": [
       "<matplotlib.image.AxesImage at 0x2ac877c2f4f0>"
      ]
     },
     "execution_count": 182,
     "metadata": {},
     "output_type": "execute_result"
    },
    {
     "data": {
      "image/png": "[encoded data removed]",
      "text/plain": [
       "<Figure size 432x288 with 1 Axes>"
      ]
     },
     "metadata": {
      "needs_background": "light"
     },
     "output_type": "display_data"
    }
   ],
   "source": [
    "plt.figure()\n",
    "plt.imshow(modified_image[0])"
   ]
  },
  {
   "cell_type": "code",
   "execution_count": 183,
   "id": "b8b16458-6dd1-4d3b-8682-0bb11798929a",
   "metadata": {},
   "outputs": [],
   "source": [
    "modified_output = model(modified_image.unsqueeze(0).to(device))\n",
    "m_first_prediction, m_second_prediction = torch.topk(modified_output, 2)[1][0]"
   ]
  },
  {
   "cell_type": "code",
   "execution_count": 184,
   "id": "c21dfe29-7251-4ba7-8303-1c53a6f2b2de",
   "metadata": {},
   "outputs": [
    {
     "data": {
      "text/plain": [
       "tensor([[ 6.5721, -4.0996,  4.8324, -3.5758,  0.5814, -2.0957,  2.1837, -2.2061,\n",
       "          2.3000, -4.5867]], device='cuda:0', grad_fn=<SubBackward0>)"
      ]
     },
     "execution_count": 184,
     "metadata": {},
     "output_type": "execute_result"
    }
   ],
   "source": [
    "original_output - modified_output"
   ]
  },
  {
   "cell_type": "code",
   "execution_count": 185,
   "id": "ea5e78d0-14f0-4e7b-8dc4-5907641bebba",
   "metadata": {},
   "outputs": [
    {
     "data": {
      "text/plain": [
       "tensor(0, device='cuda:0')"
      ]
     },
     "execution_count": 185,
     "metadata": {},
     "output_type": "execute_result"
    }
   ],
   "source": [
    "first_prediction"
   ]
  },
  {
   "cell_type": "code",
   "execution_count": 186,
   "id": "52db7fa3-18e5-4281-88f1-813b39d7d6d6",
   "metadata": {},
   "outputs": [
    {
     "data": {
      "text/plain": [
       "tensor([0, 6], device='cuda:0')"
      ]
     },
     "execution_count": 186,
     "metadata": {},
     "output_type": "execute_result"
    }
   ],
   "source": [
    "torch.topk(original_output, 2)[1][0]"
   ]
  },
  {
   "cell_type": "code",
   "execution_count": 187,
   "id": "ae517e61-f71b-42f8-802f-18d6c01782f0",
   "metadata": {},
   "outputs": [
    {
     "data": {
      "text/plain": [
       "tensor([[ 8.8735, -3.6232,  0.3718, -0.2533, -1.3968,  0.9781,  1.7420, -5.2031,\n",
       "          1.7346, -6.1235]], device='cuda:0', grad_fn=<AddmmBackward>)"
      ]
     },
     "execution_count": 187,
     "metadata": {},
     "output_type": "execute_result"
    }
   ],
   "source": [
    "original_output"
   ]
  },
  {
   "cell_type": "code",
   "execution_count": 188,
   "id": "c76260d0-9c08-4307-869f-d8fd5ab2c42e",
   "metadata": {},
   "outputs": [
    {
     "data": {
      "text/plain": [
       "tensor([[ 2.3014,  0.4763, -4.4606,  3.3226, -1.9782,  3.0738, -0.4417, -2.9970,\n",
       "         -0.5654, -1.5368]], device='cuda:0', grad_fn=<AddmmBackward>)"
      ]
     },
     "execution_count": 188,
     "metadata": {},
     "output_type": "execute_result"
    }
   ],
   "source": [
    "modified_output"
   ]
  },
  {
   "cell_type": "code",
   "execution_count": null,
   "id": "219cb9ee-9384-4657-bcc6-7ee4fb8e08e1",
   "metadata": {},
   "outputs": [],
   "source": []
  }
 ],
 "metadata": {
  "kernelspec": {
   "display_name": "Python 3 (ipykernel)",
   "language": "python",
   "name": "python3"
  },
  "language_info": {
   "codemirror_mode": {
    "name": "ipython",
    "version": 3
   },
   "file_extension": ".py",
   "mimetype": "text/x-python",
   "name": "python",
   "nbconvert_exporter": "python",
   "pygments_lexer": "ipython3",
   "version": "3.8.15"
  }
 },
 "nbformat": 4,
 "nbformat_minor": 5
}
