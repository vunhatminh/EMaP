{
 "cells": [
  {
   "cell_type": "code",
   "execution_count": 68,
   "id": "e822f552-6434-4905-b563-df756627339d",
   "metadata": {},
   "outputs": [],
   "source": [
    "import warnings\n",
    "warnings.filterwarnings('ignore') \n",
    "\n",
    "from utils import *\n",
    "from get_data import *\n",
    "\n",
    "from sklearn.model_selection import train_test_split\n",
    "from sklearn.preprocessing import StandardScaler\n",
    "from sklearn.ensemble import RandomForestClassifier\n",
    "\n",
    "import numpy as np\n",
    "import pandas as pd\n",
    "\n",
    "import time\n",
    "\n",
    "from copy import deepcopy"
   ]
  },
  {
   "cell_type": "code",
   "execution_count": null,
   "id": "d715e4a2-1b65-469b-8051-432e4757a920",
   "metadata": {},
   "outputs": [],
   "source": []
  },
  {
   "cell_type": "code",
   "execution_count": null,
   "id": "240eb65c-b1ab-4d17-ae25-044f97619096",
   "metadata": {},
   "outputs": [],
   "source": [
    "EXPERIMENT = 'compass'"
   ]
  },
  {
   "cell_type": "code",
   "execution_count": 2,
   "id": "a35ae68b-62a7-4d8c-9d3b-00edc8e8d74d",
   "metadata": {},
   "outputs": [],
   "source": [
    "# Get the data set and do some preprocessing\n",
    "params = Params(\"data/experiment_params.json\")\n",
    "np.random.seed(params.seed)\n",
    "\n",
    "if EXPERIMENT == 'compass':\n",
    "    X, y, cols = get_and_preprocess_compas_data(params)\n",
    "\n",
    "# Add a random column -- this is what we'll have LIME/SHAP explain.\n",
    "X['unrelated_column'] = np.random.choice([0,1],size=X.shape[0])\n",
    "features = [c for c in X]\n",
    "\n",
    "categorical_feature_name = ['two_year_recid', 'c_charge_degree_F', 'c_charge_degree_M',\\\n",
    "                            'sex_Female', 'sex_Male', 'race', 'unrelated_column']\n",
    "\n",
    "categorical_feature_indcs = [features.index(c) for c in categorical_feature_name]\n",
    "\n",
    "race_indc = features.index('race')\n",
    "unrelated_indcs = features.index('unrelated_column')\n",
    "X = X.values"
   ]
  },
  {
   "cell_type": "code",
   "execution_count": 3,
   "id": "01d83ff8-39ed-496f-9371-0a2af7df86b7",
   "metadata": {},
   "outputs": [],
   "source": [
    "xtrain,xtest,ytrain,ytest = train_test_split(X,y,test_size=0.1)\n",
    "ss = StandardScaler().fit(X)\n",
    "xtrain = ss.transform(xtrain)\n",
    "xtest = ss.transform(xtest)\n",
    "xall = ss.transform(X)"
   ]
  },
  {
   "cell_type": "code",
   "execution_count": 72,
   "id": "80f06d0f-8f68-42ac-9e11-713ab59a2249",
   "metadata": {},
   "outputs": [
    {
     "data": {
      "text/plain": [
       "<module 'manifold_sampling_tabular' from '/blue/thai/minhvu/manifold_sampling/umap_discriminator/manifold_sampling_tabular.py'>"
      ]
     },
     "execution_count": 72,
     "metadata": {},
     "output_type": "execute_result"
    }
   ],
   "source": [
    "from importlib import reload  \n",
    "\n",
    "import manifold_sampling_tabular as mst\n",
    "\n",
    "reload(mst)"
   ]
  },
  {
   "cell_type": "code",
   "execution_count": 73,
   "id": "ee3ac87e-948c-4751-9467-48c837b61961",
   "metadata": {},
   "outputs": [],
   "source": [
    "DIM = 2\n",
    "all_labels = y"
   ]
  },
  {
   "cell_type": "code",
   "execution_count": 74,
   "id": "3b4b72b3-c4ec-4919-a428-096421f0e255",
   "metadata": {},
   "outputs": [
    {
     "name": "stdout",
     "output_type": "stream",
     "text": [
      "Initialize duration:  10.941585063934326\n"
     ]
    }
   ],
   "source": [
    "start_time = time.time()\n",
    "mani_sampler = mst.Manifold_Tabular_Sampler(xall, dim = DIM, labels = all_labels)\n",
    "duration = time.time() - start_time\n",
    "print(\"Initialize duration: \", duration)"
   ]
  },
  {
   "cell_type": "code",
   "execution_count": 75,
   "id": "89a3cf86-8588-423d-8b11-ef1589c90aaf",
   "metadata": {},
   "outputs": [
    {
     "name": "stdout",
     "output_type": "stream",
     "text": [
      "Train duration:  61.78624677658081\n"
     ]
    }
   ],
   "source": [
    "start_time = time.time()\n",
    "mani_sampler.train_multiplier = 100\n",
    "mani_sampler.std_train = 0.1\n",
    "mani_sampler.train_pivot(no_pivots_per_label = 20, shuffle = False)\n",
    "duration = time.time() - start_time\n",
    "print(\"Train duration: \", duration)"
   ]
  },
  {
   "cell_type": "code",
   "execution_count": null,
   "id": "da7e15a4-d5ba-4772-9c14-b0a54814998b",
   "metadata": {},
   "outputs": [],
   "source": []
  },
  {
   "cell_type": "code",
   "execution_count": 76,
   "id": "af3975cb-b1b7-4a2f-9e9f-09d114bc467f",
   "metadata": {},
   "outputs": [],
   "source": [
    "def get_discriminator(X,y,n_estimators = 100, train_ratio = 0.5):\n",
    "    X_train, X_test, y_train, y_test = train_test_split(X, y, test_size= 1 - train_ratio)\n",
    "    the_rf = RandomForestClassifier(n_estimators=n_estimators).fit(X_train, y_train)\n",
    "    y_pred = the_rf.predict(X_test)\n",
    "    the_rf_result = (y_pred == y_test).sum()\n",
    "    return the_rf, the_rf_result/y_test.shape[0], X_train.shape[0]\n",
    "\n",
    "def get_discriminator_performance(X,y,rf):\n",
    "    y_pred = rf.predict(X)\n",
    "    the_rf_result = (y_pred == y).sum()\n",
    "    return the_rf_result/y.shape[0], y.shape[0]\n",
    "\n",
    "X_in = mani_sampler.pivots\n",
    "X_rawper = np.vstack([perturbs[0] for perturbs in mani_sampler.raw_perturbs])\n",
    "X_per = np.vstack([perturbs[0] for perturbs in mani_sampler.perturbs])\n",
    "X_plane = np.zeros_like(X_in)\n",
    "X_ortho = np.zeros_like(X_in)\n",
    "for i in range(X_plane.shape[0]):\n",
    "    X_plane[i] = mani_sampler.pivots[i] + mani_sampler.plane_noise[i][0]\n",
    "    X_ortho[i] = mani_sampler.pivots[i] + mani_sampler.ortho_noise[i][0]"
   ]
  },
  {
   "cell_type": "code",
   "execution_count": 87,
   "id": "7cbb67f0-065d-46c1-917b-b13dd6c1b898",
   "metadata": {},
   "outputs": [],
   "source": [
    "TRAIN_RATIO = 0.9"
   ]
  },
  {
   "cell_type": "code",
   "execution_count": 88,
   "id": "60db2f4e-517d-41e6-8dee-bfe09ef4e532",
   "metadata": {},
   "outputs": [
    {
     "name": "stdout",
     "output_type": "stream",
     "text": [
      "1.0 72\n",
      "1.0 72\n",
      "1.0 72\n",
      "1.0 72\n"
     ]
    }
   ],
   "source": [
    "X_discriminator_rawper = np.vstack((X_in, X_rawper))\n",
    "X_discriminator_per = np.vstack((X_in, X_per))\n",
    "X_discriminator_plane = np.vstack((X_in, X_plane))\n",
    "X_discriminator_ortho = np.vstack((X_in, X_ortho))\n",
    "y_discriminator = np.concatenate((np.zeros(X_in.shape[0]), np.ones(X_per.shape[0])))\n",
    "\n",
    "the_rf_rawper, test_acc_rawper, no_trains = get_discriminator(X_discriminator_rawper,y_discriminator, n_estimators = 100, train_ratio = TRAIN_RATIO)\n",
    "print(test_acc_rawper, no_trains)\n",
    "the_rf_per, test_acc_per, no_trains = get_discriminator(X_discriminator_per,y_discriminator, n_estimators = 100, train_ratio = TRAIN_RATIO)\n",
    "print(test_acc_per, no_trains)\n",
    "the_rf_plane, test_acc_plane, no_trains = get_discriminator(X_discriminator_plane,y_discriminator, n_estimators = 100, train_ratio = TRAIN_RATIO)\n",
    "print(test_acc_plane, no_trains)\n",
    "the_rf_ortho, test_acc_ortho, no_trains = get_discriminator(X_discriminator_ortho,y_discriminator, n_estimators = 100, train_ratio = TRAIN_RATIO)\n",
    "print(test_acc_ortho, no_trains)\n"
   ]
  },
  {
   "cell_type": "code",
   "execution_count": 86,
   "id": "63a650f8-6b4e-419d-ac4c-41802b30bc7b",
   "metadata": {},
   "outputs": [
    {
     "name": "stdout",
     "output_type": "stream",
     "text": [
      "Create Testing environment\n",
      "Initialize duration:  11.452292680740356\n",
      "Train duration:  59.31259727478027\n"
     ]
    }
   ],
   "source": [
    "print(\"Create Testing environment\")\n",
    "\n",
    "start_time = time.time()\n",
    "explanation_sampler = mst.Manifold_Tabular_Sampler(xall, dim = DIM, labels = all_labels)\n",
    "duration = time.time() - start_time\n",
    "print(\"Initialize duration: \", duration)\n",
    "\n",
    "start_time = time.time()\n",
    "explanation_sampler.train_multiplier = 100\n",
    "explanation_sampler.std_train = 0.1\n",
    "explanation_sampler.train_pivot(no_pivots_per_label = 20, shuffle = True)\n",
    "duration = time.time() - start_time\n",
    "print(\"Train duration: \", duration)"
   ]
  },
  {
   "cell_type": "code",
   "execution_count": 89,
   "id": "a258f036-952e-452e-a92e-5ec6f0e1e362",
   "metadata": {},
   "outputs": [],
   "source": [
    "NUM_PERTURBATIONS = 10"
   ]
  },
  {
   "cell_type": "code",
   "execution_count": 92,
   "id": "22db7479-a0db-4626-ba22-c04746685b27",
   "metadata": {},
   "outputs": [],
   "source": [
    "Z_in = explanation_sampler.pivots\n",
    "acc_rawper = 0\n",
    "acc_per = 0\n",
    "acc_plane = 0\n",
    "acc_ortho = 0\n",
    "var_rawper = 0\n",
    "var_per = 0 \n",
    "var_plane = 0\n",
    "var_ortho = 0\n",
    "for p in range(NUM_PERTURBATIONS):\n",
    "    Z_rawper = np.vstack([perturbs[0] for perturbs in explanation_sampler.raw_perturbs])\n",
    "    Z_per = np.vstack([perturbs[p] for perturbs in explanation_sampler.perturbs])\n",
    "    Z_plane = np.zeros_like(Z_in)\n",
    "    Z_ortho = np.zeros_like(Z_in)\n",
    "    for i in range(Z_plane.shape[0]):\n",
    "        Z_plane[i] = explanation_sampler.pivots[i] + explanation_sampler.plane_noise[i][p]\n",
    "        Z_ortho[i] = explanation_sampler.pivots[i] + explanation_sampler.ortho_noise[i][p]\n",
    "    \n",
    "    Z_discriminator_rawper = np.vstack((Z_in, Z_rawper))\n",
    "    Z_discriminator_per = np.vstack((Z_in, Z_per))\n",
    "    Z_discriminator_plane = np.vstack((Z_in, Z_plane))\n",
    "    Z_discriminator_ortho = np.vstack((Z_in, Z_ortho))\n",
    "    y_discriminator = np.concatenate((np.zeros(Z_in.shape[0]), np.ones(Z_per.shape[0])))\n",
    "    \n",
    "    test_acc_rawper, no_test = get_discriminator_performance(Z_discriminator_rawper, y_discriminator, the_rf_rawper)\n",
    "    test_acc_per, no_test = get_discriminator_performance(Z_discriminator_per, y_discriminator, the_rf_per)\n",
    "    test_acc_plane, no_test = get_discriminator_performance(Z_discriminator_plane, y_discriminator, the_rf_plane)\n",
    "    test_acc_ortho, no_test = get_discriminator_performance(Z_discriminator_ortho, y_discriminator, the_rf_ortho)\n",
    "    \n",
    "    acc_rawper = acc_rawper + test_acc_rawper\n",
    "    acc_per = acc_per + test_acc_per\n",
    "    acc_plane = acc_plane + test_acc_plane\n",
    "    acc_ortho = acc_ortho + test_acc_ortho\n",
    "    var_rawper = var_rawper + np.var(Z_rawper-Z_in)\n",
    "    var_per = var_per + np.var(Z_per-Z_in)\n",
    "    var_plane = var_plane + np.var(Z_plane-Z_in)\n",
    "    var_ortho = var_ortho + np.var(Z_ortho-Z_in)\n",
    "\n",
    "acc_rawper = acc_rawper/NUM_PERTURBATIONS\n",
    "acc_per = acc_per/NUM_PERTURBATIONS\n",
    "acc_plane = acc_plane/NUM_PERTURBATIONS\n",
    "acc_ortho = acc_ortho/NUM_PERTURBATIONS\n",
    "var_rawper = var_rawper/NUM_PERTURBATIONS\n",
    "var_per = var_per/NUM_PERTURBATIONS\n",
    "var_plane = var_plane/NUM_PERTURBATIONS\n",
    "var_ortho = var_ortho/NUM_PERTURBATIONS"
   ]
  },
  {
   "cell_type": "code",
   "execution_count": 95,
   "id": "f71b820c-5bbe-4466-9f39-d19ae52ae4cf",
   "metadata": {},
   "outputs": [
    {
     "name": "stdout",
     "output_type": "stream",
     "text": [
      "0.9875\n",
      "0.9912500000000002\n",
      "0.9824999999999999\n",
      "0.845\n",
      "0.010567870886417674\n",
      "0.041613823904583916\n",
      "0.0018870068284950394\n",
      "0.007826615018643563\n"
     ]
    }
   ],
   "source": [
    "print(acc_rawper)\n",
    "print(acc_per)\n",
    "print(acc_plane)\n",
    "print(acc_ortho)\n",
    "print(var_rawper)\n",
    "print(var_per)\n",
    "print(var_plane)\n",
    "print(var_ortho)"
   ]
  },
  {
   "cell_type": "code",
   "execution_count": null,
   "id": "fca7c962-3a27-4ea3-a74a-a90432a36225",
   "metadata": {},
   "outputs": [],
   "source": []
  }
 ],
 "metadata": {
  "kernelspec": {
   "display_name": "Python 3 (ipykernel)",
   "language": "python",
   "name": "python3"
  },
  "language_info": {
   "codemirror_mode": {
    "name": "ipython",
    "version": 3
   },
   "file_extension": ".py",
   "mimetype": "text/x-python",
   "name": "python",
   "nbconvert_exporter": "python",
   "pygments_lexer": "ipython3",
   "version": "3.8.12"
  }
 },
 "nbformat": 4,
 "nbformat_minor": 5
}
