{
 "cells": [
  {
   "cell_type": "code",
   "execution_count": 1,
   "id": "115ed153-feb0-49b2-bb29-6c052412c7c7",
   "metadata": {},
   "outputs": [
    {
     "name": "stdout",
     "output_type": "stream",
     "text": [
      "Done loading\n",
      "UMAP duration:  68.8238832950592\n"
     ]
    }
   ],
   "source": [
    "import numpy as np\n",
    "import cv2\n",
    "import pickle\n",
    "import matplotlib.pyplot as plt\n",
    "from matplotlib.gridspec import GridSpec\n",
    "import time\n",
    "from sklearn import linear_model\n",
    "\n",
    "import torch\n",
    "import torch.nn as nn\n",
    "from torch.autograd import Variable\n",
    "\n",
    "import torchvision\n",
    "import torchvision.transforms as transforms\n",
    "\n",
    "from numpy import linalg as LA\n",
    "\n",
    "\n",
    "from fashion_model import FashionCNN \n",
    "from umap_lime import *\n",
    "\n",
    "device = torch.device(\"cuda:0\" if torch.cuda.is_available() else \"cpu\")\n",
    "\n",
    "\n",
    "EXPERIMENT = 'fashion_mnist'\n",
    "# EXPERIMENT = 'mnist'\n",
    "# EXPERIMENT = 'compass'\n",
    "# EXPERIMENT = 'german'\n",
    "\n",
    "if EXPERIMENT == 'fashion_mnist':\n",
    "    train_set = torchvision.datasets.FashionMNIST(\"./data\", download=True, transform=\n",
    "                                                    transforms.Compose([transforms.ToTensor()]))\n",
    "    test_set = torchvision.datasets.FashionMNIST(\"./data\", download=True, train=False, transform=\n",
    "                                                   transforms.Compose([transforms.ToTensor()]))\n",
    "elif EXPERIMENT == 'mnist':\n",
    "    train_set = torchvision.datasets.MNIST(\"./data\", download=True, transform=\n",
    "                                                    transforms.Compose([transforms.ToTensor()]))\n",
    "    test_set = torchvision.datasets.MNIST(\"./data\", download=True, train=False, transform=\n",
    "                                                   transforms.Compose([transforms.ToTensor()]))\n",
    "else:\n",
    "    print(\"Nothing to do.\")\n",
    "    \n",
    "print(\"Done loading\")\n",
    "    \n",
    "train_loader = torch.utils.data.DataLoader(train_set, \n",
    "                                           batch_size=100)\n",
    "test_loader = torch.utils.data.DataLoader(test_set,\n",
    "                                          batch_size=100)\n",
    "\n",
    "\n",
    "all_loader = torch.utils.data.DataLoader(train_set, batch_size=train_set.__len__())\n",
    "all_images, all_labels = next(iter(all_loader))\n",
    "\n",
    "start_time = time.time()\n",
    "umap_sampling = UMAP_sampling(all_images)\n",
    "umap_duration = time.time() - start_time\n",
    "print(\"UMAP duration: \", umap_duration)"
   ]
  },
  {
   "cell_type": "code",
   "execution_count": 16,
   "id": "237d8f96-db61-4a0c-9917-bdb9e387ca2a",
   "metadata": {},
   "outputs": [],
   "source": [
    "def gen_perturbation_train(X, perturbation_multiplier=10, \n",
    "                           perturbation_std = 0.3, \n",
    "                           method = 'base', \n",
    "                           embed_object = None):\n",
    "    \n",
    "    all_x, all_x_base, all_y = [], [], []\n",
    "    \n",
    "    if method == 'base':\n",
    "        var = 0\n",
    "        for _ in range(perturbation_multiplier):\n",
    "            perturbed_xtrain = np.random.normal(0, perturbation_std, size=X.shape) \n",
    "            p_train_x = np.vstack((X, X + perturbed_xtrain))\n",
    "            p_train_y = np.concatenate((np.ones(X.shape[0]), np.zeros(X.shape[0])))\n",
    "\n",
    "            all_x.append(p_train_x)\n",
    "            all_y.append(p_train_y)\n",
    "            var = var + np.var(perturbed_xtrain)\n",
    "        all_x = np.vstack(all_x)\n",
    "        all_y = np.concatenate(all_y)\n",
    "        \n",
    "        return all_x, np.sqrt(var/perturbation_multiplier), all_y\n",
    "    \n",
    "    elif method == 'umap_ideal':\n",
    "        assert embed_object != None , 'Must have embedding object (UMAP?)'\n",
    "        \n",
    "        var_x = 0\n",
    "        var_x_base = 0\n",
    "        \n",
    "        for _ in range(perturbation_multiplier):\n",
    "            X_low = embed_object.transform(X) # low(x)\n",
    "            perturbed_low = np.random.normal(0, perturbation_std, size=X_low.shape)\n",
    "            X_per_low = X_low + perturbed_low\n",
    "            X_per_high = embed_object.inv_transform(X_per_low)\n",
    "            \n",
    "            std_high = np.sqrt(np.var(X_per_high.numpy() - X.numpy()))\n",
    "            noise_high = np.random.normal(0, std_high, size=X.shape)\n",
    "            \n",
    "            X_per_noise = X + noise_high\n",
    "            \n",
    "            p_train_x = np.vstack((X, X_per_high))\n",
    "            p_noise_x = np.vstack((X, X_per_noise))\n",
    "            \n",
    "            var_x = var_x + np.var(X_per_high.numpy() - X.numpy())\n",
    "            var_x_base = var_x_base + np.var(noise_high)\n",
    "            \n",
    "            p_train_y = np.concatenate((np.ones(X.shape[0]), np.zeros(X.shape[0])))\n",
    "\n",
    "            all_x.append(p_train_x)\n",
    "            all_x_base.append(p_noise_x)\n",
    "            all_y.append(p_train_y)\n",
    "            \n",
    "        all_x = np.vstack(all_x)\n",
    "        all_x_base = np.vstack(all_x_base)\n",
    "        all_y = np.concatenate(all_y)\n",
    "        \n",
    "        return all_x, np.sqrt(var_x/perturbation_multiplier), all_x_base, np.sqrt(var_x_base/perturbation_multiplier), all_y\n",
    "    else:\n",
    "        return None"
   ]
  },
  {
   "cell_type": "code",
   "execution_count": 17,
   "id": "27841f24-2a52-407b-9616-4f288e7bc551",
   "metadata": {},
   "outputs": [
    {
     "name": "stdout",
     "output_type": "stream",
     "text": [
      "0.29999855547173987\n"
     ]
    }
   ],
   "source": [
    "all_x, std_x, all_y = gen_perturbation_train(all_images, perturbation_multiplier=2, \n",
    "                                               perturbation_std = 0.3, \n",
    "                                               method = 'base', \n",
    "                                               embed_object = None)\n",
    "\n",
    "print(std_x)"
   ]
  },
  {
   "cell_type": "code",
   "execution_count": 20,
   "id": "2006feaa-5adc-4557-86e6-a7b4e2fee871",
   "metadata": {},
   "outputs": [
    {
     "name": "stdout",
     "output_type": "stream",
     "text": [
      "0.18386318341821337\n",
      "0.18333317293341475\n"
     ]
    }
   ],
   "source": [
    "all_x, std_x, all_x_base, std_base, all_y = gen_perturbation_train(all_images[0:200], perturbation_multiplier=2, \n",
    "                                                                           perturbation_std = 0.1, \n",
    "                                                                           method = 'umap_ideal', \n",
    "                                                                           embed_object = umap_sampling)\n",
    "\n",
    "print(std_x)\n",
    "print(std_base)"
   ]
  },
  {
   "cell_type": "code",
   "execution_count": 21,
   "id": "965a2bd2-de7d-415c-a524-19f40b4725c0",
   "metadata": {},
   "outputs": [
    {
     "data": {
      "text/plain": [
       "(800, 1, 28, 28)"
      ]
     },
     "execution_count": 21,
     "metadata": {},
     "output_type": "execute_result"
    }
   ],
   "source": [
    "all_x.shape"
   ]
  },
  {
   "cell_type": "code",
   "execution_count": 30,
   "id": "a7f313d4-bd94-4015-a6b2-d37f537ae4d7",
   "metadata": {},
   "outputs": [],
   "source": [
    "from sklearn.ensemble import RandomForestClassifier\n",
    "from sklearn.model_selection import train_test_split\n",
    "\n",
    "def get_discriminator_performance(X,y,n_estimators = 100, test_ratio = 0.5):\n",
    "    X_train, X_test, y_train, y_test = train_test_split(X, y, test_size=test_ratio)\n",
    "    the_rf = RandomForestClassifier(n_estimators=n_estimators).fit(X_train, y_train)\n",
    "    y_pred = the_rf.predict(X_test)\n",
    "    the_rf_result = (y_pred == y_test).sum()\n",
    "    return the_rf_result/y_test.shape[0], X_train.shape[0]"
   ]
  },
  {
   "cell_type": "code",
   "execution_count": null,
   "id": "c2557c26-0e8e-459b-a419-8699923f1746",
   "metadata": {},
   "outputs": [],
   "source": []
  },
  {
   "cell_type": "code",
   "execution_count": 25,
   "id": "8f09b8db-315e-4baa-962d-147b3b1063e6",
   "metadata": {},
   "outputs": [],
   "source": [
    "def get_1d(X):\n",
    "    n,c,w,h = X.shape\n",
    "    return X.reshape(n,c*w*h)"
   ]
  },
  {
   "cell_type": "code",
   "execution_count": 31,
   "id": "6283e148-5a87-47d9-af67-07e89dcde283",
   "metadata": {},
   "outputs": [
    {
     "name": "stdout",
     "output_type": "stream",
     "text": [
      "(0.9539473684210527, 40)\n",
      "(0.993421052631579, 40)\n"
     ]
    }
   ],
   "source": [
    "print(get_discriminator_performance(get_1d(all_x),all_y, test_ratio = 0.95))\n",
    "print(get_discriminator_performance(get_1d(all_x_base),all_y, test_ratio = 0.95))\n"
   ]
  },
  {
   "cell_type": "code",
   "execution_count": 54,
   "id": "07ceb1a1-1535-4607-a5e4-cc775b0c038d",
   "metadata": {},
   "outputs": [],
   "source": [
    "NUM_RUNS = 20\n",
    "\n",
    "result = []\n",
    "for test_ratio in list(np.arange(0.5,0.99,0.05)):\n",
    "    accs_umap = []\n",
    "    accs_base = []\n",
    "    for _ in range(NUM_RUNS):\n",
    "        acc_umap, _ = get_discriminator_performance(get_1d(all_x),all_y, test_ratio = test_ratio)\n",
    "        acc_base, n = get_discriminator_performance(get_1d(all_x_base),all_y, test_ratio = test_ratio)\n",
    "        accs_umap.append(acc_umap)\n",
    "        accs_base.append(acc_base)\n",
    "    mean_umap = np.mean(np.asarray(accs_umap))\n",
    "    std_umap = np.std(np.asarray(accs_umap))\n",
    "    mean_base = np.mean(np.asarray(accs_base))\n",
    "    std_base = np.std(np.asarray(accs_base))\n",
    "    result.append((n, mean_base, std_base, mean_umap, std_umap))"
   ]
  },
  {
   "cell_type": "code",
   "execution_count": 55,
   "id": "35c6966c-e255-4ef4-a5bd-98ce3d2c7188",
   "metadata": {},
   "outputs": [],
   "source": [
    "import pandas as pd"
   ]
  },
  {
   "cell_type": "code",
   "execution_count": 56,
   "id": "ba524eb4-e64c-4220-8304-d7557bd35b69",
   "metadata": {},
   "outputs": [],
   "source": [
    "df = pd.DataFrame.from_records(result, columns =['NoTrain', 'Base', 'std_base', 'Manifold', 'std_manifold'])"
   ]
  },
  {
   "cell_type": "code",
   "execution_count": 57,
   "id": "0b9abe37-d917-4101-bc0a-99cf38495d7a",
   "metadata": {},
   "outputs": [
    {
     "data": {
      "text/html": [
       "<div>\n",
       "<style scoped>\n",
       "    .dataframe tbody tr th:only-of-type {\n",
       "        vertical-align: middle;\n",
       "    }\n",
       "\n",
       "    .dataframe tbody tr th {\n",
       "        vertical-align: top;\n",
       "    }\n",
       "\n",
       "    .dataframe thead th {\n",
       "        text-align: right;\n",
       "    }\n",
       "</style>\n",
       "<table border=\"1\" class=\"dataframe\">\n",
       "  <thead>\n",
       "    <tr style=\"text-align: right;\">\n",
       "      <th></th>\n",
       "      <th>NoTrain</th>\n",
       "      <th>Base</th>\n",
       "      <th>std_base</th>\n",
       "      <th>Manifold</th>\n",
       "      <th>std_manifold</th>\n",
       "    </tr>\n",
       "  </thead>\n",
       "  <tbody>\n",
       "    <tr>\n",
       "      <th>0</th>\n",
       "      <td>400</td>\n",
       "      <td>0.998250</td>\n",
       "      <td>0.002385</td>\n",
       "      <td>0.995500</td>\n",
       "      <td>0.003500</td>\n",
       "    </tr>\n",
       "    <tr>\n",
       "      <th>1</th>\n",
       "      <td>359</td>\n",
       "      <td>0.998866</td>\n",
       "      <td>0.001964</td>\n",
       "      <td>0.995125</td>\n",
       "      <td>0.003946</td>\n",
       "    </tr>\n",
       "    <tr>\n",
       "      <th>2</th>\n",
       "      <td>319</td>\n",
       "      <td>0.998545</td>\n",
       "      <td>0.001983</td>\n",
       "      <td>0.991164</td>\n",
       "      <td>0.005376</td>\n",
       "    </tr>\n",
       "    <tr>\n",
       "      <th>3</th>\n",
       "      <td>279</td>\n",
       "      <td>0.998081</td>\n",
       "      <td>0.001919</td>\n",
       "      <td>0.994434</td>\n",
       "      <td>0.003374</td>\n",
       "    </tr>\n",
       "    <tr>\n",
       "      <th>4</th>\n",
       "      <td>239</td>\n",
       "      <td>0.998930</td>\n",
       "      <td>0.001634</td>\n",
       "      <td>0.990285</td>\n",
       "      <td>0.005057</td>\n",
       "    </tr>\n",
       "  </tbody>\n",
       "</table>\n",
       "</div>"
      ],
      "text/plain": [
       "   NoTrain      Base  std_base  Manifold  std_manifold\n",
       "0      400  0.998250  0.002385  0.995500      0.003500\n",
       "1      359  0.998866  0.001964  0.995125      0.003946\n",
       "2      319  0.998545  0.001983  0.991164      0.005376\n",
       "3      279  0.998081  0.001919  0.994434      0.003374\n",
       "4      239  0.998930  0.001634  0.990285      0.005057"
      ]
     },
     "execution_count": 57,
     "metadata": {},
     "output_type": "execute_result"
    }
   ],
   "source": [
    "df.head()"
   ]
  },
  {
   "cell_type": "code",
   "execution_count": 65,
   "id": "677834ad-e1ea-448a-ac6c-cb7c0088926e",
   "metadata": {},
   "outputs": [
    {
     "data": {
      "image/png": "[encoded data removed]",
      "text/plain": [
       "<Figure size 432x288 with 1 Axes>"
      ]
     },
     "metadata": {
      "needs_background": "light"
     },
     "output_type": "display_data"
    }
   ],
   "source": [
    "fig, ax = plt.subplots()\n",
    " \n",
    "plt.errorbar(df['NoTrain'], df['Base'], df['std_base'], linestyle='None', marker='^', label = 'base')\n",
    "plt.errorbar(df['NoTrain'], df['Manifold'], df['std_manifold'], linestyle='None', marker='x', label = 'umap')\n",
    "plt.grid()\n",
    "plt.title(\"Discriminator performance on \" + EXPERIMENT)\n",
    "plt.xlabel(\"No of Training\")\n",
    "plt.legend()\n",
    "plt.show()"
   ]
  },
  {
   "cell_type": "code",
   "execution_count": 73,
   "id": "178e8547-46de-405d-b5d9-aba039247865",
   "metadata": {},
   "outputs": [],
   "source": [
    "discriminator_file = 'results/discriminator/accuracy_on_' + EXPERIMENT + '_noise_' + str(0.1) +'_.pickle'\n",
    "with open(discriminator_file, 'wb') as output:\n",
    "    pickle.dump(df, output)"
   ]
  },
  {
   "cell_type": "code",
   "execution_count": null,
   "id": "037d01dd-26f3-4ebf-917e-427cbc47dbcc",
   "metadata": {},
   "outputs": [],
   "source": []
  },
  {
   "cell_type": "code",
   "execution_count": 74,
   "id": "8c84f0b2-1f50-42e2-9ffa-844ec9a82a48",
   "metadata": {},
   "outputs": [],
   "source": [
    "load_file = discriminator_file\n",
    "with open(load_file, 'rb') as file:\n",
    "    load_data = pickle.load(file)"
   ]
  },
  {
   "cell_type": "code",
   "execution_count": 75,
   "id": "b4fe1510-5b4d-4f0a-8ac1-84a4aaadb8a6",
   "metadata": {},
   "outputs": [
    {
     "data": {
      "text/html": [
       "<div>\n",
       "<style scoped>\n",
       "    .dataframe tbody tr th:only-of-type {\n",
       "        vertical-align: middle;\n",
       "    }\n",
       "\n",
       "    .dataframe tbody tr th {\n",
       "        vertical-align: top;\n",
       "    }\n",
       "\n",
       "    .dataframe thead th {\n",
       "        text-align: right;\n",
       "    }\n",
       "</style>\n",
       "<table border=\"1\" class=\"dataframe\">\n",
       "  <thead>\n",
       "    <tr style=\"text-align: right;\">\n",
       "      <th></th>\n",
       "      <th>NoTrain</th>\n",
       "      <th>Base</th>\n",
       "      <th>std_base</th>\n",
       "      <th>Manifold</th>\n",
       "      <th>std_manifold</th>\n",
       "    </tr>\n",
       "  </thead>\n",
       "  <tbody>\n",
       "    <tr>\n",
       "      <th>0</th>\n",
       "      <td>400</td>\n",
       "      <td>0.998250</td>\n",
       "      <td>0.002385</td>\n",
       "      <td>0.995500</td>\n",
       "      <td>0.003500</td>\n",
       "    </tr>\n",
       "    <tr>\n",
       "      <th>1</th>\n",
       "      <td>359</td>\n",
       "      <td>0.998866</td>\n",
       "      <td>0.001964</td>\n",
       "      <td>0.995125</td>\n",
       "      <td>0.003946</td>\n",
       "    </tr>\n",
       "    <tr>\n",
       "      <th>2</th>\n",
       "      <td>319</td>\n",
       "      <td>0.998545</td>\n",
       "      <td>0.001983</td>\n",
       "      <td>0.991164</td>\n",
       "      <td>0.005376</td>\n",
       "    </tr>\n",
       "    <tr>\n",
       "      <th>3</th>\n",
       "      <td>279</td>\n",
       "      <td>0.998081</td>\n",
       "      <td>0.001919</td>\n",
       "      <td>0.994434</td>\n",
       "      <td>0.003374</td>\n",
       "    </tr>\n",
       "    <tr>\n",
       "      <th>4</th>\n",
       "      <td>239</td>\n",
       "      <td>0.998930</td>\n",
       "      <td>0.001634</td>\n",
       "      <td>0.990285</td>\n",
       "      <td>0.005057</td>\n",
       "    </tr>\n",
       "    <tr>\n",
       "      <th>5</th>\n",
       "      <td>199</td>\n",
       "      <td>0.998003</td>\n",
       "      <td>0.001630</td>\n",
       "      <td>0.989351</td>\n",
       "      <td>0.007430</td>\n",
       "    </tr>\n",
       "    <tr>\n",
       "      <th>6</th>\n",
       "      <td>159</td>\n",
       "      <td>0.997816</td>\n",
       "      <td>0.001430</td>\n",
       "      <td>0.986583</td>\n",
       "      <td>0.006010</td>\n",
       "    </tr>\n",
       "    <tr>\n",
       "      <th>7</th>\n",
       "      <td>119</td>\n",
       "      <td>0.998164</td>\n",
       "      <td>0.001383</td>\n",
       "      <td>0.981204</td>\n",
       "      <td>0.013359</td>\n",
       "    </tr>\n",
       "    <tr>\n",
       "      <th>8</th>\n",
       "      <td>79</td>\n",
       "      <td>0.997920</td>\n",
       "      <td>0.001201</td>\n",
       "      <td>0.973925</td>\n",
       "      <td>0.014877</td>\n",
       "    </tr>\n",
       "    <tr>\n",
       "      <th>9</th>\n",
       "      <td>39</td>\n",
       "      <td>0.994809</td>\n",
       "      <td>0.002833</td>\n",
       "      <td>0.935545</td>\n",
       "      <td>0.051229</td>\n",
       "    </tr>\n",
       "  </tbody>\n",
       "</table>\n",
       "</div>"
      ],
      "text/plain": [
       "   NoTrain      Base  std_base  Manifold  std_manifold\n",
       "0      400  0.998250  0.002385  0.995500      0.003500\n",
       "1      359  0.998866  0.001964  0.995125      0.003946\n",
       "2      319  0.998545  0.001983  0.991164      0.005376\n",
       "3      279  0.998081  0.001919  0.994434      0.003374\n",
       "4      239  0.998930  0.001634  0.990285      0.005057\n",
       "5      199  0.998003  0.001630  0.989351      0.007430\n",
       "6      159  0.997816  0.001430  0.986583      0.006010\n",
       "7      119  0.998164  0.001383  0.981204      0.013359\n",
       "8       79  0.997920  0.001201  0.973925      0.014877\n",
       "9       39  0.994809  0.002833  0.935545      0.051229"
      ]
     },
     "execution_count": 75,
     "metadata": {},
     "output_type": "execute_result"
    }
   ],
   "source": [
    "load_data"
   ]
  },
  {
   "cell_type": "code",
   "execution_count": null,
   "id": "000227ab-f842-410a-8dbb-ff86d5a95af8",
   "metadata": {},
   "outputs": [],
   "source": []
  },
  {
   "cell_type": "code",
   "execution_count": 14,
   "id": "7f2ecc79-2c21-440a-88a2-aa628dbc065b",
   "metadata": {},
   "outputs": [],
   "source": [
    "X_low, X_noise, InDist =  gen_perturbation_train(all_images.numpy()[0:100], \n",
    "                                                 perturbation_multiplier=3, \n",
    "                                                   perturbation_std = 0.1, \n",
    "                                                   method = 'manifold_noise_transform', \n",
    "                                                   embed_object = umap_sampling)"
   ]
  },
  {
   "cell_type": "code",
   "execution_count": 22,
   "id": "3bbf461b-03c7-49bc-8fe6-b925f0605662",
   "metadata": {},
   "outputs": [
    {
     "data": {
      "text/plain": [
       "<matplotlib.legend.Legend at 0x2b26afe70f10>"
      ]
     },
     "execution_count": 22,
     "metadata": {},
     "output_type": "execute_result"
    },
    {
     "data": {
      "image/png": "[encoded data removed]",
      "text/plain": [
       "<Figure size 432x288 with 1 Axes>"
      ]
     },
     "metadata": {
      "needs_background": "light"
     },
     "output_type": "display_data"
    }
   ],
   "source": [
    "from sklearn.ensemble import RandomForestClassifier\n",
    "from sklearn.model_selection import train_test_split\n",
    "\n",
    "\n",
    "X = X_low\n",
    "y = InDist\n",
    "umap_acc = []\n",
    "for test_ratio in list(np.arange(0.5,0.99,0.05)):\n",
    "    X_train, X_test, y_train, y_test = train_test_split(X, y, test_size=test_ratio)\n",
    "    the_rf = RandomForestClassifier(n_estimators=10).fit(X_train, y_train)\n",
    "    y_pred = the_rf.predict(X_test)\n",
    "    the_rf_result = (y_pred == y_test).sum()\n",
    "    umap_acc.append(the_rf_result/y_test.shape[0])\n",
    "    \n",
    "X = X_noise\n",
    "y = InDist\n",
    "base_acc = []\n",
    "for test_ratio in list(np.arange(0.5,0.99,0.05)):\n",
    "    X_train, X_test, y_train, y_test = train_test_split(X, y, test_size=test_ratio)\n",
    "    the_rf = RandomForestClassifier(n_estimators=10).fit(X_train, y_train)\n",
    "    y_pred = the_rf.predict(X_test)\n",
    "    the_rf_result = (y_pred == y_test).sum()\n",
    "    base_acc.append(the_rf_result/y_test.shape[0])\n",
    "    \n",
    "no_train = [v for v in list(np.arange(0.5,0.99,0.05)*y.shape[0])]\n",
    "no_train = [int(y.shape[0] - v) for v in no_train]\n",
    "\n",
    "plt.figure()\n",
    "plt.plot(no_train, base_acc, label = 'normal noise')\n",
    "plt.plot(no_train, umap_acc, label = 'umap noise')\n",
    "plt.title(\"Accuracy of the Discriminator\")\n",
    "plt.legend()"
   ]
  },
  {
   "cell_type": "code",
   "execution_count": null,
   "id": "bbf566fc-50b5-4868-aefc-6ad37d9183d1",
   "metadata": {},
   "outputs": [],
   "source": []
  },
  {
   "cell_type": "code",
   "execution_count": null,
   "id": "a3d16f70-9728-4a2e-97fe-cd8883c9f09c",
   "metadata": {},
   "outputs": [],
   "source": []
  },
  {
   "cell_type": "code",
   "execution_count": 90,
   "id": "451d803e-88b0-4db0-9192-ecd4be36f691",
   "metadata": {},
   "outputs": [
    {
     "name": "stdout",
     "output_type": "stream",
     "text": [
      "Generating instance:  0\n"
     ]
    }
   ],
   "source": [
    "from numpy import linalg as LA\n",
    "\n",
    "no_explanations = 1\n",
    "start_index = 0\n",
    "sample_range = range(start_index, start_index + no_explanations)\n",
    "\n",
    "sample_idx = 0\n",
    "n_umap_samples = 2\n",
    "n_nolime_samples = 25*n_umap_samples\n",
    "n_lime_samples = 25*n_umap_samples\n",
    "\n",
    "\n",
    "all_x, all_x_normal, all_y = [], [], []\n",
    "\n",
    "for images, labels in train_loader:\n",
    "    for i in range(images.shape[0]):\n",
    "        if sample_idx not in sample_range:\n",
    "            continue\n",
    "            \n",
    "        print(\"Generating instance: \", sample_idx)\n",
    "        \n",
    "        ex_img = images[i]\n",
    "        \n",
    "#         UMAP LIME\n",
    "        start_time = time.time()\n",
    "        ulime_seeds, ulime_perturbations, ulime_similarities, ulime_diff = umap_sampling.perturbations_generator(ex_img, \n",
    "                                                                                                                 no_samples = n_umap_samples, \n",
    "                                                                                                                 perturb_sigma = 10,\n",
    "                                                                                                                 perturb_prob = 1.0,\n",
    "                                                                                                                 constant_noise_mag = False,\n",
    "                                                                                                                 mode = 'discrete',\n",
    "                                                                                                                 kernel_width = 4,\n",
    "                                                                                                                 low_manifold= True)\n",
    "        \n",
    "        X = ulime_perturbations - ulime_diff\n",
    "        X = X.numpy()\n",
    "        X_per = ulime_perturbations.numpy()\n",
    "        \n",
    "        normal_noise = np.random.normal(0, 1, size=X.shape)\n",
    "        normal_noise = normal_noise/LA.norm(normal_noise)*LA.norm(ulime_diff.numpy())\n",
    "        X_per_normal = X + normal_noise\n",
    "        \n",
    "        p_train_x = np.vstack((X, X_per))\n",
    "        p_train_x_normal = np.vstack((X, X_per_normal))\n",
    "        p_train_y = np.concatenate((np.ones(X.shape[0]), np.zeros(X.shape[0])))\n",
    "\n",
    "        all_x.append(p_train_x)\n",
    "        all_x_normal.append(p_train_x_normal)\n",
    "        all_y.append(p_train_y)\n",
    "    \n",
    "        sample_idx = sample_idx + 1"
   ]
  },
  {
   "cell_type": "code",
   "execution_count": 91,
   "id": "8736c144-2ee0-4411-93e3-8c28b89d7fbd",
   "metadata": {},
   "outputs": [
    {
     "data": {
      "text/plain": [
       "(2, 1, 28, 28)"
      ]
     },
     "execution_count": 91,
     "metadata": {},
     "output_type": "execute_result"
    }
   ],
   "source": [
    "ulime_perturbations.numpy().shape"
   ]
  },
  {
   "cell_type": "code",
   "execution_count": 92,
   "id": "67bee548-4803-4970-ab4c-71db85997c85",
   "metadata": {},
   "outputs": [
    {
     "data": {
      "text/plain": [
       "<matplotlib.image.AxesImage at 0x2ba47dc49940>"
      ]
     },
     "execution_count": 92,
     "metadata": {},
     "output_type": "execute_result"
    },
    {
     "data": {
      "image/png": "[encoded data removed]",
      "text/plain": [
       "<Figure size 360x720 with 1 Axes>"
      ]
     },
     "metadata": {
      "needs_background": "light"
     },
     "output_type": "display_data"
    }
   ],
   "source": [
    "grid = torchvision.utils.make_grid(ulime_perturbations, nrow=10)\n",
    "plt.figure(figsize=(5, 10))\n",
    "plt.imshow(np.transpose(grid, (1, 2, 0)))"
   ]
  },
  {
   "cell_type": "code",
   "execution_count": null,
   "id": "09bca1f2-efcf-4be9-973e-c54dcc035723",
   "metadata": {},
   "outputs": [],
   "source": [
    "all_x_low = [umap_sampling.transform(xdata) for xdata in all_x]"
   ]
  },
  {
   "cell_type": "code",
   "execution_count": null,
   "id": "0c2da2f5-baf3-442c-a278-0c282058edc8",
   "metadata": {},
   "outputs": [],
   "source": []
  },
  {
   "cell_type": "code",
   "execution_count": 20,
   "id": "53ecd8a4-4e0d-4e27-9b35-3d7b4c7a78c3",
   "metadata": {},
   "outputs": [],
   "source": [
    "all_x_reshape = [xdata.reshape(4,28*28) for xdata in all_x]\n",
    "all_x_reshape = np.vstack(all_x_reshape)\n",
    "all_x_normal_reshape = [xdata.reshape(4,28*28) for xdata in all_x_normal]\n",
    "all_x_normal_reshape = np.vstack(all_x_normal_reshape)\n",
    "all_y = np.concatenate(all_y)"
   ]
  },
  {
   "cell_type": "code",
   "execution_count": 24,
   "id": "c79396f7-9c7f-4b20-b672-c872c7734ee4",
   "metadata": {},
   "outputs": [],
   "source": [
    "from sklearn.ensemble import RandomForestClassifier\n",
    "from sklearn.model_selection import train_test_split\n"
   ]
  },
  {
   "cell_type": "code",
   "execution_count": 86,
   "id": "b3a1a435-3b13-4ed7-97cd-7b2226154f7a",
   "metadata": {},
   "outputs": [
    {
     "name": "stdout",
     "output_type": "stream",
     "text": [
      "0.95\n",
      "1.0\n"
     ]
    }
   ],
   "source": [
    "test_ratio = 0.5\n",
    "\n",
    "Xs = [all_x_reshape, all_x_normal_reshape]\n",
    "ys = [all_y, all_y]\n",
    "\n",
    "methods = zip(Xs,ys)\n",
    "\n",
    "for X,y in methods:\n",
    "    X_train, X_test, y_train, y_test = train_test_split(X, y, test_size=test_ratio)\n",
    "    the_rf = RandomForestClassifier(n_estimators=100).fit(X_train, y_train)\n",
    "    y_pred = the_rf.predict(X_test)\n",
    "    the_rf_result = (y_pred == y_test).sum()\n",
    "    print(the_rf_result/y_test.shape[0])"
   ]
  },
  {
   "cell_type": "code",
   "execution_count": 80,
   "id": "dd0dec4c-d80b-4152-8d22-f10e8fd28d15",
   "metadata": {},
   "outputs": [
    {
     "name": "stderr",
     "output_type": "stream",
     "text": [
      "Clipping input data to the valid range for imshow with RGB data ([0..1] for floats or [0..255] for integers).\n"
     ]
    },
    {
     "data": {
      "text/plain": [
       "<matplotlib.image.AxesImage at 0x2ba47d4a3af0>"
      ]
     },
     "execution_count": 80,
     "metadata": {},
     "output_type": "execute_result"
    },
    {
     "data": {
      "image/png": "[encoded data removed]",
      "text/plain": [
       "<Figure size 360x720 with 1 Axes>"
      ]
     },
     "metadata": {
      "needs_background": "light"
     },
     "output_type": "display_data"
    }
   ],
   "source": [
    "grid = torchvision.utils.make_grid(torch.tensor(all_x_normal[0]), nrow=4)\n",
    "plt.figure(figsize=(5, 10))\n",
    "plt.imshow(np.transpose(grid, (1, 2, 0)))"
   ]
  },
  {
   "cell_type": "code",
   "execution_count": 81,
   "id": "fd91d6ca-b5c6-46e3-be30-4118f7529729",
   "metadata": {},
   "outputs": [
    {
     "data": {
      "text/plain": [
       "<matplotlib.image.AxesImage at 0x2ba47d237c70>"
      ]
     },
     "execution_count": 81,
     "metadata": {},
     "output_type": "execute_result"
    },
    {
     "data": {
      "image/png": "[encoded data removed]",
      "text/plain": [
       "<Figure size 360x720 with 1 Axes>"
      ]
     },
     "metadata": {
      "needs_background": "light"
     },
     "output_type": "display_data"
    }
   ],
   "source": [
    "grid = torchvision.utils.make_grid(torch.tensor(all_x[0]), nrow=4)\n",
    "plt.figure(figsize=(5, 10))\n",
    "plt.imshow(np.transpose(grid, (1, 2, 0)))"
   ]
  },
  {
   "cell_type": "code",
   "execution_count": null,
   "id": "f3784247-bfc7-419f-a8ae-eb3385cf384f",
   "metadata": {},
   "outputs": [],
   "source": []
  },
  {
   "cell_type": "code",
   "execution_count": 82,
   "id": "ba0a549b-5900-4555-9589-d952b023fa88",
   "metadata": {},
   "outputs": [],
   "source": [
    "X = all_x_reshape\n",
    "y = all_y\n",
    "umap_acc = []\n",
    "for test_ratio in list(np.arange(0.5,0.99,0.05)):\n",
    "    X_train, X_test, y_train, y_test = train_test_split(X, y, test_size=test_ratio)\n",
    "    the_rf = RandomForestClassifier(n_estimators=10).fit(X_train, y_train)\n",
    "    y_pred = the_rf.predict(X_test)\n",
    "    the_rf_result = (y_pred == y_test).sum()\n",
    "    umap_acc.append(the_rf_result/y_test.shape[0])\n",
    "    \n",
    "X = all_x_normal_reshape\n",
    "y = all_y\n",
    "base_acc = []\n",
    "for test_ratio in list(np.arange(0.5,0.99,0.05)):\n",
    "    X_train, X_test, y_train, y_test = train_test_split(X, y, test_size=test_ratio)\n",
    "    the_rf = RandomForestClassifier(n_estimators=10).fit(X_train, y_train)\n",
    "    y_pred = the_rf.predict(X_test)\n",
    "    the_rf_result = (y_pred == y_test).sum()\n",
    "    base_acc.append(the_rf_result/y_test.shape[0])"
   ]
  },
  {
   "cell_type": "code",
   "execution_count": 83,
   "id": "c6b10113-bb8f-4a43-8732-52e871d7fc02",
   "metadata": {},
   "outputs": [],
   "source": [
    "no_train = [v for v in list(np.arange(0.5,0.99,0.05)*y.shape[0])]\n",
    "no_train = [int(y.shape[0] - v) for v in no_train]"
   ]
  },
  {
   "cell_type": "code",
   "execution_count": 84,
   "id": "baed4803-37ee-456b-8f7d-ddc4bc0b6303",
   "metadata": {},
   "outputs": [
    {
     "data": {
      "text/plain": [
       "[<matplotlib.lines.Line2D at 0x2ba47cbae7f0>]"
      ]
     },
     "execution_count": 84,
     "metadata": {},
     "output_type": "execute_result"
    },
    {
     "data": {
      "image/png": "[encoded data removed]",
      "text/plain": [
       "<Figure size 432x288 with 1 Axes>"
      ]
     },
     "metadata": {
      "needs_background": "light"
     },
     "output_type": "display_data"
    }
   ],
   "source": [
    "plt.figure()\n",
    "plt.plot(no_train, base_acc)\n",
    "plt.plot(no_train, umap_acc)"
   ]
  },
  {
   "cell_type": "code",
   "execution_count": null,
   "id": "822430e2-c7f5-4f1b-bcd7-f2f9ab408a14",
   "metadata": {},
   "outputs": [],
   "source": []
  }
 ],
 "metadata": {
  "kernelspec": {
   "display_name": "Python 3 (ipykernel)",
   "language": "python",
   "name": "python3"
  },
  "language_info": {
   "codemirror_mode": {
    "name": "ipython",
    "version": 3
   },
   "file_extension": ".py",
   "mimetype": "text/x-python",
   "name": "python",
   "nbconvert_exporter": "python",
   "pygments_lexer": "ipython3",
   "version": "3.8.10"
  }
 },
 "nbformat": 4,
 "nbformat_minor": 5
}
