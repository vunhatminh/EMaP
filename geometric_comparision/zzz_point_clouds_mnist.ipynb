{
 "cells": [
  {
   "cell_type": "code",
   "execution_count": null,
   "id": "2b205a54-4eea-411b-8a60-3493b81d117a",
   "metadata": {},
   "outputs": [],
   "source": []
  },
  {
   "cell_type": "code",
   "execution_count": 1,
   "id": "fae267f7-b516-4586-87bf-5a83b45418f5",
   "metadata": {},
   "outputs": [
    {
     "name": "stdout",
     "output_type": "stream",
     "text": [
      "EXPERIMENT:  mnist\n",
      "TARGET:  1\n",
      "RUNS:  2\n",
      "RADIUS:  0.001\n",
      "MULTIPLIER:  100\n",
      "DIM:  2\n"
     ]
    }
   ],
   "source": [
    "import numpy as np\n",
    "import cv2\n",
    "import pickle\n",
    "import matplotlib.pyplot as plt\n",
    "import time\n",
    "import pandas as pd\n",
    "import argparse\n",
    "\n",
    "import torch\n",
    "import torch.nn as nn\n",
    "from torch.autograd import Variable\n",
    "import torchvision\n",
    "import torchvision.transforms as transforms\n",
    "\n",
    "from ripser import Rips\n",
    "from persim import plot_diagrams, bottleneck\n",
    "\n",
    "from manifold_torch import Manifold_Image_Sampler\n",
    "\n",
    "device = torch.device(\"cuda:0\" if torch.cuda.is_available() else \"cpu\")\n",
    "\n",
    "def normalize(v, r):\n",
    "    return v/np.sqrt(np.sum(v**2))*r\n",
    "\n",
    "EXPERIMENT = 'mnist'\n",
    "RADIUS = 0.001\n",
    "MULTIPLIER = 100\n",
    "DIM = 2\n",
    "SHUFFLE = False\n",
    "RUNS = 2\n",
    "TARGET = 1\n",
    "\n",
    "print(\"EXPERIMENT: \", EXPERIMENT)\n",
    "print(\"TARGET: \", TARGET)\n",
    "print(\"RUNS: \", RUNS)\n",
    "print(\"RADIUS: \", RADIUS)\n",
    "print(\"MULTIPLIER: \", MULTIPLIER)\n",
    "print(\"DIM: \", DIM)"
   ]
  },
  {
   "cell_type": "code",
   "execution_count": 2,
   "id": "e83cc047-d3b2-460e-b37e-165012abf89a",
   "metadata": {},
   "outputs": [
    {
     "name": "stdout",
     "output_type": "stream",
     "text": [
      "Loading mnist\n",
      "Done loading\n",
      "Initialize duration:  70.94929003715515\n"
     ]
    }
   ],
   "source": [
    "if EXPERIMENT == 'fashion_mnist':\n",
    "    print(\"Loading fashion mnist\")\n",
    "    train_set = torchvision.datasets.FashionMNIST(\"./data\", download=True, transform=\n",
    "                                                    transforms.Compose([transforms.ToTensor()]))\n",
    "    test_set = torchvision.datasets.FashionMNIST(\"./data\", download=True, train=False, transform=\n",
    "                                                   transforms.Compose([transforms.ToTensor()]))\n",
    "elif EXPERIMENT == 'mnist':\n",
    "    print(\"Loading mnist\")\n",
    "    train_set = torchvision.datasets.MNIST(\"./data\", download=True, transform=\n",
    "                                                    transforms.Compose([transforms.ToTensor()]))\n",
    "    test_set = torchvision.datasets.MNIST(\"./data\", download=True, train=False, transform=\n",
    "                                                   transforms.Compose([transforms.ToTensor()]))\n",
    "else:\n",
    "    print(\"Nothing to do.\")\n",
    "    \n",
    "print(\"Done loading\")\n",
    "    \n",
    "train_loader = torch.utils.data.DataLoader(train_set, \n",
    "                                           batch_size=100)\n",
    "test_loader = torch.utils.data.DataLoader(test_set,\n",
    "                                          batch_size=100)\n",
    "\n",
    "\n",
    "all_loader = torch.utils.data.DataLoader(train_set, batch_size=train_set.__len__())\n",
    "# all_loader = torch.utils.data.DataLoader(train_set, batch_size=1000)\n",
    "all_images, all_labels = next(iter(all_loader))\n",
    "\n",
    "start_time = time.time()\n",
    "manifold_sampler = Manifold_Image_Sampler(all_images, dim = DIM, labels = all_labels)\n",
    "duration = time.time() - start_time\n",
    "print(\"Initialize duration: \", duration)\n"
   ]
  },
  {
   "cell_type": "code",
   "execution_count": 3,
   "id": "2c69173a-f8c6-4b72-85c2-33c7b250422e",
   "metadata": {},
   "outputs": [],
   "source": [
    "manifold_sampler.get_pivots(manifold_sampler.labels, 1000, shuffle = SHUFFLE, target_labels=[1])\n",
    "manifold_G = manifold_sampler.get_G_from_pivots()"
   ]
  },
  {
   "cell_type": "code",
   "execution_count": null,
   "id": "fc2d64f5-26d9-45f4-8aa7-5d548061bf77",
   "metadata": {},
   "outputs": [],
   "source": []
  },
  {
   "cell_type": "code",
   "execution_count": 4,
   "id": "72baa5e0-fe3a-420e-a6f7-c6dd94370c5f",
   "metadata": {},
   "outputs": [],
   "source": [
    "# if TARGET == None:\n",
    "#     targets = np.array(torch.unique(all_labels))\n",
    "#     target_str = 'all'\n",
    "# else:\n",
    "#     targets = [TARGET]\n",
    "#     target_str = str(TARGET)\n",
    "\n",
    "# # Get the hyperplanes\n",
    "# _, pivots = manifold_sampler.get_pivots(manifold_sampler.labels, MULTIPLIER, shuffle = SHUFFLE, target_labels=targets)\n",
    "# manifold_G = manifold_sampler.get_G_from_samples(pivots)\n",
    "# Gu, Gd, Gv = np.linalg.svd(manifold_G, full_matrices=False)\n",
    "\n",
    "byff = manifold_sampler.get_pivots(manifold_sampler.labels, 5, shuffle = False, target_labels=[1])\n",
    "# manifold_G = manifold_sampler.get_G_from_pivots()"
   ]
  },
  {
   "cell_type": "code",
   "execution_count": 4,
   "id": "9f375169-d7bf-426d-a8b6-dcb1c98d1f64",
   "metadata": {},
   "outputs": [],
   "source": [
    "Gu, Gd, Gv = np.linalg.svd(manifold_G, full_matrices=False)"
   ]
  },
  {
   "cell_type": "code",
   "execution_count": 5,
   "id": "7f9ae016-db47-4637-a3d5-4e4cbbaa7455",
   "metadata": {},
   "outputs": [],
   "source": [
    "# Generate noise\n",
    "perturbed_xtrain = np.random.normal(0, 1, size=manifold_sampler.pivots.shape)"
   ]
  },
  {
   "cell_type": "code",
   "execution_count": 6,
   "id": "326acfb8-3ee7-4164-831b-ec32d8b9f3e1",
   "metadata": {},
   "outputs": [],
   "source": [
    "raw_noise_1d = manifold_sampler.to_1d(perturbed_xtrain)\n",
    "plane_noise = np.zeros_like(raw_noise_1d)\n",
    "\n",
    "for d in range(Gv.shape[0]):\n",
    "    proj = np.dot(raw_noise_1d, Gv[d])\n",
    "    for s in range(plane_noise.shape[0]):\n",
    "        plane_noise[s] = plane_noise[s] + proj[s]*Gv[d]        \n",
    "ortho_noise = raw_noise_1d - plane_noise"
   ]
  },
  {
   "cell_type": "code",
   "execution_count": 7,
   "id": "25af2a5a-70c7-4874-93cc-bfbc0ef60582",
   "metadata": {},
   "outputs": [
    {
     "name": "stdout",
     "output_type": "stream",
     "text": [
      "2275.8287051865873\n",
      "7.897421195730142e-05\n"
     ]
    }
   ],
   "source": [
    "print(np.sum(np.abs(np.dot(plane_noise,manifold_G.T))))\n",
    "print(np.sum(np.abs(np.dot(ortho_noise,manifold_G.T))))"
   ]
  },
  {
   "cell_type": "code",
   "execution_count": 9,
   "id": "8ce07605-7b4c-4729-ac04-b7a20bc2b25c",
   "metadata": {},
   "outputs": [],
   "source": [
    "def normalize(v, r):\n",
    "    return v/np.sqrt(np.sum(v**2))*r\n",
    "\n",
    "RADIUS = 0.001\n",
    "\n",
    "ortho_norm = normalize(ortho_noise, RADIUS)\n",
    "plane_norm = normalize(plane_noise, RADIUS)\n",
    "gauss_norm = normalize(raw_noise_1d, RADIUS)"
   ]
  },
  {
   "cell_type": "code",
   "execution_count": 10,
   "id": "32dc7e06-fefd-46e0-ae0a-1aade7218391",
   "metadata": {},
   "outputs": [],
   "source": [
    "ortho_pc = manifold_sampler.to_1d(manifold_sampler.pivots) + ortho_norm\n",
    "plane_pc = manifold_sampler.to_1d(manifold_sampler.pivots) + plane_norm\n",
    "gauss_pc = manifold_sampler.to_1d(manifold_sampler.pivots) + gauss_norm"
   ]
  },
  {
   "cell_type": "code",
   "execution_count": 11,
   "id": "3b46e91a-14a0-4afa-846a-b130bf984508",
   "metadata": {},
   "outputs": [],
   "source": [
    "from ripser import Rips"
   ]
  },
  {
   "cell_type": "code",
   "execution_count": 12,
   "id": "fa9b32f2-b4ce-4c01-b25d-11620be176df",
   "metadata": {},
   "outputs": [
    {
     "name": "stdout",
     "output_type": "stream",
     "text": [
      "Rips(maxdim=1, thresh=inf, coeff=2, do_cocycles=False, n_perm = None, verbose=True)\n"
     ]
    },
    {
     "data": {
      "image/png": "[encoded data removed]",
      "text/plain": [
       "<Figure size 144x144 with 1 Axes>"
      ]
     },
     "metadata": {
      "needs_background": "light"
     },
     "output_type": "display_data"
    },
    {
     "data": {
      "image/png": "[encoded data removed]",
      "text/plain": [
       "<Figure size 200x200 with 1 Axes>"
      ]
     },
     "metadata": {},
     "output_type": "display_data"
    },
    {
     "data": {
      "image/png": "[encoded data removed]",
      "text/plain": [
       "<Figure size 200x200 with 1 Axes>"
      ]
     },
     "metadata": {},
     "output_type": "display_data"
    },
    {
     "data": {
      "image/png": "[encoded data removed]",
      "text/plain": [
       "<Figure size 200x200 with 1 Axes>"
      ]
     },
     "metadata": {},
     "output_type": "display_data"
    }
   ],
   "source": [
    "rips = Rips()\n",
    "diagrams_in = rips.fit_transform(manifold_sampler.to_1d(manifold_sampler.pivots))\n",
    "plt.figure(figsize = (2,2))\n",
    "rips.plot(diagrams_in, size=3)\n",
    "\n",
    "diagrams_gauss = rips.fit_transform(gauss_pc)\n",
    "plt.figure(figsize = (2,2))\n",
    "rips.plot(diagrams_gauss, size=3)\n",
    "\n",
    "diagrams_plane = rips.fit_transform(plane_pc)\n",
    "plt.figure(figsize = (2,2))\n",
    "rips.plot(diagrams_plane, size=3)\n",
    "\n",
    "diagrams_ortho = rips.fit_transform(ortho_pc)\n",
    "plt.figure(figsize = (2,2))\n",
    "rips.plot(diagrams_ortho, size=3)"
   ]
  },
  {
   "cell_type": "code",
   "execution_count": 13,
   "id": "0828622a-9299-4e8a-bcc7-cb23d76e34d7",
   "metadata": {},
   "outputs": [],
   "source": [
    "from persim import plot_diagrams, bottleneck"
   ]
  },
  {
   "cell_type": "code",
   "execution_count": null,
   "id": "b3f2ee47-1289-45f5-a74c-8036afe74034",
   "metadata": {},
   "outputs": [
    {
     "name": "stderr",
     "output_type": "stream",
     "text": [
      "/home/minhvu/blue_minhvu/Python_geometric/lib/python3.8/site-packages/persim/bottleneck.py:56: UserWarning: dgm1 has points with non-finite death times;ignoring those points\n",
      "  warnings.warn(\n",
      "/home/minhvu/blue_minhvu/Python_geometric/lib/python3.8/site-packages/persim/bottleneck.py:66: UserWarning: dgm2 has points with non-finite death times;ignoring those points\n",
      "  warnings.warn(\n"
     ]
    },
    {
     "name": "stdout",
     "output_type": "stream",
     "text": [
      "5.245208740234375e-06\n",
      "4.3392181396484375e-05\n"
     ]
    }
   ],
   "source": [
    "for i in [0,1]:\n",
    "    print(bottleneck(diagrams_in[i], diagrams_gauss[i]))\n",
    "    print(bottleneck(diagrams_in[i], diagrams_plane[i]))\n",
    "    print(bottleneck(diagrams_in[i], diagrams_ortho[i]))"
   ]
  },
  {
   "cell_type": "code",
   "execution_count": null,
   "id": "7d4d4adb-c94a-4f76-98b4-6fb92cac72ba",
   "metadata": {},
   "outputs": [],
   "source": []
  },
  {
   "cell_type": "code",
   "execution_count": null,
   "id": "000a5966-73c4-4b28-97f7-5313e79a6f30",
   "metadata": {},
   "outputs": [],
   "source": []
  },
  {
   "cell_type": "code",
   "execution_count": 12,
   "id": "d009a941-9e6d-4a3d-9add-e7c0f1022423",
   "metadata": {},
   "outputs": [],
   "source": [
    "load_file = 'result/bottleneck/mnist_label_2_dim_3_std_1.0_.pickle'\n",
    "\n",
    "with open(load_file, 'rb') as file:\n",
    "    load_data = pickle.load(file)\n",
    "\n",
    "df = load_data\n"
   ]
  },
  {
   "cell_type": "code",
   "execution_count": 13,
   "id": "8d7b99ee-fe16-4742-8651-83ebad4a566f",
   "metadata": {},
   "outputs": [
    {
     "data": {
      "text/html": [
       "<div>\n",
       "<style scoped>\n",
       "    .dataframe tbody tr th:only-of-type {\n",
       "        vertical-align: middle;\n",
       "    }\n",
       "\n",
       "    .dataframe tbody tr th {\n",
       "        vertical-align: top;\n",
       "    }\n",
       "\n",
       "    .dataframe thead th {\n",
       "        text-align: right;\n",
       "    }\n",
       "</style>\n",
       "<table border=\"1\" class=\"dataframe\">\n",
       "  <thead>\n",
       "    <tr style=\"text-align: right;\">\n",
       "      <th></th>\n",
       "      <th>H0_gauss</th>\n",
       "      <th>H1_gauss</th>\n",
       "      <th>H0_plane</th>\n",
       "      <th>H1_plane</th>\n",
       "      <th>H0_ortho</th>\n",
       "      <th>H1_ortho</th>\n",
       "    </tr>\n",
       "  </thead>\n",
       "  <tbody>\n",
       "    <tr>\n",
       "      <th>0</th>\n",
       "      <td>0.008545</td>\n",
       "      <td>0.006811</td>\n",
       "      <td>0.025362</td>\n",
       "      <td>0.048375</td>\n",
       "      <td>0.008689</td>\n",
       "      <td>0.006073</td>\n",
       "    </tr>\n",
       "    <tr>\n",
       "      <th>1</th>\n",
       "      <td>0.007503</td>\n",
       "      <td>0.006985</td>\n",
       "      <td>0.028409</td>\n",
       "      <td>0.048845</td>\n",
       "      <td>0.006747</td>\n",
       "      <td>0.006441</td>\n",
       "    </tr>\n",
       "    <tr>\n",
       "      <th>2</th>\n",
       "      <td>0.005386</td>\n",
       "      <td>0.007897</td>\n",
       "      <td>0.022072</td>\n",
       "      <td>0.048146</td>\n",
       "      <td>0.005627</td>\n",
       "      <td>0.007590</td>\n",
       "    </tr>\n",
       "    <tr>\n",
       "      <th>3</th>\n",
       "      <td>0.006062</td>\n",
       "      <td>0.009367</td>\n",
       "      <td>0.028733</td>\n",
       "      <td>0.043466</td>\n",
       "      <td>0.006196</td>\n",
       "      <td>0.009570</td>\n",
       "    </tr>\n",
       "    <tr>\n",
       "      <th>4</th>\n",
       "      <td>0.007030</td>\n",
       "      <td>0.008097</td>\n",
       "      <td>0.029806</td>\n",
       "      <td>0.042170</td>\n",
       "      <td>0.005871</td>\n",
       "      <td>0.008267</td>\n",
       "    </tr>\n",
       "    <tr>\n",
       "      <th>5</th>\n",
       "      <td>0.008536</td>\n",
       "      <td>0.007692</td>\n",
       "      <td>0.022412</td>\n",
       "      <td>0.049284</td>\n",
       "      <td>0.008241</td>\n",
       "      <td>0.006437</td>\n",
       "    </tr>\n",
       "    <tr>\n",
       "      <th>6</th>\n",
       "      <td>0.008783</td>\n",
       "      <td>0.009260</td>\n",
       "      <td>0.036090</td>\n",
       "      <td>0.043511</td>\n",
       "      <td>0.008335</td>\n",
       "      <td>0.008338</td>\n",
       "    </tr>\n",
       "    <tr>\n",
       "      <th>7</th>\n",
       "      <td>0.007471</td>\n",
       "      <td>0.007937</td>\n",
       "      <td>0.036342</td>\n",
       "      <td>0.039250</td>\n",
       "      <td>0.007175</td>\n",
       "      <td>0.007724</td>\n",
       "    </tr>\n",
       "    <tr>\n",
       "      <th>8</th>\n",
       "      <td>0.007995</td>\n",
       "      <td>0.006967</td>\n",
       "      <td>0.026562</td>\n",
       "      <td>0.042539</td>\n",
       "      <td>0.008390</td>\n",
       "      <td>0.006657</td>\n",
       "    </tr>\n",
       "    <tr>\n",
       "      <th>9</th>\n",
       "      <td>0.006050</td>\n",
       "      <td>0.007938</td>\n",
       "      <td>0.023663</td>\n",
       "      <td>0.038771</td>\n",
       "      <td>0.006074</td>\n",
       "      <td>0.007652</td>\n",
       "    </tr>\n",
       "  </tbody>\n",
       "</table>\n",
       "</div>"
      ],
      "text/plain": [
       "   H0_gauss  H1_gauss  H0_plane  H1_plane  H0_ortho  H1_ortho\n",
       "0  0.008545  0.006811  0.025362  0.048375  0.008689  0.006073\n",
       "1  0.007503  0.006985  0.028409  0.048845  0.006747  0.006441\n",
       "2  0.005386  0.007897  0.022072  0.048146  0.005627  0.007590\n",
       "3  0.006062  0.009367  0.028733  0.043466  0.006196  0.009570\n",
       "4  0.007030  0.008097  0.029806  0.042170  0.005871  0.008267\n",
       "5  0.008536  0.007692  0.022412  0.049284  0.008241  0.006437\n",
       "6  0.008783  0.009260  0.036090  0.043511  0.008335  0.008338\n",
       "7  0.007471  0.007937  0.036342  0.039250  0.007175  0.007724\n",
       "8  0.007995  0.006967  0.026562  0.042539  0.008390  0.006657\n",
       "9  0.006050  0.007938  0.023663  0.038771  0.006074  0.007652"
      ]
     },
     "execution_count": 13,
     "metadata": {},
     "output_type": "execute_result"
    }
   ],
   "source": [
    "df"
   ]
  },
  {
   "cell_type": "code",
   "execution_count": null,
   "id": "00911e9b-a7ef-455c-99da-20f080207eb2",
   "metadata": {},
   "outputs": [],
   "source": []
  }
 ],
 "metadata": {
  "kernelspec": {
   "display_name": "Python 3 (ipykernel)",
   "language": "python",
   "name": "python3"
  },
  "language_info": {
   "codemirror_mode": {
    "name": "ipython",
    "version": 3
   },
   "file_extension": ".py",
   "mimetype": "text/x-python",
   "name": "python",
   "nbconvert_exporter": "python",
   "pygments_lexer": "ipython3",
   "version": "3.8.12"
  }
 },
 "nbformat": 4,
 "nbformat_minor": 5
}
