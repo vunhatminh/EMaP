{
 "cells": [
  {
   "cell_type": "code",
   "execution_count": 1,
   "id": "422c453f-4185-4814-87ac-48dfbf63e0b3",
   "metadata": {},
   "outputs": [
    {
     "name": "stdout",
     "output_type": "stream",
     "text": [
      "EXPERIMENT:  fashion_mnist\n",
      "RADIUS:  1e-05\n",
      "DIM:  3\n",
      "SHUFFLE:  False\n"
     ]
    }
   ],
   "source": [
    "import numpy as np\n",
    "import cv2\n",
    "import pickle\n",
    "import matplotlib.pyplot as plt\n",
    "import time\n",
    "import pandas as pd\n",
    "import argparse\n",
    "\n",
    "import torch\n",
    "import torch.nn as nn\n",
    "from torch.autograd import Variable\n",
    "\n",
    "import torchvision\n",
    "import torchvision.transforms as transforms\n",
    "\n",
    "from numpy import linalg as LA\n",
    "from sklearn.ensemble import RandomForestClassifier\n",
    "from sklearn.model_selection import train_test_split\n",
    "from sklearn import linear_model\n",
    "\n",
    "from fashion_model import FashionCNN \n",
    "from manifold_torch import Manifold_Image_Sampler\n",
    "\n",
    "device = torch.device(\"cuda:0\" if torch.cuda.is_available() else \"cpu\")\n",
    "\n",
    "def similarity_kernel(v1,v2,kernel_width = 1):\n",
    "    l2_dist = np.linalg.norm(v1 - v2)\n",
    "    return np.exp(- (l2_dist**2) / (kernel_width**2))\n",
    "\n",
    "def normalize(v, r):\n",
    "    return v/np.sqrt(np.sum(v**2))*r\n",
    "\n",
    "def gen_mask(score, ones_ratio = 0.2):\n",
    "    no_rows, no_cols = score.shape\n",
    "    score_flat = np.reshape(score, no_rows*no_cols)\n",
    "    top_k = int(ones_ratio*no_rows*no_cols)\n",
    "    idx = np.argpartition(score_flat, -top_k)[-top_k:]\n",
    "    indices = idx[np.argsort((-score_flat)[idx])]\n",
    "    score_flat_dup = np.zeros_like(score_flat)\n",
    "    score_flat_dup[indices] = 1.0\n",
    "    score_dup = score_flat_dup.reshape(no_rows, no_cols)\n",
    "    return score_dup\n",
    "\n",
    "\n",
    "# prog_args = arg_parse()\n",
    "\n",
    "EXPERIMENT = 'fashion_mnist'#\n",
    "RADIUS = 0.00001 #\n",
    "NUM_PERTURBATIONS = 10 #\n",
    "MULTIPLIER = 100 #\n",
    "DIM = 3 #\n",
    "# PIVOTS = 10\n",
    "SHUFFLE = False\n",
    "BASE_RADIUS = 0.00001\n",
    "SIM_SIGMA = 1\n",
    "\n",
    "print(\"EXPERIMENT: \", EXPERIMENT)\n",
    "print(\"RADIUS: \", RADIUS)\n",
    "print(\"DIM: \", DIM)\n",
    "# print(\"PIVOTS: \", PIVOTS)\n",
    "print(\"SHUFFLE: \", SHUFFLE)"
   ]
  },
  {
   "cell_type": "code",
   "execution_count": null,
   "id": "33ed811b-eb14-4e40-bb98-fee63eb20d1a",
   "metadata": {},
   "outputs": [],
   "source": []
  },
  {
   "cell_type": "code",
   "execution_count": null,
   "id": "2ec2e22a-aeaf-494f-aba9-523bb194aad1",
   "metadata": {},
   "outputs": [],
   "source": []
  },
  {
   "cell_type": "code",
   "execution_count": 2,
   "id": "b5d4560b-5ce6-408e-af59-e59bfe84dc90",
   "metadata": {},
   "outputs": [
    {
     "name": "stdout",
     "output_type": "stream",
     "text": [
      "Loading fashion mnist\n",
      "Done loading\n"
     ]
    }
   ],
   "source": [
    "if EXPERIMENT == 'fashion_mnist':\n",
    "    print(\"Loading fashion mnist\")\n",
    "    train_set = torchvision.datasets.FashionMNIST(\"./data\", download=True, transform=\n",
    "                                                    transforms.Compose([transforms.ToTensor()]))\n",
    "    test_set = torchvision.datasets.FashionMNIST(\"./data\", download=True, train=False, transform=\n",
    "                                                   transforms.Compose([transforms.ToTensor()]))\n",
    "elif EXPERIMENT == 'mnist':\n",
    "    print(\"Loading mnist\")\n",
    "    train_set = torchvision.datasets.MNIST(\"./data\", download=True, transform=\n",
    "                                                    transforms.Compose([transforms.ToTensor()]))\n",
    "    test_set = torchvision.datasets.MNIST(\"./data\", download=True, train=False, transform=\n",
    "                                                   transforms.Compose([transforms.ToTensor()]))\n",
    "else:\n",
    "    print(\"Nothing to do.\")\n",
    "    \n",
    "print(\"Done loading\")\n",
    "    \n",
    "train_loader = torch.utils.data.DataLoader(train_set, \n",
    "                                           batch_size=100)\n",
    "test_loader = torch.utils.data.DataLoader(test_set,\n",
    "                                          batch_size=100)"
   ]
  },
  {
   "cell_type": "code",
   "execution_count": 3,
   "id": "818b66f3-2411-4598-b88b-d8cceb18c067",
   "metadata": {},
   "outputs": [
    {
     "name": "stdout",
     "output_type": "stream",
     "text": [
      "Initialize duration:  238.63357090950012\n"
     ]
    }
   ],
   "source": [
    "# Train the sampler\n",
    "all_loader = torch.utils.data.DataLoader(train_set, batch_size=train_set.__len__())\n",
    "all_images, all_labels = next(iter(all_loader))\n",
    "\n",
    "start_time = time.time()\n",
    "manifold_sampler = Manifold_Image_Sampler(all_images, dim = DIM, labels = all_labels)\n",
    "duration = time.time() - start_time\n",
    "print(\"Initialize duration: \", duration)\n",
    "\n",
    "# Get the pivots\n",
    "_ = manifold_sampler.get_pivots(manifold_sampler.labels, MULTIPLIER, shuffle = SHUFFLE, target_labels=None)"
   ]
  },
  {
   "cell_type": "code",
   "execution_count": 4,
   "id": "b222cee6-aee2-43d3-80be-e67da5002b28",
   "metadata": {},
   "outputs": [],
   "source": [
    "# Get hyperplanes\n",
    "Gvs = []\n",
    "for group in torch.unique(manifold_sampler.labels):\n",
    "    manifold_G = manifold_sampler.get_G_from_samples(manifold_sampler.pivots[group.item()*MULTIPLIER:(group.item()+1)*MULTIPLIER])\n",
    "    Gu, Gd, Gv = np.linalg.svd(manifold_G, full_matrices=False)\n",
    "    Gvs.append(Gv)\n",
    "\n",
    "sample_to_Gv = {}\n",
    "group = -1\n",
    "for i in range(manifold_sampler.pivots.shape[0]):\n",
    "    if i % MULTIPLIER == 0:\n",
    "        group = group + 1\n",
    "    sample_to_Gv[i] = group "
   ]
  },
  {
   "cell_type": "code",
   "execution_count": 5,
   "id": "9fada6f1-37e7-4edb-9cfd-fc567ebdf87b",
   "metadata": {},
   "outputs": [
    {
     "name": "stdout",
     "output_type": "stream",
     "text": [
      "pretrained/fashionCNN.pt\n",
      "Done loading\n"
     ]
    }
   ],
   "source": [
    "checkpt_file = 'pretrained/fashionCNN.pt'\n",
    "print(checkpt_file)\n",
    "\n",
    "model = FashionCNN()\n",
    "model.to(device)\n",
    "model.load_state_dict(torch.load(checkpt_file))\n",
    "model.eval()\n",
    "print(\"Done loading\")"
   ]
  },
  {
   "cell_type": "code",
   "execution_count": 19,
   "id": "6191ca5f-b738-4b0c-89c9-fd37e0626841",
   "metadata": {},
   "outputs": [],
   "source": [
    "# Get perturbations\n",
    "BASE_RADIUS = 0.0001\n",
    "NUM_PERTURBATIONS = 10\n",
    "perturbations = []\n",
    "for _ in range(NUM_PERTURBATIONS):\n",
    "    for group in torch.unique(manifold_sampler.labels):\n",
    "        base_batch = manifold_sampler.pivots[group.item()*MULTIPLIER:(group.item()+1)*MULTIPLIER]\n",
    "        \n",
    "        # base\n",
    "        base_gauss_ = np.random.normal(0, 1, size=base_batch.shape)\n",
    "        r = np.random.uniform()*BASE_RADIUS\n",
    "        base_gauss_norm = normalize(base_gauss_, r)\n",
    "        base_pc = manifold_sampler.to_1d(base_batch + base_gauss_norm)\n",
    "    \n",
    "        # gauss\n",
    "        gauss_ = np.random.normal(0, 1, size=base_batch.shape)\n",
    "        gauss_noise = manifold_sampler.to_1d(gauss_)\n",
    "        plane_noise = np.zeros_like(gauss_noise)\n",
    "        for d in range(Gvs[group].shape[0]):\n",
    "            proj = np.dot(gauss_noise, Gvs[group][d])\n",
    "            for s in range(plane_noise.shape[0]):\n",
    "                plane_noise[s] = plane_noise[s] + proj[s]*Gvs[group][d]        \n",
    "        ortho_noise = gauss_noise - plane_noise\n",
    "    \n",
    "        # noise\n",
    "        r = np.random.uniform()*RADIUS\n",
    "        ortho_norm = normalize(ortho_noise, r)\n",
    "        ortho_pc = base_pc + ortho_norm\n",
    "    \n",
    "        perturbations.append(manifold_sampler.to_3d(ortho_pc))\n",
    "    \n",
    "perturbations = torch.cat(perturbations)    \n",
    "perturb_embeded = manifold_sampler.transform(perturbations)"
   ]
  },
  {
   "cell_type": "code",
   "execution_count": null,
   "id": "dada94c0-82b2-4c1d-87eb-baa8723ddc86",
   "metadata": {},
   "outputs": [],
   "source": []
  },
  {
   "cell_type": "code",
   "execution_count": 23,
   "id": "028874a1-99b0-43e1-b420-c850629c0dfa",
   "metadata": {},
   "outputs": [
    {
     "name": "stdout",
     "output_type": "stream",
     "text": [
      "21.028278\n"
     ]
    }
   ],
   "source": [
    "index_to_explain = 712\n",
    "image_to_explain = manifold_sampler.pivots[index_to_explain]\n",
    "\n",
    "perturb_outputs = model(perturbations.float().to(device))\n",
    "probs = nn.functional.softmax(perturb_outputs, dim = 1)\n",
    "\n",
    "original_output = model(image_to_explain.unsqueeze(0).to(device))\n",
    "original_prob = nn.functional.softmax(original_output, dim = 1)\n",
    "first_prediction, second_prediction = torch.topk(original_output, 2)[1][0]\n",
    "perturb_1st = probs[:,first_prediction.item()].cpu().detach().numpy()\n",
    "perturb_2nd = probs[:,second_prediction.item()].cpu().detach().numpy()\n",
    "\n",
    "base_embeded = manifold_sampler.transform(image_to_explain.unsqueeze(0))\n",
    "similarities = [similarity_kernel(perturb_embeded[i], base_embeded, kernel_width = SIM_SIGMA) for i in range(perturbations.shape[0])]\n",
    "repeat_shape = (perturbations.shape[0],) + tuple(np.ones(image_to_explain.ndim). astype(int))\n",
    "repeat_image_to_explain = image_to_explain.repeat(repeat_shape)\n",
    "true_perturb = perturbations - repeat_image_to_explain\n",
    "\n",
    "no_samples, channels, rows, cols = all_images.shape\n",
    "\n",
    "clf = linear_model.Ridge(alpha = 200)\n",
    "clf.fit(np.abs(true_perturb).reshape(true_perturb.shape[0], channels*rows*cols), perturb_1st, sample_weight=similarities)\n",
    "explanation_1st = -clf.coef_.reshape(rows, cols)\n",
    "clf.fit(np.abs(true_perturb).reshape(true_perturb.shape[0], channels*rows*cols), perturb_2nd, sample_weight=similarities)\n",
    "explanation_2nd = -clf.coef_.reshape(rows, cols)\n",
    "\n",
    "\n",
    "modified_image = image_to_explain.clone().numpy()\n",
    "modified_mask = gen_mask(explanation_1st - explanation_2nd)\n",
    "# modified_image[0][modified_mask==1] = np.mean(modified_image)\n",
    "modified_image[0][modified_mask==1] = 1 - modified_image[0][modified_mask==1]\n",
    "modified_image = torch.tensor(modified_image)\n",
    "modified_output = model(modified_image.unsqueeze(0).to(device))\n",
    "modified_prob = nn.functional.softmax(modified_output, dim = 1)\n",
    "\n",
    "original_log_odds = np.log(original_prob[0][first_prediction].cpu().detach().numpy()/original_prob[0][second_prediction].cpu().detach().numpy())\n",
    "modified_log_odds = np.log(modified_prob[0][first_prediction].cpu().detach().numpy()/modified_prob[0][second_prediction].cpu().detach().numpy())\n",
    "log_odds_score = original_log_odds - modified_log_odds\n",
    "\n",
    "print(log_odds_score)"
   ]
  },
  {
   "cell_type": "code",
   "execution_count": 24,
   "id": "d36b6836-79e4-460a-b921-8a9974a84f35",
   "metadata": {},
   "outputs": [
    {
     "data": {
      "text/plain": [
       "<matplotlib.image.AxesImage at 0x2b8ce65b1b20>"
      ]
     },
     "execution_count": 24,
     "metadata": {},
     "output_type": "execute_result"
    },
    {
     "data": {
      "image/png": "[encoded data removed]",
      "text/plain": [
       "<Figure size 432x288 with 1 Axes>"
      ]
     },
     "metadata": {
      "needs_background": "light"
     },
     "output_type": "display_data"
    }
   ],
   "source": [
    "plt.imshow(image_to_explain[0])"
   ]
  },
  {
   "cell_type": "code",
   "execution_count": 26,
   "id": "6bf4254b-a792-497f-b927-fff6ac64a63d",
   "metadata": {},
   "outputs": [
    {
     "data": {
      "text/plain": [
       "<matplotlib.image.AxesImage at 0x2b8ce6621760>"
      ]
     },
     "execution_count": 26,
     "metadata": {},
     "output_type": "execute_result"
    },
    {
     "data": {
      "image/png": "[encoded data removed]",
      "text/plain": [
       "<Figure size 432x288 with 1 Axes>"
      ]
     },
     "metadata": {
      "needs_background": "light"
     },
     "output_type": "display_data"
    }
   ],
   "source": [
    "plt.imshow(explanation_1st, cmap = 'bwr')"
   ]
  },
  {
   "cell_type": "code",
   "execution_count": 9,
   "id": "5d077f16-acdc-40b4-b0f5-cd717bfbbd10",
   "metadata": {},
   "outputs": [],
   "source": [
    "import torch\n",
    "import torch.nn.functional as F\n",
    "\n",
    "from captum.attr import visualization as viz\n",
    "from captum.attr import Lime, LimeBase\n",
    "from captum._utils.models.linear_model import SkLearnLinearRegression, SkLearnLasso\n",
    "from captum.attr._core.lime import get_exp_kernel_similarity_function\n",
    "\n",
    "import os\n",
    "import json\n"
   ]
  },
  {
   "cell_type": "code",
   "execution_count": 18,
   "id": "0a6ff969-96e6-4f85-aaec-09dccce4d864",
   "metadata": {},
   "outputs": [],
   "source": [
    "exp_eucl_distance = get_exp_kernel_similarity_function('euclidean', kernel_width=1)\n",
    "\n",
    "lr_lime = Lime(\n",
    "    model, \n",
    "    interpretable_model=SkLearnLinearRegression(),  # build-in wrapped sklearn Linear Regression\n",
    "    similarity_func=exp_eucl_distance\n",
    ")"
   ]
  },
  {
   "cell_type": "code",
   "execution_count": 19,
   "id": "8612c72d-01e8-463a-bc05-05de37fdaf93",
   "metadata": {},
   "outputs": [
    {
     "name": "stderr",
     "output_type": "stream",
     "text": [
      "Lime attribution: 100%|████████████████████████| 63/63 [00:00<00:00, 149.81it/s]\n",
      "Lime attribution: 100%|████████████████████████| 63/63 [00:00<00:00, 150.71it/s]\n"
     ]
    }
   ],
   "source": [
    "lime_1st = lr_lime.attribute(\n",
    "    image_to_explain.unsqueeze(0).to(device),\n",
    "    target=first_prediction,\n",
    "    n_samples=200,\n",
    "    perturbations_per_eval=16,\n",
    "    show_progress=False\n",
    ").squeeze(0).cpu().detach().numpy()[0]\n",
    "\n",
    "lime_2nd = lr_lime.attribute(\n",
    "    image_to_explain.unsqueeze(0).to(device),\n",
    "    target=second_prediction,\n",
    "    n_samples=200,\n",
    "    perturbations_per_eval=16,\n",
    "    show_progress=False\n",
    ").squeeze(0).cpu().detach().numpy()[0]"
   ]
  },
  {
   "cell_type": "code",
   "execution_count": 20,
   "id": "ac166f7d-b9cf-46b9-a535-777039645316",
   "metadata": {},
   "outputs": [
    {
     "name": "stdout",
     "output_type": "stream",
     "text": [
      "12.434628\n"
     ]
    }
   ],
   "source": [
    "modified_image = image_to_explain.clone().numpy()\n",
    "modified_mask = gen_mask(lime_1st - lime_2nd)\n",
    "# modified_image[0][modified_mask==1] = np.mean(modified_image)\n",
    "modified_image[0][modified_mask==1] = 1 - modified_image[0][modified_mask==1]\n",
    "modified_image = torch.tensor(modified_image)\n",
    "modified_output = model(modified_image.unsqueeze(0).to(device))\n",
    "modified_prob = nn.functional.softmax(modified_output, dim = 1)\n",
    "\n",
    "original_log_odds = np.log(original_prob[0][first_prediction].cpu().detach().numpy()/original_prob[0][second_prediction].cpu().detach().numpy())\n",
    "modified_log_odds = np.log(modified_prob[0][first_prediction].cpu().detach().numpy()/modified_prob[0][second_prediction].cpu().detach().numpy())\n",
    "log_odds_score = original_log_odds - modified_log_odds\n",
    "\n",
    "print(log_odds_score)"
   ]
  },
  {
   "cell_type": "code",
   "execution_count": 21,
   "id": "9ec91929-2a65-48d9-bdea-fa9e3a54b73b",
   "metadata": {},
   "outputs": [
    {
     "data": {
      "text/plain": [
       "<matplotlib.image.AxesImage at 0x2b3a178fa940>"
      ]
     },
     "execution_count": 21,
     "metadata": {},
     "output_type": "execute_result"
    },
    {
     "data": {
      "image/png": "[encoded data removed]",
      "text/plain": [
       "<Figure size 432x288 with 1 Axes>"
      ]
     },
     "metadata": {
      "needs_background": "light"
     },
     "output_type": "display_data"
    }
   ],
   "source": [
    "plt.imshow(modified_image[0])"
   ]
  },
  {
   "cell_type": "code",
   "execution_count": 22,
   "id": "3492aaff-c126-4ce5-96e3-97202e3bd5b1",
   "metadata": {},
   "outputs": [
    {
     "data": {
      "text/plain": [
       "<matplotlib.image.AxesImage at 0x2b3c7aff18b0>"
      ]
     },
     "execution_count": 22,
     "metadata": {},
     "output_type": "execute_result"
    },
    {
     "data": {
      "image/png": "[encoded data removed]",
      "text/plain": [
       "<Figure size 432x288 with 1 Axes>"
      ]
     },
     "metadata": {
      "needs_background": "light"
     },
     "output_type": "display_data"
    }
   ],
   "source": [
    "plt.imshow(image_to_explain[0])"
   ]
  },
  {
   "cell_type": "code",
   "execution_count": 23,
   "id": "81ad86fe-124e-461c-b3b9-ca3508fb2880",
   "metadata": {},
   "outputs": [
    {
     "data": {
      "text/plain": [
       "<matplotlib.image.AxesImage at 0x2b3c7bf4ac40>"
      ]
     },
     "execution_count": 23,
     "metadata": {},
     "output_type": "execute_result"
    },
    {
     "data": {
      "image/png": "[encoded data removed]",
      "text/plain": [
       "<Figure size 432x288 with 1 Axes>"
      ]
     },
     "metadata": {
      "needs_background": "light"
     },
     "output_type": "display_data"
    }
   ],
   "source": [
    "plt.imshow(modified_mask)"
   ]
  },
  {
   "cell_type": "code",
   "execution_count": null,
   "id": "f355cecd-db46-4304-bea5-277d763d20c2",
   "metadata": {},
   "outputs": [],
   "source": []
  }
 ],
 "metadata": {
  "kernelspec": {
   "display_name": "Python 3 (ipykernel)",
   "language": "python",
   "name": "python3"
  },
  "language_info": {
   "codemirror_mode": {
    "name": "ipython",
    "version": 3
   },
   "file_extension": ".py",
   "mimetype": "text/x-python",
   "name": "python",
   "nbconvert_exporter": "python",
   "pygments_lexer": "ipython3",
   "version": "3.8.12"
  }
 },
 "nbformat": 4,
 "nbformat_minor": 5
}
