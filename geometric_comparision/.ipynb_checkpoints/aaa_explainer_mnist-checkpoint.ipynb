{
 "cells": [
  {
   "cell_type": "code",
   "execution_count": 1,
   "id": "206c73fb-db8b-44f0-b938-f9bfa1e5970f",
   "metadata": {},
   "outputs": [
    {
     "name": "stdout",
     "output_type": "stream",
     "text": [
      "EXPERIMENT:  mnist\n",
      "MULTIPLIER:  100\n",
      "PERTURBATION_STD:  0.1\n",
      "DIM:  3\n",
      "PIVOTS:  10\n",
      "SHUFFLE:  False\n"
     ]
    }
   ],
   "source": [
    "import numpy as np\n",
    "import cv2\n",
    "import pickle\n",
    "import matplotlib.pyplot as plt\n",
    "import time\n",
    "import pandas as pd\n",
    "import argparse\n",
    "\n",
    "import torch\n",
    "import torch.nn as nn\n",
    "from torch.autograd import Variable\n",
    "\n",
    "import torchvision\n",
    "import torchvision.transforms as transforms\n",
    "\n",
    "from numpy import linalg as LA\n",
    "from sklearn.ensemble import RandomForestClassifier\n",
    "from sklearn.model_selection import train_test_split\n",
    "from sklearn import linear_model\n",
    "\n",
    "from fashion_model import FashionCNN \n",
    "\n",
    "device = torch.device(\"cuda:0\" if torch.cuda.is_available() else \"cpu\")\n",
    "\n",
    "\n",
    "def arg_parse():\n",
    "    parser = argparse.ArgumentParser(description=\"UMAP discriminator\")\n",
    "    parser.add_argument(\n",
    "            \"--exp\", dest=\"exp\", help=\"Experiments\"\n",
    "        )\n",
    "    parser.add_argument(\n",
    "            \"--std\", dest=\"std\", type=float, help=\"Perturbation std\"\n",
    "        )\n",
    "    parser.add_argument(\n",
    "        \"--multiplier\", dest=\"multiplier\", type=int, help=\"Number of times an image is perturbed\"\n",
    "    )\n",
    "    parser.add_argument(\n",
    "        \"--perturbations\", dest=\"num_perturbations\", type=int, help=\"Number of perturbations\"\n",
    "    )\n",
    "    parser.add_argument(\n",
    "        \"--dim\", dest=\"dim\", type=int, help=\"Number of low dim\"\n",
    "    )\n",
    "    parser.add_argument(\n",
    "        \"--pivots\", dest=\"pivots\", type=int, help=\"Number of pivots\"\n",
    "    )\n",
    "    parser.add_argument(\n",
    "        \"--shuffle\", dest=\"shuffle\", type=bool, help=\"Shuffle the pivots\"\n",
    "    )\n",
    "    parser.add_argument(\n",
    "            \"--train_ratio\", dest=\"train_ratio\", type=float, help=\"ratio of training for the rf\"\n",
    "        )\n",
    "    \n",
    "        \n",
    "    parser.set_defaults(\n",
    "        exp = 'fashion_mnist',\n",
    "        std = 0.1,\n",
    "        num_perturbations = 100,\n",
    "#         runs = 10,\n",
    "        multiplier = 100,\n",
    "        dim = 2,\n",
    "        pivots = 10,\n",
    "        shuffle = True,\n",
    "        train_ratio = 0.5\n",
    "    )\n",
    "    return parser.parse_args()\n",
    "\n",
    "# prog_args = arg_parse()\n",
    "\n",
    "\n",
    "EXPERIMENT = 'mnist'\n",
    "PERTURBATION_STD = 0.1\n",
    "NUM_PERTURBATIONS = 100\n",
    "MULTIPLIER = 100\n",
    "DIM = 3\n",
    "PIVOTS = 10\n",
    "SHUFFLE = False\n",
    "TRAIN_RATIO = 0.5\n",
    "\n",
    "print(\"EXPERIMENT: \", EXPERIMENT)\n",
    "print(\"MULTIPLIER: \", MULTIPLIER)\n",
    "print(\"PERTURBATION_STD: \", PERTURBATION_STD)\n",
    "print(\"DIM: \", DIM)\n",
    "print(\"PIVOTS: \", PIVOTS)\n",
    "print(\"SHUFFLE: \", SHUFFLE)"
   ]
  },
  {
   "cell_type": "code",
   "execution_count": 2,
   "id": "86971cc0-ced7-4340-b61a-02e458c96194",
   "metadata": {},
   "outputs": [
    {
     "name": "stdout",
     "output_type": "stream",
     "text": [
      "Loading mnist\n",
      "Done loading\n"
     ]
    }
   ],
   "source": [
    "if EXPERIMENT == 'fashion_mnist':\n",
    "    print(\"Loading fashion mnist\")\n",
    "    train_set = torchvision.datasets.FashionMNIST(\"./data\", download=True, transform=\n",
    "                                                    transforms.Compose([transforms.ToTensor()]))\n",
    "    test_set = torchvision.datasets.FashionMNIST(\"./data\", download=True, train=False, transform=\n",
    "                                                   transforms.Compose([transforms.ToTensor()]))\n",
    "elif EXPERIMENT == 'mnist':\n",
    "    print(\"Loading mnist\")\n",
    "    train_set = torchvision.datasets.MNIST(\"./data\", download=True, transform=\n",
    "                                                    transforms.Compose([transforms.ToTensor()]))\n",
    "    test_set = torchvision.datasets.MNIST(\"./data\", download=True, train=False, transform=\n",
    "                                                   transforms.Compose([transforms.ToTensor()]))\n",
    "else:\n",
    "    print(\"Nothing to do.\")\n",
    "    \n",
    "print(\"Done loading\")\n",
    "    \n",
    "train_loader = torch.utils.data.DataLoader(train_set, \n",
    "                                           batch_size=100)\n",
    "test_loader = torch.utils.data.DataLoader(test_set,\n",
    "                                          batch_size=100)\n",
    "\n",
    "\n",
    "all_loader = torch.utils.data.DataLoader(train_set, batch_size=train_set.__len__())\n",
    "all_images, all_labels = next(iter(all_loader))\n"
   ]
  },
  {
   "cell_type": "code",
   "execution_count": 3,
   "id": "05029d88-aeec-4fe3-8a0e-8b676f294647",
   "metadata": {},
   "outputs": [],
   "source": [
    "import numpy as np\n",
    "import torch\n",
    "import random\n",
    "from sklearn import linear_model\n",
    "import umap\n",
    "\n",
    "def normalize(v, r):\n",
    "    return v/np.sqrt(np.sum(v**2))*r\n",
    "\n",
    "class Manifold_Image_Sampler(object):\n",
    "    # Expect torch data\n",
    "    def __init__(self, data, dim = 2, random_state = 1,\n",
    "                labels = None,\n",
    "                std_train = 0.2):\n",
    "        \"\"\"Init function.\n",
    "\n",
    "        Args:\n",
    "            data: traning data\n",
    "        \"\"\"\n",
    "        self.data = data\n",
    "        self.dim = dim\n",
    "        self.std_train = std_train\n",
    "        self.no_training, self.channels, self.rows, self.cols = self.data.shape\n",
    "        self.data_min = torch.min(self.data)\n",
    "        self.data_max = torch.max(self.data)\n",
    "        data_1d = data.reshape((self.no_training, self.channels*self.rows*self.cols))\n",
    "        self.mapper = umap.UMAP(n_components = self.dim, random_state = random_state)\n",
    "        self.mapper.fit(data_1d)\n",
    "        self.labels = labels\n",
    "        self.pivots = None\n",
    "        self.planes = None\n",
    "        \n",
    "    def get_pivots(self, labels, no_pivots_per_label = 1, shuffle = False, target_labels = None):        \n",
    "        if target_labels == None:\n",
    "            target_labels = torch.unique(labels)\n",
    "        \n",
    "        buff = []\n",
    "        for l in target_labels:\n",
    "            all_idx = (labels == l).nonzero(as_tuple=False)\n",
    "\n",
    "            if shuffle == False:\n",
    "                idx = all_idx[range(no_pivots_per_label)]\n",
    "            else:\n",
    "                idx = all_idx[random.sample(range(len(all_idx)),no_pivots_per_label )]\n",
    "            \n",
    "            for i in idx:\n",
    "                buff.append(i)\n",
    "        buff = [buff[i].cpu().detach().numpy()[0] for i in range(len(buff))]\n",
    "            \n",
    "        self.pivots = self.data[buff].clone()\n",
    "        return buff\n",
    "    \n",
    "    def transform(self, x_data):\n",
    "#         Expect [N,c,l,w] data \n",
    "        no_data, channels, rows, cols = x_data.shape\n",
    "        return self.mapper.transform(x_data.reshape(no_data, channels*rows*cols))\n",
    "\n",
    "    def inv_transform(self, low_data):\n",
    "#         Expect [N,d] data\n",
    "        no_data, low_dim = low_data.shape\n",
    "\n",
    "        assert low_dim == self.dim, \"Mismatched dimension\"\n",
    "\n",
    "        inv_1d_imgs = self.mapper.inverse_transform(low_data)\n",
    "        inv_imgs = inv_1d_imgs.reshape((no_data, self.channels, self.rows, self.cols))\n",
    "\n",
    "        return inv_imgs\n",
    "    \n",
    "    def get_G_from_samples(self, x_sample):\n",
    "        matA = self.mapper.transform(self.to_1d(x_sample.cpu().detach().numpy()))\n",
    "        matB = self.to_1d(x_sample.cpu().detach().numpy())\n",
    "        Xt = np.transpose(matA)\n",
    "        XtX = np.dot(Xt,matA)\n",
    "        Xty = np.dot(Xt,matB)\n",
    "        matG = np.linalg.solve(XtX,Xty)\n",
    "        return matG\n",
    "    \n",
    "    def get_G_from_pivots(self):\n",
    "        matA = self.mapper.transform(self.to_1d(self.pivots.cpu().detach().numpy()))\n",
    "        matB = self.to_1d(self.pivots.cpu().detach().numpy())\n",
    "        Xt = np.transpose(matA)\n",
    "        XtX = np.dot(Xt,matA)\n",
    "        Xty = np.dot(Xt,matB)\n",
    "        matG = np.linalg.solve(XtX,Xty)\n",
    "        return matG\n",
    "    \n",
    "    def to_1d(self, data):\n",
    "        return data.reshape((data.shape[0], self.channels*self.rows*self.cols))\n",
    "\n",
    "    def to_3d(self, data):\n",
    "        return data.reshape((data.shape[0], self.channels, self.rows, self.cols))\n"
   ]
  },
  {
   "cell_type": "code",
   "execution_count": 4,
   "id": "ec337cc8-e048-4869-9b04-9592aa6a1230",
   "metadata": {},
   "outputs": [],
   "source": [
    "RUNS = 10\n",
    "TARGET = 2"
   ]
  },
  {
   "cell_type": "code",
   "execution_count": 5,
   "id": "0bdd1365-c4f9-4cbd-84a8-f30d99b0c12a",
   "metadata": {},
   "outputs": [
    {
     "name": "stdout",
     "output_type": "stream",
     "text": [
      "Initialize duration:  231.08344864845276\n"
     ]
    }
   ],
   "source": [
    "start_time = time.time()\n",
    "manifold_sampler = Manifold_Image_Sampler(all_images, dim = DIM, labels = all_labels)\n",
    "duration = time.time() - start_time\n",
    "print(\"Initialize duration: \", duration)\n",
    "\n",
    "if TARGET == None:\n",
    "    targets = np.array(torch.unique(all_labels))\n",
    "    target_str = 'all'\n",
    "else:\n",
    "    targets = [TARGET]\n",
    "    target_str = str(TARGET)\n",
    "\n",
    "# Get the hyperplanes\n",
    "_ = manifold_sampler.get_pivots(manifold_sampler.labels, MULTIPLIER, shuffle = SHUFFLE, target_labels=targets)\n",
    "manifold_G = manifold_sampler.get_G_from_pivots()\n",
    "Gu, Gd, Gv = np.linalg.svd(manifold_G, full_matrices=False)"
   ]
  },
  {
   "cell_type": "code",
   "execution_count": 6,
   "id": "9da9f393-54bc-4cdc-b779-226ca086a853",
   "metadata": {},
   "outputs": [],
   "source": [
    "def norm_compute(v):\n",
    "    return np.sqrt(np.sum(v**2))\n",
    "\n",
    "def get_discriminator(X,y,n_estimators = 100):\n",
    "    the_rf = RandomForestClassifier(n_estimators=n_estimators).fit(X, y)\n",
    "    y_pred = the_rf.predict(X)\n",
    "    the_rf_result = (y_pred == y).sum()\n",
    "    return the_rf, the_rf_result/y.shape[0]\n",
    "\n",
    "def get_discriminator_performance(X,y,rf):\n",
    "    y_pred = rf.predict(X)\n",
    "    the_rf_result = (y_pred == y).sum()\n",
    "    return the_rf_result/y.shape[0]"
   ]
  },
  {
   "cell_type": "code",
   "execution_count": 196,
   "id": "b891de04-dc0c-486f-bf62-8546c53c6cbd",
   "metadata": {},
   "outputs": [],
   "source": [
    "factor = 0.01\n",
    "RADIUS = 2 * factor\n",
    "base_RADIUS = 1 * factor "
   ]
  },
  {
   "cell_type": "code",
   "execution_count": 197,
   "id": "6ad13a4e-8c51-4b26-b1f4-87c52c0b38ef",
   "metadata": {},
   "outputs": [
    {
     "name": "stdout",
     "output_type": "stream",
     "text": [
      "Gauss:\n",
      "1.0\n",
      "Plane:\n",
      "0.92\n",
      "Ortho:\n",
      "1.0\n"
     ]
    }
   ],
   "source": [
    "# start_time = time.time()\n",
    "base_gauss_ = np.random.normal(0, 1, size=manifold_sampler.pivots.shape)\n",
    "r = np.random.uniform()*base_RADIUS\n",
    "base_gauss_norm = normalize(base_gauss_, r)\n",
    "base_pc = manifold_sampler.to_1d(manifold_sampler.pivots + base_gauss_norm) \n",
    "\n",
    "gauss_ = np.random.normal(0, 1, size=manifold_sampler.pivots.shape)\n",
    "gauss_noise = manifold_sampler.to_1d(gauss_)\n",
    "plane_noise = np.zeros_like(gauss_noise)\n",
    "for d in range(Gv.shape[0]):\n",
    "    proj = np.dot(gauss_noise, Gv[d])\n",
    "    for s in range(plane_noise.shape[0]):\n",
    "        plane_noise[s] = plane_noise[s] + proj[s]*Gv[d]        \n",
    "ortho_noise = gauss_noise - plane_noise\n",
    "\n",
    "# noise\n",
    "r = np.random.uniform()*RADIUS\n",
    "ortho_norm = normalize(ortho_noise, r)\n",
    "plane_norm = normalize(plane_noise, r)\n",
    "gauss_norm = normalize(gauss_noise, r)\n",
    "\n",
    "# point clouds\n",
    "ortho_pc = base_pc + ortho_norm\n",
    "plane_pc = base_pc + plane_norm\n",
    "gauss_pc = base_pc + gauss_norm\n",
    "# ortho_pc = manifold_sampler.to_1d(manifold_sampler.pivots) + ortho_norm\n",
    "# plane_pc = manifold_sampler.to_1d(manifold_sampler.pivots) + plane_norm\n",
    "# gauss_pc = manifold_sampler.to_1d(manifold_sampler.pivots) + gauss_norm\n",
    "\n",
    "ori_pc = manifold_sampler.to_1d(manifold_sampler.pivots).cpu().detach().numpy()\n",
    "base_pc = base_pc.cpu().detach().numpy()\n",
    "ortho_pc = ortho_pc.cpu().detach().numpy()\n",
    "plane_pc = plane_pc.cpu().detach().numpy()\n",
    "gauss_pc = gauss_pc.cpu().detach().numpy()\n",
    "\n",
    "# base_pc = ori_pc\n",
    "\n",
    "X_discriminator_gauss = np.vstack((base_pc[::2], gauss_pc[::2]))\n",
    "X_discriminator_plane = np.vstack((base_pc[::2], plane_pc[::2]))\n",
    "X_discriminator_ortho = np.vstack((base_pc[::2], ortho_pc[::2]))\n",
    "y_discriminator = np.concatenate((np.zeros(ori_pc[::2].shape[0]), np.ones(ori_pc[::2].shape[0])))\n",
    "\n",
    "the_rf_gauss, train_acc_gauss = get_discriminator(X_discriminator_gauss, y_discriminator, n_estimators = 100)\n",
    "the_rf_plane, train_acc_plane = get_discriminator(X_discriminator_plane, y_discriminator, n_estimators = 100)\n",
    "the_rf_ortho, train_acc_ortho = get_discriminator(X_discriminator_ortho, y_discriminator, n_estimators = 100)\n",
    "\n",
    "print(\"Gauss:\")\n",
    "# print(train_acc_gauss)\n",
    "print(get_discriminator_performance(gauss_pc[1::2], np.ones(gauss_pc[1::2].shape[0]) , the_rf_gauss))\n",
    "# print(get_discriminator_performance(base_pc, np.zeros(base_pc.shape[0]) , the_rf_gauss))\n",
    "\n",
    "print(\"Plane:\")\n",
    "# print(train_acc_plane)\n",
    "print(get_discriminator_performance(plane_pc[1::2], np.ones(plane_pc[1::2].shape[0]) , the_rf_plane))\n",
    "# print(get_discriminator_performance(base_pc, np.zeros(base_pc.shape[0]) , the_rf_plane))\n",
    "\n",
    "print(\"Ortho:\")\n",
    "# print(train_acc_ortho)\n",
    "print(get_discriminator_performance(ortho_pc[1::2], np.ones(ortho_pc[1::2].shape[0]) , the_rf_ortho))\n",
    "# print(get_discriminator_performance(base_pc, np.zeros(base_pc.shape[0]) , the_rf_ortho))"
   ]
  },
  {
   "cell_type": "code",
   "execution_count": 182,
   "id": "62005aff-8f92-406d-b1ab-f8575deec35b",
   "metadata": {},
   "outputs": [],
   "source": [
    "# print(norm_compute(base_pc-ortho_pc))\n",
    "# print(norm_compute(base_pc-plane_pc))\n",
    "# print(norm_compute(base_pc-gauss_pc))"
   ]
  },
  {
   "cell_type": "code",
   "execution_count": 198,
   "id": "8c8cfa83-ae16-4d7b-84f5-6ef0293e5c24",
   "metadata": {},
   "outputs": [],
   "source": [
    "# # base_pc = ori_pc\n",
    "\n",
    "# X_discriminator_gauss = np.vstack((base_pc[::2], gauss_pc[::2]))\n",
    "# X_discriminator_plane = np.vstack((base_pc[::2], plane_pc[::2]))\n",
    "# X_discriminator_ortho = np.vstack((base_pc[::2], ortho_pc[::2]))\n",
    "# y_discriminator = np.concatenate((np.zeros(ori_pc[::2].shape[0]), np.ones(ori_pc[::2].shape[0])))\n",
    "\n",
    "# the_rf_gauss, train_acc_gauss = get_discriminator(X_discriminator_gauss, y_discriminator, n_estimators = 100)\n",
    "# the_rf_plane, train_acc_plane = get_discriminator(X_discriminator_plane, y_discriminator, n_estimators = 100)\n",
    "# the_rf_ortho, train_acc_ortho = get_discriminator(X_discriminator_ortho, y_discriminator, n_estimators = 100)\n",
    "\n",
    "# print(\"Gauss:\")\n",
    "# # print(train_acc_gauss)\n",
    "# print(get_discriminator_performance(gauss_pc[1::2], np.ones(gauss_pc[1::2].shape[0]) , the_rf_gauss))\n",
    "# print(get_discriminator_performance(base_pc, np.zeros(base_pc.shape[0]) , the_rf_gauss))\n",
    "\n",
    "# print(\"Plane:\")\n",
    "# # print(train_acc_plane)\n",
    "# print(get_discriminator_performance(plane_pc[1::2], np.ones(plane_pc[1::2].shape[0]) , the_rf_plane))\n",
    "# print(get_discriminator_performance(base_pc, np.zeros(base_pc.shape[0]) , the_rf_plane))\n",
    "\n",
    "# print(\"Ortho:\")\n",
    "# # print(train_acc_ortho)\n",
    "# print(get_discriminator_performance(ortho_pc[1::2], np.ones(ortho_pc[1::2].shape[0]) , the_rf_ortho))\n",
    "# print(get_discriminator_performance(base_pc, np.zeros(base_pc.shape[0]) , the_rf_ortho))"
   ]
  },
  {
   "cell_type": "code",
   "execution_count": 199,
   "id": "1c611903-2b05-4fc3-91fd-1c713532c5b8",
   "metadata": {},
   "outputs": [
    {
     "data": {
      "text/plain": [
       "<matplotlib.image.AxesImage at 0x2b195094dbe0>"
      ]
     },
     "execution_count": 199,
     "metadata": {},
     "output_type": "execute_result"
    },
    {
     "data": {
      "image/png": "[encoded data removed]",
      "text/plain": [
       "<Figure size 432x288 with 1 Axes>"
      ]
     },
     "metadata": {
      "needs_background": "light"
     },
     "output_type": "display_data"
    },
    {
     "data": {
      "image/png": "[encoded data removed]",
      "text/plain": [
       "<Figure size 432x288 with 1 Axes>"
      ]
     },
     "metadata": {
      "needs_background": "light"
     },
     "output_type": "display_data"
    },
    {
     "data": {
      "image/png": "[encoded data removed]",
      "text/plain": [
       "<Figure size 432x288 with 1 Axes>"
      ]
     },
     "metadata": {
      "needs_background": "light"
     },
     "output_type": "display_data"
    }
   ],
   "source": [
    "rf_imp = the_rf_gauss.feature_importances_\n",
    "rf_imp_3d = rf_imp.reshape((28,28))\n",
    "plt.figure()\n",
    "plt.imshow(rf_imp_3d)\n",
    "\n",
    "rf_imp = the_rf_plane.feature_importances_\n",
    "rf_imp_3d = rf_imp.reshape((28,28))\n",
    "plt.figure()\n",
    "plt.imshow(rf_imp_3d)\n",
    "\n",
    "rf_imp = the_rf_ortho.feature_importances_\n",
    "rf_imp_3d = rf_imp.reshape((28,28))\n",
    "plt.figure()\n",
    "plt.imshow(rf_imp_3d)"
   ]
  },
  {
   "cell_type": "code",
   "execution_count": null,
   "id": "b929e0fb-0934-4920-8c02-706ea2db9311",
   "metadata": {},
   "outputs": [],
   "source": []
  }
 ],
 "metadata": {
  "kernelspec": {
   "display_name": "Python 3 (ipykernel)",
   "language": "python",
   "name": "python3"
  },
  "language_info": {
   "codemirror_mode": {
    "name": "ipython",
    "version": 3
   },
   "file_extension": ".py",
   "mimetype": "text/x-python",
   "name": "python",
   "nbconvert_exporter": "python",
   "pygments_lexer": "ipython3",
   "version": "3.8.10"
  }
 },
 "nbformat": 4,
 "nbformat_minor": 5
}
